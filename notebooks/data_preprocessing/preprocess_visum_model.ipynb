{
 "cells": [
  {
   "cell_type": "markdown",
   "metadata": {},
   "source": [
    "\n",
    "*Technical University of Munich<br>\n",
    "Professorship of Environmental Sensing and Modeling<br><br>*\n",
    "**Author:**  Daniel Kühbacher<br>\n",
    "**Date:**  26.01.2024\n",
    "\n",
    "--- \n",
    "\n",
    "# VISUM Model Preprocessing\n",
    "\n",
    "<!--Notebook description and usage information-->\n",
    "This notebook processes the raw VISUM traffic model export and converts the data into *.gpkg files."
   ]
  },
  {
   "cell_type": "code",
   "execution_count": 1,
   "metadata": {},
   "outputs": [],
   "source": [
    "import sys\n",
    "import geopandas as gpd\n",
    "\n",
    "# import custom modules\n",
    "sys.path.append('../../utils/')\n",
    "import data_paths\n",
    "from excel_calendar import Calendar\n",
    "from traffic_counts import TrafficCounts"
   ]
  },
  {
   "cell_type": "markdown",
   "metadata": {},
   "source": [
    "## Import VISUM traffic model data\n",
    "\n",
    "The VISUM traffic model provides geoinformation for every road in the region of interest. This includes the indicated speed, the road gradient, road type, hour capacity and the daily average traffic of different vehicle classes.<br>\n",
    "Additionally, origin-destination matricies, a fundamental input for macroscopic traffic models, are imported. These include the number of starts within the region and will be used to determine cold start emissions."
   ]
  },
  {
   "cell_type": "code",
   "execution_count": 2,
   "metadata": {},
   "outputs": [
    {
     "name": "stdout",
     "output_type": "stream",
     "text": [
      "Coordinate reference system of VISUM link data: EPSG:25832\n",
      "Coordinate reference system of VISUM zones data: EPSG:25832\n"
     ]
    }
   ],
   "source": [
    "# import visum data\n",
    "visum_link_path = data_paths.VISUM_FOLDER_PATH + \"analyse_2019_link.SHP\"\n",
    "visum_zone_path = data_paths.VISUM_FOLDER_PATH + \"analyse_2019_zone.SHP\"\n",
    "\n",
    "visum_links = gpd.read_file(visum_link_path)\n",
    "visum_zones = gpd.read_file(visum_zone_path)\n",
    "\n",
    "print(f\"Coordinate reference system of VISUM link data: {visum_links.crs}\")\n",
    "print(f\"Coordinate reference system of VISUM zones data: {visum_zones.crs}\")"
   ]
  },
  {
   "cell_type": "markdown",
   "metadata": {},
   "source": [
    "## Notebook functions"
   ]
  },
  {
   "cell_type": "code",
   "execution_count": 3,
   "metadata": {},
   "outputs": [],
   "source": [
    "def hbefa_road_type(visum_typeno, speed) -> str: \n",
    "    \"\"\"returns hbefa compatible road type for all road types in the visum traffic model of Munich.\n",
    "    The information below was collected from the official documentation of the VIUSM model and \n",
    "    matched to HBEFA types. Further processing might be necessary if not all road types are used.\n",
    "    \n",
    "    0-10: gesperrte und fiktive Strecken sowie Fuß- und Radwege\n",
    "    100-199: Autobahnen\n",
    "    200-299: Bundesstraßen\n",
    "    300-399: Staatsstraßen\n",
    "    400-499: Kreisstraßen\n",
    "    500-599: Gemeindestraßen\n",
    "    600-699: Hauptstraßen (innerorts)\n",
    "    700-799: Erschließungsstraßen\n",
    "    800-899: Mittlerer Ring\n",
    "    900-999: ÖV Strecken\n",
    "\n",
    "    Args:\n",
    "        visum_typeno (string object): defines the road type in the VISUM model\n",
    "\n",
    "    Returns:\n",
    "        str: HBEFA compatible road type\n",
    "    \"\"\"\n",
    "    \n",
    "    int_typeno = int(visum_typeno)\n",
    "    \n",
    "    if 0 <= int_typeno <=10: \n",
    "        return 'none'\n",
    "    if 100 <= int_typeno <=199:\n",
    "        return 'Motorway-Nat'\n",
    "    if 200 <= int_typeno <=499:\n",
    "        if speed >=70: \n",
    "            return 'TrunkRoad/Primary-National'\n",
    "        else:\n",
    "            return 'Distributor/Secondary'\n",
    "    if 500 <= int_typeno <=699: \n",
    "        return 'Distributor/Secondary'\n",
    "    if 700 <= int_typeno <=799: \n",
    "        return 'Access-residential'\n",
    "    if 800 <= int_typeno <=899: \n",
    "        return 'TrunkRoad/Primary-City'\n",
    "    if 900 <= int_typeno <=999: \n",
    "        return 'none'\n",
    "    else: \n",
    "        return 'none'"
   ]
  },
  {
   "cell_type": "code",
   "execution_count": 4,
   "metadata": {},
   "outputs": [],
   "source": [
    "def hbefa_road_gradients(visum_gradient) -> str:\n",
    "    \"\"\"Converts any road gradient value to the closest gradient \n",
    "    value available in HBEFA and returns it as a string.\n",
    "\n",
    "    Args:\n",
    "        road_gradient(float): Slope of the road\n",
    "\n",
    "    Returns:\n",
    "        str: road gradient string (e.g., '+6%')\n",
    "    \"\"\"\n",
    "    hbefa_gradients = [-6, -4, -2, 0, 2, 4, 6]\n",
    "    \n",
    "    hbefa_gradient = min(hbefa_gradients, key=lambda x: abs(x - visum_gradient))\n",
    "    hbefa_gradient_string = str(hbefa_gradient)+'%'\n",
    "    \n",
    "    return hbefa_gradient_string"
   ]
  },
  {
   "cell_type": "code",
   "execution_count": 5,
   "metadata": {},
   "outputs": [],
   "source": [
    "def hbefa_speed_value(hbefa_road_type:str,\n",
    "                     speed:int) -> int:\n",
    "    \n",
    "        \"\"\"Converts speed value to closest speed value available in HEBFA\n",
    "\n",
    "        Args:\n",
    "            road_type (str): road type \n",
    "            speed (int): speed value\n",
    "\n",
    "        Returns:\n",
    "            int: Speed value available in HBEFA\n",
    "        \"\"\"\n",
    "        try:\n",
    "            hbefa_speed = {'Motorway-Nat': [80, 90, 100, 110, 120, 130],\n",
    "                           'Motorway-City': [60, 70, 80, 90, 100, 110],\n",
    "                           'TrunkRoad/Primary-National': [70, 80, 90, 100, 110, 120],\n",
    "                           'TrunkRoad/Primary-City': [50, 60, 70, 80, 90],\n",
    "                           'Distributor/Secondary': [30, 40, 50, 60, 70, 80],\n",
    "                           'Local/Collector': [30, 40, 50, 60],\n",
    "                           'Access-residential': [30, 40, 50]}\n",
    "            \n",
    "            hbefa_speed = min(hbefa_speed[hbefa_road_type], key=lambda x: abs(x - speed))\n",
    "            \n",
    "        except KeyError as e: \n",
    "            print('error ' + str(e))\n",
    "            print(f'Road type: {hbefa_road_type}, Speed: {speed}')\n",
    "        return hbefa_speed"
   ]
  },
  {
   "cell_type": "markdown",
   "metadata": {},
   "source": [
    "## Data processing\n",
    "- Drop columns with DTV < 1\n",
    "- Convert road type, speed and gradient to HBEFA compatible values\n",
    "- Drop columns with undefined road type\n",
    "- Rename columns"
   ]
  },
  {
   "cell_type": "code",
   "execution_count": 6,
   "metadata": {},
   "outputs": [],
   "source": [
    "# drop columns where the daily traffic ('SUMME_KFZ') is < 1 vehicle\n",
    "visum_links = visum_links.drop(visum_links.loc[(visum_links['SUMME_KFZ'] < 1)].index, axis = 0)\n",
    "\n",
    "# add road type to visum link data and drop entries with 'None' road type\n",
    "visum_links['road_type'] = visum_links.apply(lambda row: hbefa_road_type(row['TYPENO'],\n",
    "                                                                         row['V0PRT']), axis = 1)\n",
    "visum_links = visum_links.drop(visum_links.loc[(visum_links['road_type'] == 'none')].index, axis = 0)\n",
    "\n",
    "# convert road gradient values\n",
    "visum_links['hbefa_gradient'] = visum_links.apply(lambda row: hbefa_road_gradients(row['SLOPE']), axis = 1)\n",
    "\n",
    "# convert hbefa speed values\n",
    "visum_links['hbefa_speed'] = visum_links.apply(lambda row: hbefa_speed_value(speed = row['V0PRT'],\n",
    "                                                                             hbefa_road_type = row['road_type']), axis =1)\n",
    "\n",
    "# aggregate heavy vehicle rows\n",
    "visum_links['dtv_HGV'] = visum_links[['BEL_LKW_M','BEL_LKW_G']].sum(axis = 1)\n",
    "\n",
    "# rename rows\n",
    "visum_links = visum_links.rename(columns={'SUMME_KFZ' : 'dtv_SUM',\n",
    "                                          'NO' : 'road_link_id',\n",
    "                                          'BEL_PKW' : 'dtv_PC',\n",
    "                                          'BEL_LKW_K' : 'dtv_LCV',\n",
    "                                          'CAPPRT' : 'hour_capacity',\n",
    "                                          'V0PRT' : 'speed',\n",
    "                                          'NUMLANES' : 'lanes'})\n",
    "\n",
    "# reset index\n",
    "visum_links = visum_links.reset_index(drop = True)"
   ]
  },
  {
   "cell_type": "markdown",
   "metadata": {},
   "source": [
    "# Scaling road types\n",
    "Since there are no scaling factors for every road type but aggregated time profiles, a column 'scaling_road_type' is introduced to match the scaling factors with the visum model"
   ]
  },
  {
   "cell_type": "code",
   "execution_count": 7,
   "metadata": {},
   "outputs": [],
   "source": [
    "# since there are no scaling factors for every road type but aggregated time profiles, \n",
    "# a column 'scaling_road_type' is introduced to match the scaling factors with the visum model\n",
    "scaling_road_types = {'Motorway-Nat' : 'Motorway-Nat',\n",
    "                      'Motorway-City' : 'Motorway-Nat',\n",
    "                      'TrunkRoad/Primary-National' : 'Distributor/Secondary',\n",
    "                      'TrunkRoad/Primary-City' : 'TrunkRoad/Primary-City',\n",
    "                      'Distributor/Secondary' : 'Distributor/Secondary',\n",
    "                      'Local/Collector' : 'Distributor/Secondary',\n",
    "                      'Access-residential' : 'Distributor/Secondary'}\n",
    "\n",
    "visum_links['scaling_road_type'] = visum_links['road_type'].map(scaling_road_types)"
   ]
  },
  {
   "cell_type": "markdown",
   "metadata": {},
   "source": [
    "# Vehicle share correction factors\n",
    "Scaling the VISUM model by traffic counting data requires vehicle-specific counting data as provided with classified 8+1 counts. With these counts it is possible to estimate an average vehicle share for each road type, however, it is not possible to account for spatial differences. While the total traffic volume is driven by personal cars, this effect is not severe for this vehicle type. In contrast, heavy trucks and light cargo vehicle show significant inter road-type differences in vehicle share which should be accounted with a correction factor. The correction factor is based on actual shares provided by the VISUM model and counted shares from traffic counting stations. "
   ]
  },
  {
   "cell_type": "code",
   "execution_count": 8,
   "metadata": {},
   "outputs": [],
   "source": [
    "# calculate vehicle shares of the vehicle classes\n",
    "visum_links['delta_HGV'] = visum_links['dtv_HGV'] / visum_links['dtv_SUM']\n",
    "visum_links['delta_LCV'] = visum_links['dtv_LCV'] / visum_links['dtv_SUM']\n",
    "visum_links['delta_PC'] = visum_links['dtv_PC'] / visum_links['dtv_SUM']"
   ]
  },
  {
   "cell_type": "code",
   "execution_count": 10,
   "metadata": {},
   "outputs": [],
   "source": [
    "cal = Calendar()\n",
    "cycles = TrafficCounts()\n",
    "\n",
    "dates = cal.get_calendar()\n",
    "dates['combined_day_type'] = dates['date'].apply(cal.get_day_type_combined)\n",
    "normweekdays_2019 = dates [(dates['date'].between('2019-01-01','2019-12-31')) &\n",
    "                           (dates['combined_day_type'] == 0)]['date']\n",
    "\n",
    "# calculate vehicle shares on average norm weekday in 2019\n",
    "# these values are used to calculate the vehicle share correction factors\n",
    "shares_2019 = cycles.vehicle_shares.loc[:,normweekdays_2019].reset_index()\n",
    "shares_2019 = shares_2019.groupby(['scaling_road_type','vehicle_class'])[0].mean()\n",
    "\n",
    "visum_links['hgv_corr'] = visum_links.apply(\\\n",
    "    lambda row : row['delta_HGV'] / shares_2019.loc[row['scaling_road_type'],'HGV'], axis = 1)\n",
    "\n",
    "visum_links['lcv_corr'] = visum_links.apply(\\\n",
    "    lambda row : row['delta_LCV'] / shares_2019.loc[row['scaling_road_type'],'LCV'], axis = 1)"
   ]
  },
  {
   "cell_type": "markdown",
   "metadata": {},
   "source": [
    "## Distribute cold starts"
   ]
  },
  {
   "cell_type": "code",
   "execution_count": 11,
   "metadata": {},
   "outputs": [],
   "source": [
    "# add empty columns to the visum links file for cold starts\n",
    "visum_zones = visum_zones.rename(columns={'qv_pkw': 'PC_starts',\n",
    "                                          'qv_lkw_k': 'LCV_starts'})\n",
    "\n",
    "visum_links[['PC_cold_starts', 'LCV_cold_starts']] = 0.0\n",
    "\n",
    "# evenly distribute the number of starts to all road links within a buffered \n",
    "# region around the origin of starts\n",
    "buffer_distance = 1500\n",
    "\n",
    "for idx, row in visum_zones.iterrows():\n",
    "    geometry = row.geometry.buffer(buffer_distance)\n",
    "    geometry = gpd.GeoDataFrame(geometry=[row.geometry.buffer(buffer_distance)], crs=25832)\n",
    "    combined = gpd.sjoin(geometry, visum_links, how=\"right\", predicate='intersects').dropna()\n",
    "    \n",
    "    sum_dtv = combined['dtv_SUM'].sum()\n",
    "    pc_cs = visum_links.loc[combined.index, 'dtv_SUM'] * row['PC_starts']/sum_dtv\n",
    "    visum_links.loc[combined.index, 'PC_cold_starts'] += pc_cs\n",
    "    \n",
    "    lcv_cs = visum_links.loc[combined.index, 'dtv_SUM'] * row['LCV_starts']/sum_dtv\n",
    "    visum_links.loc[combined.index, 'LCV_cold_starts'] += lcv_cs"
   ]
  },
  {
   "cell_type": "markdown",
   "metadata": {},
   "source": [
    "## Save processed data"
   ]
  },
  {
   "cell_type": "code",
   "execution_count": 12,
   "metadata": {},
   "outputs": [],
   "source": [
    "links_columns_to_keep = ['road_link_id', 'road_type', 'scaling_road_type','hour_capacity',\n",
    "                         'lanes', 'hbefa_speed', 'speed', 'hbefa_gradient', 'dtv_SUM',\n",
    "                         'delta_PC', 'delta_LCV', 'delta_HGV', 'hgv_corr', 'lcv_corr', \n",
    "                         'PC_cold_starts', 'LCV_cold_starts', 'geometry']\n",
    "\n",
    "visum_links[links_columns_to_keep].to_file(data_paths.VISUM_FOLDER_PATH+'visum_links.gpkg',\n",
    "                                           driver='GPKG')"
   ]
  }
 ],
 "metadata": {
  "kernelspec": {
   "display_name": "Python 3 (ipykernel)",
   "language": "python",
   "name": "python3"
  },
  "language_info": {
   "codemirror_mode": {
    "name": "ipython",
    "version": 3
   },
   "file_extension": ".py",
   "mimetype": "text/x-python",
   "name": "python",
   "nbconvert_exporter": "python",
   "pygments_lexer": "ipython3",
   "version": "3.11.5"
  }
 },
 "nbformat": 4,
 "nbformat_minor": 4
}
