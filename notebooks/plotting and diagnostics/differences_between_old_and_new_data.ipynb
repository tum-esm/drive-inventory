{
 "cells": [
  {
   "cell_type": "code",
   "execution_count": 1,
   "id": "77bc13b4",
   "metadata": {},
   "outputs": [],
   "source": [
    "import sys\n",
    "import os\n",
    "os.environ['USE_PYGEOS'] = '0'\n",
    "\n",
    "import pandas as pd\n",
    "import numpy as np\n",
    "import geopandas as gpd\n",
    "import matplotlib.pyplot as plt\n",
    "from math import sqrt\n",
    "from scipy import stats\n",
    "from sklearn.metrics import r2_score\n",
    "\n",
    "import seaborn as sns\n",
    "\n",
    "# import custom modules\n",
    "sys.path.append('../../utils')\n",
    "import data_paths\n",
    "import traffic_counts\n",
    "import excel_calendar"
   ]
  },
  {
   "cell_type": "code",
   "execution_count": 2,
   "id": "9bb96c9d",
   "metadata": {},
   "outputs": [],
   "source": [
    "# define filename of the visum file\n",
    "cnt_path = data_paths.COUNTING_PATH\n",
    "\n",
    "old = pd.read_parquet(cnt_path  + 'counting_data_combined_old.parquet')\n",
    "new = pd.read_parquet(cnt_path  + 'counting_data_combined_until2024_v2.parquet')"
   ]
  },
  {
   "cell_type": "code",
   "execution_count": 8,
   "id": "eada79b6",
   "metadata": {},
   "outputs": [
    {
     "data": {
      "text/plain": [
       "np.int64(57)"
      ]
     },
     "execution_count": 8,
     "metadata": {},
     "output_type": "execute_result"
    }
   ],
   "source": [
    "df_old = old[old['vehicle_class']=='SUM']\n",
    "\n",
    "df_old[df_old['date'].between('2019-01-01', '2019-12-31') & (df_old['valid'])].groupby('road_type')['road_link_id'].nunique().sum()"
   ]
  },
  {
   "cell_type": "code",
   "execution_count": 9,
   "id": "3ed541f9",
   "metadata": {},
   "outputs": [
    {
     "data": {
      "text/plain": [
       "road_type\n",
       "Access-residential             1\n",
       "Distributor/Secondary         31\n",
       "Motorway-Nat                  39\n",
       "TrunkRoad/Primary-City         9\n",
       "TrunkRoad/Primary-National     2\n",
       "Name: road_link_id, dtype: int64"
      ]
     },
     "execution_count": 9,
     "metadata": {},
     "output_type": "execute_result"
    }
   ],
   "source": [
    "df_new = new[new['vehicle_class']=='SUM']\n",
    "\n",
    "df_new[df_new['date'].between('2019-01-01', '2019-12-31') & (df_new['valid'])].groupby('road_type')['road_link_id'].nunique()\n"
   ]
  },
  {
   "cell_type": "code",
   "execution_count": 112,
   "id": "14c68339",
   "metadata": {},
   "outputs": [
    {
     "data": {
      "text/plain": [
       "road_type\n",
       "Access-residential         1\n",
       "Distributor/Secondary     29\n",
       "Motorway-Nat              19\n",
       "TrunkRoad/Primary-City     8\n",
       "Name: road_link_id, dtype: int64"
      ]
     },
     "execution_count": 112,
     "metadata": {},
     "output_type": "execute_result"
    }
   ],
   "source": [
    "df_old = old[old['vehicle_class']=='SUM']\n",
    "\n",
    "df_old[df_old['date'].between('2019-01-01', '2019-12-31') & df_old['valid']].groupby('road_type')['road_link_id'].nunique()"
   ]
  },
  {
   "cell_type": "code",
   "execution_count": 113,
   "id": "1195c5ed",
   "metadata": {},
   "outputs": [],
   "source": [
    "df_new = new[new['vehicle_class']=='SUM']\n",
    "\n",
    "ivalid_rd_links = list(df_new[df_new['date'].between('2019-01-01', '2019-12-31') & (df_new['valid']==False)]['road_link_id'].unique())"
   ]
  },
  {
   "cell_type": "code",
   "execution_count": 114,
   "id": "17e5aaa5",
   "metadata": {},
   "outputs": [],
   "source": [
    "ivalid_rd_links = df_old[df_old['date'].between('2019-01-01', '2019-12-31') & (df_old['valid']==True)]['road_link_id'].unique()"
   ]
  },
  {
   "cell_type": "code",
   "execution_count": 115,
   "id": "cdca5827",
   "metadata": {},
   "outputs": [
    {
     "data": {
      "text/plain": [
       "<Axes: >"
      ]
     },
     "execution_count": 115,
     "metadata": {},
     "output_type": "execute_result"
    },
    {
     "data": {
      "image/png": "[encoded data removed]",
      "text/plain": [
       "<Figure size 640x480 with 1 Axes>"
      ]
     },
     "metadata": {},
     "output_type": "display_data"
    }
   ],
   "source": [
    "df_new.set_index(['road_link_id']).loc[ivalid_rd_links]['sqv'].hist(bins=30)"
   ]
  }
 ],
 "metadata": {
  "kernelspec": {
   "display_name": "drive-inventory",
   "language": "python",
   "name": "python3"
  },
  "language_info": {
   "codemirror_mode": {
    "name": "ipython",
    "version": 3
   },
   "file_extension": ".py",
   "mimetype": "text/x-python",
   "name": "python",
   "nbconvert_exporter": "python",
   "pygments_lexer": "ipython3",
   "version": "3.13.2"
  }
 },
 "nbformat": 4,
 "nbformat_minor": 5
}
