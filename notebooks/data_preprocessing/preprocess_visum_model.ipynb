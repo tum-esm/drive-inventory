{
 "cells": [
  {
   "cell_type": "markdown",
   "metadata": {},
   "source": [
    "\n",
    "*Technical University of Munich<br>\n",
    "Professorship of Environmental Sensing and Modeling<br><br>*\n",
    "**Author:**  Daniel Kühbacher<br>\n",
    "**Date:**  27.10.2023\n",
    "\n",
    "--- \n",
    "\n",
    "# VISUM Model Preprocessing\n",
    "\n",
    "<!--Notebook description and usage information-->\n",
    "This notebook is to process the raw VISUM traffic model export and convert the data into gpkg files."
   ]
  },
  {
   "cell_type": "code",
   "execution_count": 2,
   "metadata": {},
   "outputs": [],
   "source": [
    "import sys\n",
    "\n",
    "import pandas as pd\n",
    "import geopandas as gpd\n",
    "\n",
    "# import custom modules\n",
    "sys.path.append('../../utils/')\n",
    "import data_paths"
   ]
  },
  {
   "cell_type": "code",
   "execution_count": 3,
   "metadata": {},
   "outputs": [
    {
     "name": "stdout",
     "output_type": "stream",
     "text": [
      "Coordinate reference system of VISUM link data: EPSG:25832\n",
      "Coordinate reference system of VISUM zones data: EPSG:25832\n"
     ]
    }
   ],
   "source": [
    "# import visum data\n",
    "visum_link_path = data_paths.VISUM_FOLDER_PATH + \"analyse_2019_link.SHP\"\n",
    "visum_zone_path = data_paths.VISUM_FOLDER_PATH + \"analyse_2019_zone.SHP\"\n",
    "\n",
    "visum_links = gpd.read_file(visum_link_path)\n",
    "visum_zones = gpd.read_file(visum_zone_path)\n",
    "\n",
    "print(f\"Coordinate reference system of VISUM link data: {visum_links.crs}\")\n",
    "print(f\"Coordinate reference system of VISUM zones data: {visum_zones.crs}\")"
   ]
  },
  {
   "cell_type": "code",
   "execution_count": 4,
   "metadata": {},
   "outputs": [],
   "source": [
    "def hbefa_road_type(visum_typeno) -> str: \n",
    "    \"\"\"returns hbefa compatible road type for all road types in the visum traffic model of Munich.\n",
    "    The information below was retrieved from the official documentation of the VIUSM model and \n",
    "    matched to HBEFA types by intuition and exploration.\n",
    "    \n",
    "    0-10: gesperrte und fiktive Strecken sowie Fuß- und Radwege\n",
    "    100-199: Autobahnen\n",
    "    200-299: Bundesstraßen\n",
    "    300-399: Staatsstraßen\n",
    "    400-499: Kreisstraßen\n",
    "    500-599: Gemeindestraßen\n",
    "    600-699: Hauptstraßen (innerorts)\n",
    "    700-799: Erschließungsstraßen\n",
    "    800-899: Mittlerer Ring\n",
    "    900-999: ÖV Strecken\n",
    "\n",
    "    Args:\n",
    "        visum_typeno (string object): defines the road type in the VISUM model\n",
    "\n",
    "    Returns:\n",
    "        str: HBEFA compatible road type\n",
    "    \"\"\"\n",
    "    \n",
    "    int_typeno = int(visum_typeno)\n",
    "    \n",
    "    if 0 <= int_typeno <=10: \n",
    "        return 'none'\n",
    "    if 100 <= int_typeno <=199: \n",
    "        return 'motorway'\n",
    "    if 200 <= int_typeno <=299: \n",
    "        return 'primary-national'\n",
    "    if 300 <= int_typeno <=399: \n",
    "        return 'primary-national'\n",
    "    if 400 <= int_typeno <=499: \n",
    "        return 'secondary'\n",
    "    if 500 <= int_typeno <=599: \n",
    "        return 'collector'\n",
    "    if 600 <= int_typeno <=699: \n",
    "        return 'primary-city'\n",
    "    if 700 <= int_typeno <=799: \n",
    "        return 'residential'\n",
    "    if 800 <= int_typeno <=899: \n",
    "        return 'city-motorway'\n",
    "    if 900 <= int_typeno <=999: \n",
    "        return 'none'\n",
    "    else: \n",
    "        return 'none'"
   ]
  },
  {
   "cell_type": "code",
   "execution_count": 7,
   "metadata": {},
   "outputs": [],
   "source": [
    "# process and save vism links data\n",
    "visum_links['road_type'] = visum_links.apply(lambda row: hbefa_road_type(row['TYPENO']), axis = 1)\n",
    "visum_links.to_file(data_paths.VISUM_FOLDER_PATH+'visum_links.gpkg', driver='GPKG')"
   ]
  }
 ],
 "metadata": {
  "kernelspec": {
   "display_name": ".venv",
   "language": "python",
   "name": "python3"
  },
  "language_info": {
   "codemirror_mode": {
    "name": "ipython",
    "version": 3
   },
   "file_extension": ".py",
   "mimetype": "text/x-python",
   "name": "python",
   "nbconvert_exporter": "python",
   "pygments_lexer": "ipython3",
   "version": "3.11.5"
  }
 },
 "nbformat": 4,
 "nbformat_minor": 2
}
