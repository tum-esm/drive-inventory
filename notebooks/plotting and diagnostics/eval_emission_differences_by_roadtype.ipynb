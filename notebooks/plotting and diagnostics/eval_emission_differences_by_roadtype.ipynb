{
 "cells": [
  {
   "cell_type": "code",
   "execution_count": 1,
   "id": "56872c4c",
   "metadata": {},
   "outputs": [],
   "source": [
    "import sys\n",
    "\n",
    "import geopandas as gpd\n",
    "import pandas as pd\n",
    "\n",
    "\n",
    "sys.path.append('../../utils')\n",
    "import data_paths"
   ]
  },
  {
   "cell_type": "code",
   "execution_count": 36,
   "id": "567a2e63",
   "metadata": {},
   "outputs": [],
   "source": [
    "\n",
    "drive_inventory = gpd.read_file(data_paths.INVENTORY_PATH + 'GNFR_F_hot_CO2_2019_1km_w_roadtype.gpkg')\n",
    "drive_inventory.geometry= drive_inventory.geometry.centroid\n",
    "\n",
    "all_inventories = gpd.read_file(data_paths.abs_path + '/data/geodata/uba_tno_comparison.gpkg')\n",
    "\n",
    "# join the dominant road type column from drive inventory into all inventories\n",
    "all_inventories = gpd.sjoin(all_inventories, drive_inventory[['dominant_road_type', 'geometry']], how = 'left', predicate='intersects')\n",
    "\n",
    "# change road type '0' to None\n",
    "all_inventories['dominant_road_type'] = all_inventories['dominant_road_type'].replace('0', 'None')"
   ]
  },
  {
   "cell_type": "code",
   "execution_count": 46,
   "id": "44dc4f10",
   "metadata": {},
   "outputs": [
    {
     "data": {
      "text/html": [
       "<div>\n",
       "<style scoped>\n",
       "    .dataframe tbody tr th:only-of-type {\n",
       "        vertical-align: middle;\n",
       "    }\n",
       "\n",
       "    .dataframe tbody tr th {\n",
       "        vertical-align: top;\n",
       "    }\n",
       "\n",
       "    .dataframe thead th {\n",
       "        text-align: right;\n",
       "    }\n",
       "</style>\n",
       "<table border=\"1\" class=\"dataframe\">\n",
       "  <thead>\n",
       "    <tr style=\"text-align: right;\">\n",
       "      <th></th>\n",
       "      <th>CO2_uba</th>\n",
       "      <th>CO2_tum</th>\n",
       "      <th>CO2_tno</th>\n",
       "    </tr>\n",
       "    <tr>\n",
       "      <th>dominant_road_type</th>\n",
       "      <th></th>\n",
       "      <th></th>\n",
       "      <th></th>\n",
       "    </tr>\n",
       "  </thead>\n",
       "  <tbody>\n",
       "    <tr>\n",
       "      <th>Motorway-Nat</th>\n",
       "      <td>551.152705</td>\n",
       "      <td>512.801288</td>\n",
       "      <td>235.378830</td>\n",
       "    </tr>\n",
       "    <tr>\n",
       "      <th>Distributor/Secondary</th>\n",
       "      <td>974.318010</td>\n",
       "      <td>489.099756</td>\n",
       "      <td>488.784444</td>\n",
       "    </tr>\n",
       "    <tr>\n",
       "      <th>TrunkRoad/Primary-City</th>\n",
       "      <td>263.365537</td>\n",
       "      <td>219.535732</td>\n",
       "      <td>169.579565</td>\n",
       "    </tr>\n",
       "    <tr>\n",
       "      <th>Access-residential</th>\n",
       "      <td>94.288432</td>\n",
       "      <td>27.060401</td>\n",
       "      <td>25.058769</td>\n",
       "    </tr>\n",
       "    <tr>\n",
       "      <th>None</th>\n",
       "      <td>52.711625</td>\n",
       "      <td>0.000000</td>\n",
       "      <td>26.751767</td>\n",
       "    </tr>\n",
       "    <tr>\n",
       "      <th>SUM</th>\n",
       "      <td>1935.836310</td>\n",
       "      <td>1248.497177</td>\n",
       "      <td>945.553373</td>\n",
       "    </tr>\n",
       "  </tbody>\n",
       "</table>\n",
       "</div>"
      ],
      "text/plain": [
       "                            CO2_uba      CO2_tum     CO2_tno\n",
       "dominant_road_type                                          \n",
       "Motorway-Nat             551.152705   512.801288  235.378830\n",
       "Distributor/Secondary    974.318010   489.099756  488.784444\n",
       "TrunkRoad/Primary-City   263.365537   219.535732  169.579565\n",
       "Access-residential        94.288432    27.060401   25.058769\n",
       "None                      52.711625     0.000000   26.751767\n",
       "SUM                     1935.836310  1248.497177  945.553373"
      ]
     },
     "execution_count": 46,
     "metadata": {},
     "output_type": "execute_result"
    }
   ],
   "source": [
    "comparison = all_inventories.groupby('dominant_road_type')[['CO2_uba', 'CO2_tum', 'CO2_tno']].sum().sort_values(by='CO2_tum', ascending=False)\n",
    "comparison.loc['SUM'] = comparison.sum(axis=0)\n",
    "comparison"
   ]
  },
  {
   "cell_type": "code",
   "execution_count": null,
   "id": "45889993",
   "metadata": {},
   "outputs": [],
   "source": []
  }
 ],
 "metadata": {
  "kernelspec": {
   "display_name": "drive-inventory",
   "language": "python",
   "name": "python3"
  },
  "language_info": {
   "codemirror_mode": {
    "name": "ipython",
    "version": 3
   },
   "file_extension": ".py",
   "mimetype": "text/x-python",
   "name": "python",
   "nbconvert_exporter": "python",
   "pygments_lexer": "ipython3",
   "version": "3.13.2"
  }
 },
 "nbformat": 4,
 "nbformat_minor": 5
}
