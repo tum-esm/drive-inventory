{
 "cells": [
  {
   "cell_type": "markdown",
   "metadata": {},
   "source": [
    "\n",
    "*Technical University of Munich<br>\n",
    "Professorship of Environmental Sensing and Modeling<br><br>*\n",
    "**Author:**  Daniel Kühbacher<br>\n",
    "**Date:**  16.01.2024\n",
    "\n",
    "--- \n",
    "\n",
    "# Calculate Cold Start Excess Emissions (CSEE)\n",
    "\n",
    "<!--Notebook description and usage information-->\n",
    "This notebook is used to calculate cold start excess emissons using HBEFA emission factors. <br>\n",
    "Cold start excess emissions refer to the increased release of pollutants that occur when an engine is started from a cold state, typically when it hasn't been running for several hours. During this phase, the engine and exhaust system are not yet at optimal operating temperatures, which impairs combustion efficiency and the effectiveness of emission control devices like catalytic converters, leading to higher levels of pollutants such as carbon monoxide, hydrocarbons, and nitrogen oxides. These emissions are significantly reduced once the engine warms up.<br>\n",
    "\n",
    "HBEFA provides emission factors for Personal Cars (PC) and Light Cargo Vehicles (LCV) in the unit *\"gramm/start\"*.<br>\n",
    "The following parameters can be set:\n",
    "- Ambient temperature \n",
    "- Trip length \n",
    "- Parking hours (to determine how hot the engine is before the starting process)\n",
    "\n",
    "Since city-specific information on trip lenght or parking hours is generally not available, average values for these parameters are provided as well. Temperature information can be retrieved from local weather stations.\n",
    "\n",
    "## Required input\n",
    "- Total number daily vehicle starts in the area of interest. This information can be found in traffic models as it constitutes a major input parameter for traffic modeling.\n",
    "- Hourly ambient temperature for the region of interest.\n",
    "- Temporal activity profile for extrapolation of the dialy vehicle starts to the whole year\n",
    "\n",
    "## Output\n",
    "Total vehicle cold start excess emissions for the area and timeframe of interest. \n",
    "\n"
   ]
  },
  {
   "cell_type": "code",
   "execution_count": 1,
   "metadata": {},
   "outputs": [],
   "source": [
    "# import libraries\n",
    "import sys\n",
    "import os\n",
    "os.environ['USE_PYGEOS'] = '0'\n",
    "\n",
    "import pandas as pd\n",
    "import geopandas as gpd\n",
    "\n",
    "# import custom modules\n",
    "sys.path.append('../utils')\n",
    "import data_paths\n",
    "import traffic_counts\n",
    "from hbefa_cold_emissions import HbefaColdEmissions\n",
    "\n",
    "from lmu_meteo_api import interface\n",
    "from datetime import datetime\n",
    "\n",
    "# Reload local modules on changes\n",
    "%reload_ext autoreload\n",
    "%autoreload 2"
   ]
  },
  {
   "cell_type": "markdown",
   "metadata": {},
   "source": [
    "# Notebook Settings"
   ]
  },
  {
   "cell_type": "code",
   "execution_count": 3,
   "metadata": {},
   "outputs": [],
   "source": [
    "# emission components to be calculated\n",
    "components = ['NOx','PM', 'CO2(rep)', 'CO2(total)',\n",
    "              'NO2', 'CH4', 'NMHC', 'PM2.5',\n",
    "              'BC (exhaust)','CO'] \n",
    "\n",
    "# Define start and end time for emission calculation\n",
    "start_date = datetime(2022, 1, 1)\n",
    "end_date = datetime(2022, 12, 31)\n",
    "\n",
    "# define filename of the visum file\n",
    "visum_filename = \"visum_links.GPKG\"\n",
    "\n",
    "# if True, the script will only calculate the emission for the area within the roi polygon\n",
    "clip_to_area = True\n",
    "roi_polygon = data_paths.MUNICH_BOARDERS_FILE # defines ROI for clipping\n",
    "\n",
    "# defines the scaling road type for temporal extrapolation\n",
    "reference_scaling_road_class = 'Distributor/Secondary'\n",
    "\n",
    "###\n",
    "#\n",
    "# STORE RESULTS\n",
    "#\n",
    "###\n",
    "\n",
    "store_result = False\n",
    "store_path = data_paths.INVENTORY_PATH\n",
    "def store_filename(year:str):\n",
    "    return f'linesource_all_munich_{year}_cold.gpkg'\n",
    "\n",
    "# store temporal profiles\n",
    "store_temporal_profiles = False\n",
    "def store_temporal_filename(year:str, vehicle_class:str):\n",
    "    return f'{year}_{vehicle_class}_temporal_profiles_cold_start.csv'"
   ]
  },
  {
   "cell_type": "markdown",
   "metadata": {},
   "source": [
    "## Import data"
   ]
  },
  {
   "cell_type": "code",
   "execution_count": 4,
   "metadata": {},
   "outputs": [],
   "source": [
    "# import visum O-D matricies\n",
    "visum_links = gpd.read_file(data_paths.VISUM_FOLDER_PATH + visum_filename,\n",
    "                            driver = 'GPKG')\n",
    "\n",
    "# calculate starts per squaremeter before gridding\n",
    "visum_links['PC_starts_per_meter'] = visum_links['PC_cold_starts'] / visum_links['geometry'].length\n",
    "visum_links['LCV_starts_per_meter'] = visum_links['LCV_cold_starts'] / visum_links['geometry'].length\n",
    "\n",
    "if clip_to_area:\n",
    "    roi = gpd.read_file(roi_polygon).to_crs(visum_links.crs)\n",
    "    visum_links = gpd.clip(visum_links, roi)\n",
    "    visum_links = visum_links.explode(ignore_index=True) # convert multipolygons to polygons"
   ]
  },
  {
   "cell_type": "markdown",
   "metadata": {},
   "source": [
    "## Notebook functions"
   ]
  },
  {
   "cell_type": "code",
   "execution_count": 5,
   "metadata": {},
   "outputs": [],
   "source": [
    "# function to generate annual temperature profile from lmu meteo data in Munich\n",
    "def annual_temperature_profile(start_date:datetime, \n",
    "                               end_date:datetime,\n",
    "                               aggregate = 'H') -> pd.Series:\n",
    "    \"\"\"Downloads meteo data from the LMU Meteo station and returns a dataframe \n",
    "    with hourly temperatures for Munich\n",
    "\n",
    "    Args:\n",
    "        year (int): Year\n",
    "        aggregate (str, optional): aggregate to specified timeframe. Defaults to 'H'.\n",
    "\n",
    "    Returns:\n",
    "        pd.Series: temperature profile\n",
    "    \"\"\"\n",
    "    \n",
    "    start_time = start_date.strftime('%Y-%m-%d') + 'T00-00-00'\n",
    "    end_time = end_date.strftime('%Y-%m-%d') + 'T23-59-59'\n",
    "    \n",
    "    if datetime.strptime(end_time, '%Y-%m-%dT%H-%M-%S').date() > datetime.now().date():\n",
    "        end_time = datetime.now().strftime('%Y-%m-%dT%H-%M-%S')\n",
    "    \n",
    "    lmu_api = interface.meteo_data()\n",
    "    data = lmu_api.get_meteo_data(parameters = [\"air_temperature_2m\"], \n",
    "                                station_id = 'MIM01', \n",
    "                                start_time = start_time, \n",
    "                                end_time = end_time)\n",
    "    \n",
    "    return (data.air_temperature_2m - 273.15).resample(aggregate).mean()"
   ]
  },
  {
   "cell_type": "markdown",
   "metadata": {},
   "source": [
    "## Initialize objects and download temperature data"
   ]
  },
  {
   "cell_type": "code",
   "execution_count": 6,
   "metadata": {},
   "outputs": [
    {
     "name": "stdout",
     "output_type": "stream",
     "text": [
      "Loaded emission factors from /Users/daniel_tum/Documents/code/traffic inventory v2/traffic-emission-inventory/data/restricted_input/hbefa/EFA_ColdStart_hbefa.txt\n"
     ]
    }
   ],
   "source": [
    "# import trafic data, download temperature data and instatiate cold start emission object\n",
    "\n",
    "# instanciate traffic count object\n",
    "cycles = traffic_counts.TrafficCounts()\n",
    "\n",
    "# download temperature data \n",
    "temperature = annual_temperature_profile(start_date=start_date,\n",
    "                                         end_date=end_date) \n",
    "\n",
    "# instanciate cold start emission object\n",
    "cs_obj = HbefaColdEmissions(components=components)"
   ]
  },
  {
   "cell_type": "markdown",
   "metadata": {},
   "source": [
    "## Calculate total emissions for Munich"
   ]
  },
  {
   "cell_type": "code",
   "execution_count": 7,
   "metadata": {},
   "outputs": [],
   "source": [
    "# caclulate daily total cold start emissions based on ambient temperature\n",
    "\n",
    "# prepare parameters for emission calculation\n",
    "parameters = pd.DataFrame(index = pd.date_range(start = start_date,\n",
    "                                                end = end_date,\n",
    "                                                freq='1h'))\n",
    "parameters['temperature'] = temperature\n",
    "parameters['hour_factor_PC'] = cycles.timeprofile[reference_scaling_road_class]['PC']\n",
    "parameters['hour_factor_LCV'] = cycles.timeprofile[reference_scaling_road_class]['LCV']\n",
    "\n",
    "#calculate daily coldstarts in Munich\n",
    "daily_PC_starts = (visum_links['PC_starts_per_meter'] * visum_links.length).sum()\n",
    "daily_LCV_starts = (visum_links['LCV_starts_per_meter'] * visum_links.length).sum()\n",
    "\n",
    "em_list_pc = list()\n",
    "em_list_lcv = list()\n",
    "\n",
    "PC_result = pd.DataFrame()\n",
    "LCV_result = pd.DataFrame()\n",
    "\n",
    "for idx, row in parameters.iterrows():\n",
    "    # get emission factors\n",
    "    em_PC = cs_obj.calculate_emission_hourly(vehicle_starts = 1,\n",
    "                                             hourly_temperature=row['temperature'],\n",
    "                                             vehicle_class='PC',\n",
    "                                             year = idx.year)\n",
    "    em_LCV = cs_obj.calculate_emission_hourly(vehicle_starts = 1,\n",
    "                                              hourly_temperature=row['temperature'],\n",
    "                                              vehicle_class = 'LCV',\n",
    "                                              year = idx.year)\n",
    "    # hourly number of vehicle starts\n",
    "    hourly_PC_starts = daily_PC_starts * row['hour_factor_PC']\n",
    "    hourly_LCV_starts = daily_LCV_starts * row['hour_factor_LCV']\n",
    "    PC_result = pd.concat([PC_result, (em_PC * hourly_PC_starts)], axis=1)\n",
    "    LCV_result = pd.concat([LCV_result, (em_LCV * hourly_LCV_starts)], axis=1)\n",
    "    \n",
    "PC_result = PC_result.transpose().set_index(pd.date_range(start=start_date,\n",
    "                                                end = end_date,\n",
    "                                                freq='1h'))\n",
    "LCV_result = LCV_result.transpose().set_index(pd.date_range(start=start_date,\n",
    "                                                end = end_date,\n",
    "                                                freq='1h'))   \n",
    "LCV_result['vehicle_class'] = 'LCV'\n",
    "PC_result['vehicle_class'] = 'PC'\n",
    "\n",
    "# combine results\n",
    "cold_start_emissions = pd.concat([PC_result, LCV_result], axis = 0)\n",
    "cold_start_emissions_aggregated = cold_start_emissions.groupby(['vehicle_class'])\\\n",
    "    .resample('1Y').sum(numeric_only = True)\n",
    "cold_start_emissions_aggregated = cold_start_emissions_aggregated[components]"
   ]
  },
  {
   "cell_type": "markdown",
   "metadata": {},
   "source": [
    "## Distribute emissions on VISUM model"
   ]
  },
  {
   "cell_type": "code",
   "execution_count": 8,
   "metadata": {},
   "outputs": [],
   "source": [
    "# distribute cold start emissions on road links\n",
    "\n",
    "visum_cold_start = visum_links[['PC_cold_starts', 'LCV_cold_starts', 'geometry']].copy()\n",
    "visum_cold_start['PC_cold_starts_norm'] = visum_cold_start['PC_cold_starts'].divide(visum_cold_start['PC_cold_starts'].sum())\n",
    "visum_cold_start['LCV_cold_starts_norm'] = visum_cold_start['LCV_cold_starts'].divide(visum_cold_start['LCV_cold_starts'].sum())\n",
    "\n",
    "visum_cold_start_dict = dict()\n",
    "\n",
    "\n",
    "for year in [str(year) for year in range(start_date.year, end_date.year + 1)]: \n",
    "    for c in components:\n",
    "        visum_cold_start[f'PC_{c}'] = visum_cold_start['PC_cold_starts_norm']\\\n",
    "            .mul(cold_start_emissions_aggregated.loc['PC', year].iloc[0][c])\n",
    "        visum_cold_start[f'LCV_{c}'] = visum_cold_start['LCV_cold_starts_norm']\\\n",
    "            .mul(cold_start_emissions_aggregated.loc['LCV', year].iloc[0][c])\n",
    "            \n",
    "        visum_cold_start_dict.update({year: visum_cold_start.copy()})\n"
   ]
  },
  {
   "cell_type": "markdown",
   "metadata": {},
   "source": [
    "## Store spatial results"
   ]
  },
  {
   "cell_type": "code",
   "execution_count": 9,
   "metadata": {},
   "outputs": [],
   "source": [
    "# only if store_result is True\n",
    "\n",
    "if store_result:\n",
    "    for year, emissions in visum_cold_start_dict.items():\n",
    "        visum_cold_start_save = emissions.drop(['PC_cold_starts', 'LCV_cold_starts',\n",
    "                                                'LCV_cold_starts_norm', 'PC_cold_starts_norm'], axis = 1)\n",
    "        # divide by length to get emissions per km\n",
    "        _col = visum_cold_start_save.drop('geometry', axis = 1).columns\n",
    "        visum_cold_start_save[_col] = visum_cold_start_save[_col].divide(visum_cold_start_save.geometry.length*1e-3, axis = 0)\n",
    "\n",
    "        visum_cold_start_save.to_file(store_path + store_filename(year), driver='GPKG')"
   ]
  },
  {
   "cell_type": "markdown",
   "metadata": {},
   "source": [
    "## Store temporal profiles"
   ]
  },
  {
   "cell_type": "code",
   "execution_count": 10,
   "metadata": {},
   "outputs": [],
   "source": [
    "# only if store_temporal_profiles is True\n",
    "\n",
    "temporal_profile_store_path = store_path +'/temporal_profiles/'\n",
    "\n",
    "if store_temporal_profiles:\n",
    "    for year in [str(year) for year in range(start_date.year, end_date.year + 1)]:\n",
    "        tp_normalized_PC = (PC_result.loc[str(year)]/ PC_result.loc[str(year)].mean())[components]\n",
    "        tp_normalized_LCV = (LCV_result.loc[str(year)]/ LCV_result.loc[str(year)].mean())[components]\n",
    "        tp_normalized_PC.to_csv(temporal_profile_store_path + store_temporal_filename(year, 'PC'))\n",
    "        tp_normalized_LCV.to_csv(temporal_profile_store_path + store_temporal_filename(year, 'LCV'))"
   ]
  }
 ],
 "metadata": {
  "kernelspec": {
   "display_name": ".venv",
   "language": "python",
   "name": "python3"
  },
  "language_info": {
   "codemirror_mode": {
    "name": "ipython",
    "version": 3
   },
   "file_extension": ".py",
   "mimetype": "text/x-python",
   "name": "python",
   "nbconvert_exporter": "python",
   "pygments_lexer": "ipython3",
   "version": "3.11.5"
  }
 },
 "nbformat": 4,
 "nbformat_minor": 2
}
