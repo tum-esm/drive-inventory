{
 "cells": [
  {
   "cell_type": "markdown",
   "metadata": {},
   "source": [
    "\n",
    "*Technical University of Munich<br>\n",
    "Professorship of Environmental Sensing and Modeling<br><br>*\n",
    "**Author:**  Daniel Kühbacher<br>\n",
    "**Date:**  16.01.2024\n",
    "\n",
    "--- \n",
    "\n",
    "# Calculate Cold Start Emissions using HBEFA Emission factors\n",
    "\n",
    "<!--Notebook description and usage information-->\n",
    "In this notebook, HBEFA Cold-Start emission factors are applied to input from the visum model. <br>\n",
    "HBEFA allows to separate cold-start emissions by: \n",
    "- Ambient temperature \n",
    "- Trip length \n",
    "- Parking hours (to determine how hot the engine is before the starting process)\n",
    "\n",
    "HBEFA provides cold disaggregated cold start emissions where each of the parameters above can be set based on individual data. Since no Munich-specific information on trip lenght or parking hours is available, aggregated values for these categories are used. Temperature information is provided by a weather station in Munich and will be used for the whole region.<br>\n",
    "It should be mentioned, that HBEFA just provides cold-start emissions for Personal Cars and Small Vans. They conistitue the main part of the overall number of cold starts in a city.\n"
   ]
  },
  {
   "cell_type": "code",
   "execution_count": 55,
   "metadata": {},
   "outputs": [],
   "source": [
    "import sys\n",
    "\n",
    "import pandas as pd\n",
    "import geopandas as gpd\n",
    "import matplotlib.pyplot as plt\n",
    "\n",
    "# import custom modules\n",
    "sys.path.append('../utils')\n",
    "import data_paths\n",
    "import traffic_counts\n",
    "from hbefa_cold_emissions import HbefaColdEmissions\n",
    "\n",
    "from lmu_meteo_api import interface\n",
    "from datetime import datetime"
   ]
  },
  {
   "cell_type": "markdown",
   "metadata": {},
   "source": [
    "## Import data"
   ]
  },
  {
   "cell_type": "code",
   "execution_count": 48,
   "metadata": {},
   "outputs": [],
   "source": [
    "# import visum O-D matricies\n",
    "visum_links = gpd.read_file(data_paths.VISUM_FOLDER_PATH + \"visum_links.GPKG\",\n",
    "                            driver = 'GPKG')\n",
    "\n",
    "# caclulate starts per squaremeter before gridding\n",
    "visum_links['PC_starts_per_meter'] = visum_links['PC_cold_starts'] / visum_links['geometry'].length\n",
    "visum_links['LCV_starts_per_meter'] = visum_links['LCV_cold_starts'] / visum_links['geometry'].length\n",
    "\n",
    "\n",
    "munich_boarders = gpd.read_file(data_paths.MUNICH_BOARDERS_FILE).to_crs(25832)\n",
    "visum_links_clipped = gpd.clip(visum_links, munich_boarders)\n",
    "visum_links_clipped = visum_links_clipped.explode(ignore_index=True) # convert multipolygons to polygons"
   ]
  },
  {
   "cell_type": "markdown",
   "metadata": {},
   "source": [
    "## Notebook functions"
   ]
  },
  {
   "cell_type": "code",
   "execution_count": 49,
   "metadata": {},
   "outputs": [],
   "source": [
    "def annual_temperature_profile(start_date:datetime, \n",
    "                               end_date:datetime,\n",
    "                               aggregate = 'H') -> pd.Series:\n",
    "    \"\"\"Downloads meteo data from the LMU Meteo station and returns a dataframe \n",
    "    with hourly temperatures for Munich\n",
    "\n",
    "    Args:\n",
    "        year (int): Year\n",
    "        aggregate (str, optional): aggregate to specified timeframe. Defaults to 'H'.\n",
    "\n",
    "    Returns:\n",
    "        pd.Series: temperature profile\n",
    "    \"\"\"\n",
    "    \n",
    "    start_time = start_date.strftime('%Y-%m-%d') + 'T00-00-00'\n",
    "    end_time = end_date.strftime('%Y-%m-%d') + 'T23-59-59'\n",
    "    \n",
    "    if datetime.strptime(end_time, '%Y-%m-%dT%H-%M-%S').date() > datetime.now().date():\n",
    "        end_time = datetime.now().strftime('%Y-%m-%dT%H-%M-%S')\n",
    "    \n",
    "    lmu_api = interface.meteo_data()\n",
    "    data = lmu_api.get_meteo_data(parameters = [\"air_temperature_2m\"], \n",
    "                                station_id = 'MIM01', \n",
    "                                start_time = start_time, \n",
    "                                end_time = end_time)\n",
    "    \n",
    "    return (data.air_temperature_2m - 273.15).resample(aggregate).mean()"
   ]
  },
  {
   "cell_type": "markdown",
   "metadata": {},
   "source": [
    "## Initialize objects and download temperature data"
   ]
  },
  {
   "cell_type": "code",
   "execution_count": 50,
   "metadata": {},
   "outputs": [
    {
     "name": "stdout",
     "output_type": "stream",
     "text": [
      "Loaded emission factors from /Users/daniel_tum/Documents/projects/traffic inventory v2/traffic-emission-inventory/data/restricted_input/hbefa/EFA_ColdStart_Vehcat_ColdStart.XLS\n"
     ]
    }
   ],
   "source": [
    "# import trafic datasets\n",
    "cycles = traffic_counts.TrafficCounts()\n",
    "\n",
    "# download temperature data for 2019\n",
    "temperature = annual_temperature_profile(start_date=datetime(2019,1,1),\n",
    "                                         end_date=datetime(2022,12,31)) \n",
    "\n",
    "# instanciate cold start emission object\n",
    "cs_obj = HbefaColdEmissions()\n"
   ]
  },
  {
   "cell_type": "code",
   "execution_count": 51,
   "metadata": {},
   "outputs": [],
   "source": [
    "parameters = pd.DataFrame(index = pd.date_range(start='2019-01-01 00:00:00',\n",
    "                                                end = '2022-12-31 23:00:00',\n",
    "                                                freq='1h'))\n",
    "\n",
    "reference_scaling_road_class = 'Distributor/Secondary'\n",
    "\n",
    "parameters['temperature'] = temperature\n",
    "parameters['hour_factor_PC'] = cycles.timeprofile[reference_scaling_road_class]['PC']\n",
    "parameters['hour_factor_LCV'] = cycles.timeprofile[reference_scaling_road_class]['LCV']"
   ]
  },
  {
   "cell_type": "markdown",
   "metadata": {},
   "source": [
    "## Calculate total emissions for Munich"
   ]
  },
  {
   "cell_type": "code",
   "execution_count": 52,
   "metadata": {},
   "outputs": [],
   "source": [
    "#calculate daily coldstarts in Munich\n",
    "daily_PC_starts = (visum_links_clipped['PC_starts_per_meter'] * visum_links_clipped.length).sum()\n",
    "daily_LCV_starts = (visum_links_clipped['LCV_starts_per_meter'] * visum_links_clipped.length).sum()\n",
    "\n",
    "em_list_pc = list()\n",
    "em_list_lcv = list()\n",
    "\n",
    "PC_result = pd.DataFrame()\n",
    "LCV_result = pd.DataFrame()\n",
    "\n",
    "for idx, row in parameters.iterrows():\n",
    "    \n",
    "    # get emission factors\n",
    "    em_PC = cs_obj.calculate_emission_daily(hourly_temperature=row['temperature'],\n",
    "                                            vehicle_class='PC',\n",
    "                                            year = idx.year)\n",
    "    \n",
    "    em_LCV = cs_obj.calculate_emission_daily(hourly_temperature=row['temperature'],\n",
    "                                             vehicle_class='LCV',\n",
    "                                             year = idx.year)\n",
    "    \n",
    "    # hourly number of starting procedures\n",
    "    hourly_PC_starts = daily_PC_starts * row['hour_factor_PC']\n",
    "    hourly_LCV_starts = daily_LCV_starts * row['hour_factor_LCV']\n",
    "    \n",
    "    PC_result = pd.concat([PC_result, (em_PC * hourly_PC_starts)], axis=1)\n",
    "    LCV_result = pd.concat([LCV_result, (em_LCV * hourly_LCV_starts)], axis=1)\n",
    "    \n",
    "PC_result = PC_result.transpose().set_index(pd.date_range(start='2019-01-01 00:00:00',\n",
    "                                                end = '2022-12-31 23:00:00',\n",
    "                                                freq='1h'))    \n",
    "LCV_result = LCV_result.transpose().set_index(pd.date_range(start='2019-01-01 00:00:00',\n",
    "                                                end = '2022-12-31 23:00:00',\n",
    "                                                freq='1h'))   "
   ]
  },
  {
   "cell_type": "code",
   "execution_count": 106,
   "metadata": {},
   "outputs": [],
   "source": [
    "result = PC_result.copy()\n",
    "result['vehicle_class'] = 'PC'\n",
    "result = pd.concat([result, LCV_result], axis = 0)\n",
    "result.loc[result['vehicle_class'].isna(), 'vehicle_class'] = 'LCV'\n",
    "\n",
    "result_agg = result.groupby(['vehicle_class']).resample('1Y').sum(numeric_only = True)\n",
    "\n",
    "columns_to_keep = ['CO', 'NOx', 'PM', 'CO2(rep)', 'CO2(total)', \n",
    "                  'NO2', 'CH4', 'BC (exhaust)', 'CO2e']\n",
    "\n",
    "result_agg = result_agg[columns_to_keep]"
   ]
  },
  {
   "cell_type": "code",
   "execution_count": null,
   "metadata": {},
   "outputs": [],
   "source": []
  }
 ],
 "metadata": {
  "kernelspec": {
   "display_name": ".venv",
   "language": "python",
   "name": "python3"
  },
  "language_info": {
   "codemirror_mode": {
    "name": "ipython",
    "version": 3
   },
   "file_extension": ".py",
   "mimetype": "text/x-python",
   "name": "python",
   "nbconvert_exporter": "python",
   "pygments_lexer": "ipython3",
   "version": "3.11.5"
  }
 },
 "nbformat": 4,
 "nbformat_minor": 2
}
