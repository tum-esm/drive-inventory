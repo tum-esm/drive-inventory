{
 "cells": [
  {
   "cell_type": "markdown",
   "metadata": {},
   "source": [
    "*Technical University of Munich<br>\n",
    "Professorship of Environmental Sensing and Modeling<br><br>*\n",
    "**Author:**  Daniel Kühbacher<br>\n",
    "**Date:**  20.09.2024\n",
    "\n",
    "--- \n",
    "# Plot total vehicle kilometers travelled and their share across different traffic situations\n",
    "\n",
    "<!--Notebook description and usage information-->\n",
    "A primary result of the model is an estimate of the vehicle kilometers traveled (VKT) for different vehicle classes and the respective traffic conditions. This script uses the coutning data and traffic model to calculate the total annual VKT and share of traffic conditions in the timeframe of interest. "
   ]
  },
  {
   "cell_type": "code",
   "execution_count": 1,
   "metadata": {},
   "outputs": [],
   "source": [
    "# import libraries\n",
    "\n",
    "import sys\n",
    "import warnings\n",
    "import os\n",
    "os.environ['USE_PYGEOS'] = '0'\n",
    "\n",
    "import pandas as pd\n",
    "import numpy as np\n",
    "import geopandas as gpd\n",
    "import matplotlib.pyplot as plt\n",
    "from datetime import datetime\n",
    "\n",
    "sys.path.append('../utils')\n",
    "import data_paths\n",
    "from traffic_counts import TrafficCounts\n",
    "from hbefa_hot_emissions import HbefaHotEmissions\n",
    "from calculate_vkt import calculate_VKT\n",
    "\n",
    "warnings.filterwarnings(\"ignore\")\n",
    "\n",
    "# Reload local modules on changes\n",
    "%reload_ext autoreload\n",
    "%autoreload 2"
   ]
  },
  {
   "cell_type": "markdown",
   "metadata": {},
   "source": [
    "# Notebook settings"
   ]
  },
  {
   "cell_type": "code",
   "execution_count": 2,
   "metadata": {},
   "outputs": [],
   "source": [
    "# Define start and end time for emission calculation. Ideally this should cover a whole year.\n",
    "start_date = datetime(2019, 1, 1)\n",
    "end_date = datetime(2024, 12, 31)\n",
    "\n",
    "# define filename of the visum file\n",
    "visum_filename = \"visum_links.GPKG\"\n",
    "\n",
    "# if True, the script will only calculate the emission for the area within the roi polygon\n",
    "clip_to_area = True\n",
    "roi_polygon = data_paths.MUNICH_BOARDERS_FILE # defines ROI for clipping"
   ]
  },
  {
   "cell_type": "markdown",
   "metadata": {},
   "source": [
    "## Import Data"
   ]
  },
  {
   "cell_type": "code",
   "execution_count": 3,
   "metadata": {},
   "outputs": [
    {
     "name": "stdout",
     "output_type": "stream",
     "text": [
      "Loaded emission factors from /Users/daniel_tum/Documents/code/drive-inventory/data/restricted_input/hbefa/EFA_HOT_ts_hbefa.txt\n",
      "Loaded emission factors from /Users/daniel_tum/Documents/code/drive-inventory/data/restricted_input/hbefa/EFA_HOT_aggregated_hbefa.txt\n"
     ]
    }
   ],
   "source": [
    "# import visum model, clip it to the ROI, and initialize cycles object\n",
    "\n",
    "visum = gpd.read_file(data_paths.VISUM_FOLDER_PATH + visum_filename)\n",
    "\n",
    "if clip_to_area:\n",
    "    roi = gpd.read_file(roi_polygon).to_crs(visum.crs)\n",
    "    visum = gpd.clip(visum, roi)\n",
    "    visum = visum.explode(ignore_index=True) # convert multipolygons to polygons\n",
    "\n",
    "#visum = visum_links\n",
    "visum = visum.reset_index(drop = True).reset_index() # reset index for calculation\n",
    "visum['road_lenght'] = visum['geometry'].length # add road length to visum dict\n",
    "\n",
    "# initialize traffic cycles\n",
    "cycles = TrafficCounts()\n",
    "# initialize HBEFA emission factors\n",
    "hbefa = HbefaHotEmissions()"
   ]
  },
  {
   "cell_type": "markdown",
   "metadata": {},
   "source": [
    "## Calculate VKT and traffic condition"
   ]
  },
  {
   "cell_type": "code",
   "execution_count": 4,
   "metadata": {},
   "outputs": [],
   "source": [
    "# Calculate VKT per year and traffic condition for each vehicle class\n",
    "\n",
    "vkt_result = dict()\n",
    "\n",
    "# create list of dates\n",
    "dates = [d.strftime(\"%Y-%m-%d\") for d in pd.date_range(start=start_date, end=end_date, freq='1d')]\n",
    "# extract list of years in dates list\n",
    "years = list(set([d.split('-')[0] for d in dates]))\n",
    "years.sort()\n",
    "\n",
    "# sort dates by year\n",
    "for year in years:\n",
    "    # create sublist of dates for each year\n",
    "    dates_in_year = [d for d in dates if d.startswith(year)]\n",
    "\n",
    "    final_result = {'Freeflow': np.array(5, float),\n",
    "                    'Heavy': np.array(5, float),\n",
    "                    'Satur.': np.array(5, float),\n",
    "                    'St+Go': np.array(5, float), \n",
    "                    'St+Go2': np.array(5, float)}\n",
    "    \n",
    "    # calculate for each date in the year\n",
    "    for date in dates_in_year: \n",
    "        cl, vehicle_index = calculate_VKT(date= date,\n",
    "                                          visum_dict=visum.to_dict('records'),\n",
    "                                          cycles_obj = cycles,\n",
    "                                          hbefa_obj = hbefa)\n",
    "        \n",
    "        for key, value in cl.items():\n",
    "            final_result[key] = final_result[key] + value\n",
    "    vkt_result.update({year:final_result})"
   ]
  },
  {
   "cell_type": "code",
   "execution_count": 5,
   "metadata": {},
   "outputs": [
    {
     "data": {
      "text/html": [
       "<div>\n",
       "<style scoped>\n",
       "    .dataframe tbody tr th:only-of-type {\n",
       "        vertical-align: middle;\n",
       "    }\n",
       "\n",
       "    .dataframe tbody tr th {\n",
       "        vertical-align: top;\n",
       "    }\n",
       "\n",
       "    .dataframe thead th {\n",
       "        text-align: right;\n",
       "    }\n",
       "</style>\n",
       "<table border=\"1\" class=\"dataframe\">\n",
       "  <thead>\n",
       "    <tr style=\"text-align: right;\">\n",
       "      <th></th>\n",
       "      <th>PC</th>\n",
       "      <th>LCV</th>\n",
       "      <th>HGV</th>\n",
       "      <th>BUS</th>\n",
       "      <th>MOT</th>\n",
       "    </tr>\n",
       "  </thead>\n",
       "  <tbody>\n",
       "    <tr>\n",
       "      <th>2019</th>\n",
       "      <td>4.927981e+09</td>\n",
       "      <td>8.184413e+08</td>\n",
       "      <td>2.851454e+08</td>\n",
       "      <td>3.529077e+07</td>\n",
       "      <td>6.006421e+07</td>\n",
       "    </tr>\n",
       "    <tr>\n",
       "      <th>2020</th>\n",
       "      <td>4.195718e+09</td>\n",
       "      <td>8.274179e+08</td>\n",
       "      <td>2.348416e+08</td>\n",
       "      <td>2.944693e+07</td>\n",
       "      <td>5.761876e+07</td>\n",
       "    </tr>\n",
       "    <tr>\n",
       "      <th>2021</th>\n",
       "      <td>4.236222e+09</td>\n",
       "      <td>8.970469e+08</td>\n",
       "      <td>2.134531e+08</td>\n",
       "      <td>2.880707e+07</td>\n",
       "      <td>5.299776e+07</td>\n",
       "    </tr>\n",
       "    <tr>\n",
       "      <th>2022</th>\n",
       "      <td>4.444618e+09</td>\n",
       "      <td>8.947707e+08</td>\n",
       "      <td>2.201433e+08</td>\n",
       "      <td>3.141659e+07</td>\n",
       "      <td>5.998107e+07</td>\n",
       "    </tr>\n",
       "    <tr>\n",
       "      <th>2023</th>\n",
       "      <td>4.526205e+09</td>\n",
       "      <td>9.279806e+08</td>\n",
       "      <td>2.144002e+08</td>\n",
       "      <td>2.951184e+07</td>\n",
       "      <td>5.840325e+07</td>\n",
       "    </tr>\n",
       "    <tr>\n",
       "      <th>2024</th>\n",
       "      <td>4.653137e+09</td>\n",
       "      <td>8.453285e+08</td>\n",
       "      <td>2.055204e+08</td>\n",
       "      <td>2.902762e+07</td>\n",
       "      <td>5.574624e+07</td>\n",
       "    </tr>\n",
       "  </tbody>\n",
       "</table>\n",
       "</div>"
      ],
      "text/plain": [
       "                PC           LCV           HGV           BUS           MOT\n",
       "2019  4.927981e+09  8.184413e+08  2.851454e+08  3.529077e+07  6.006421e+07\n",
       "2020  4.195718e+09  8.274179e+08  2.348416e+08  2.944693e+07  5.761876e+07\n",
       "2021  4.236222e+09  8.970469e+08  2.134531e+08  2.880707e+07  5.299776e+07\n",
       "2022  4.444618e+09  8.947707e+08  2.201433e+08  3.141659e+07  5.998107e+07\n",
       "2023  4.526205e+09  9.279806e+08  2.144002e+08  2.951184e+07  5.840325e+07\n",
       "2024  4.653137e+09  8.453285e+08  2.055204e+08  2.902762e+07  5.574624e+07"
      ]
     },
     "execution_count": 5,
     "metadata": {},
     "output_type": "execute_result"
    }
   ],
   "source": [
    "# calculate total vehicle kilometers by vehicle class\n",
    "\n",
    "total_vkt = pd.DataFrame()\n",
    "for key, item in vkt_result.items(): \n",
    "    df = pd.DataFrame(data = item, index = vehicle_index).sum(axis =1)\n",
    "    df.name = key\n",
    "    total_vkt = pd.concat([total_vkt, df], axis = 1)\n",
    "\n",
    "total_vkt = total_vkt.transpose()\n",
    "total_vkt = total_vkt[['PC', 'LCV', 'HGV', 'BUS', 'MOT']]\n",
    "total_vkt"
   ]
  },
  {
   "cell_type": "code",
   "execution_count": 6,
   "metadata": {},
   "outputs": [
    {
     "data": {
      "text/html": [
       "<div>\n",
       "<style scoped>\n",
       "    .dataframe tbody tr th:only-of-type {\n",
       "        vertical-align: middle;\n",
       "    }\n",
       "\n",
       "    .dataframe tbody tr th {\n",
       "        vertical-align: top;\n",
       "    }\n",
       "\n",
       "    .dataframe thead th {\n",
       "        text-align: right;\n",
       "    }\n",
       "</style>\n",
       "<table border=\"1\" class=\"dataframe\">\n",
       "  <thead>\n",
       "    <tr style=\"text-align: right;\">\n",
       "      <th></th>\n",
       "      <th>Freeflow</th>\n",
       "      <th>Heavy</th>\n",
       "      <th>Satur.</th>\n",
       "      <th>St+Go</th>\n",
       "      <th>St+Go2</th>\n",
       "    </tr>\n",
       "  </thead>\n",
       "  <tbody>\n",
       "    <tr>\n",
       "      <th>2019</th>\n",
       "      <td>0.533783</td>\n",
       "      <td>0.225212</td>\n",
       "      <td>0.162909</td>\n",
       "      <td>0.055798</td>\n",
       "      <td>0.022297</td>\n",
       "    </tr>\n",
       "    <tr>\n",
       "      <th>2020</th>\n",
       "      <td>0.588716</td>\n",
       "      <td>0.220875</td>\n",
       "      <td>0.146775</td>\n",
       "      <td>0.030905</td>\n",
       "      <td>0.012730</td>\n",
       "    </tr>\n",
       "    <tr>\n",
       "      <th>2021</th>\n",
       "      <td>0.584563</td>\n",
       "      <td>0.225211</td>\n",
       "      <td>0.149318</td>\n",
       "      <td>0.029028</td>\n",
       "      <td>0.011880</td>\n",
       "    </tr>\n",
       "    <tr>\n",
       "      <th>2022</th>\n",
       "      <td>0.583236</td>\n",
       "      <td>0.223420</td>\n",
       "      <td>0.152926</td>\n",
       "      <td>0.029337</td>\n",
       "      <td>0.011081</td>\n",
       "    </tr>\n",
       "    <tr>\n",
       "      <th>2023</th>\n",
       "      <td>0.572146</td>\n",
       "      <td>0.220942</td>\n",
       "      <td>0.160506</td>\n",
       "      <td>0.033627</td>\n",
       "      <td>0.012779</td>\n",
       "    </tr>\n",
       "    <tr>\n",
       "      <th>2024</th>\n",
       "      <td>0.576938</td>\n",
       "      <td>0.218946</td>\n",
       "      <td>0.161580</td>\n",
       "      <td>0.031706</td>\n",
       "      <td>0.010829</td>\n",
       "    </tr>\n",
       "  </tbody>\n",
       "</table>\n",
       "</div>"
      ],
      "text/plain": [
       "      Freeflow     Heavy    Satur.     St+Go    St+Go2\n",
       "2019  0.533783  0.225212  0.162909  0.055798  0.022297\n",
       "2020  0.588716  0.220875  0.146775  0.030905  0.012730\n",
       "2021  0.584563  0.225211  0.149318  0.029028  0.011880\n",
       "2022  0.583236  0.223420  0.152926  0.029337  0.011081\n",
       "2023  0.572146  0.220942  0.160506  0.033627  0.012779\n",
       "2024  0.576938  0.218946  0.161580  0.031706  0.010829"
      ]
     },
     "execution_count": 6,
     "metadata": {},
     "output_type": "execute_result"
    }
   ],
   "source": [
    "# Calculate share of total VKT for each traffic condition \n",
    "\n",
    "los_class_vkt = pd.DataFrame()\n",
    "for key, item in vkt_result.items(): \n",
    "    df = pd.DataFrame(data=item, index = vehicle_index).sum(axis = 0)\n",
    "    df.name = key\n",
    "    los_class_vkt = pd.concat([los_class_vkt, df], axis = 1)\n",
    "\n",
    "los_class_vkt = los_class_vkt.transpose() \n",
    "\n",
    "los_class_vkt = los_class_vkt.divide(los_class_vkt.sum(axis=1), axis =0)\n",
    "los_class_vkt"
   ]
  },
  {
   "cell_type": "markdown",
   "metadata": {},
   "source": [
    "# Plotting"
   ]
  },
  {
   "cell_type": "code",
   "execution_count": 7,
   "metadata": {},
   "outputs": [
    {
     "data": {
      "image/png": "[encoded data removed]",
      "text/plain": [
       "<Figure size 600x400 with 1 Axes>"
      ]
     },
     "metadata": {},
     "output_type": "display_data"
    }
   ],
   "source": [
    "fig, ax = plt.subplots(figsize =(6,4), tight_layout =True)\n",
    "\n",
    "total_vkt.plot(ax = ax, kind='bar', stacked = True)\n",
    "\n",
    "plt.title('Vehicle Kilometers Travelled (VKT)', fontsize = 12)\n",
    "\n",
    "# add totals\n",
    "y_offset = total_vkt.sum(axis=1).max()*0.02\n",
    "for idx, year in enumerate(total_vkt.index):\n",
    "    annual_vkt = total_vkt.loc[year].sum()\n",
    "    ax.text(y = annual_vkt + y_offset,\n",
    "            x= idx,\n",
    "            s = f'{(annual_vkt*1e-6):.1f}',\n",
    "            fontsize =10,\n",
    "            weight='bold', \n",
    "            ha = 'center')\n",
    "\n",
    "y_labels = ax.get_yticks()\n",
    "y_labels = [f'{int(label)*1e-6:.0f}' for label in y_labels]\n",
    "ax.set_xticklabels(labels = ax.get_xticklabels(), rotation=0, fontsize = 10)\n",
    "ax.set_yticklabels(labels = y_labels, fontsize= 10)\n",
    "ax.set_ylabel('VKT [Mio. km]', fontsize = 12)\n",
    "ax.set_xlabel('Year', fontsize = 12)\n",
    "\n",
    "plt.legend(bbox_to_anchor =(1.2,0), loc = 'lower center', ncols=1, fontsize = 10)\n",
    "plt.ylim(0, total_vkt.sum(axis=1).max()*1.15)\n",
    "plt.show()"
   ]
  },
  {
   "cell_type": "code",
   "execution_count": 8,
   "metadata": {},
   "outputs": [
    {
     "data": {
      "image/png": "[encoded data removed]",
      "text/plain": [
       "<Figure size 600x400 with 1 Axes>"
      ]
     },
     "metadata": {},
     "output_type": "display_data"
    }
   ],
   "source": [
    "fig, ax = plt.subplots(figsize =(6,4), tight_layout =True)\n",
    "los_class_vkt.plot(ax = ax, kind='bar', stacked = True)\n",
    "\n",
    "y_labels = ax.get_yticks()\n",
    "y_labels = [f'{label*1e2:.0f} %' for label in y_labels]\n",
    "ax.set_xticklabels(labels = ax.get_xticklabels(), rotation=0, fontsize = 10)\n",
    "ax.set_yticklabels(labels = y_labels, fontsize= 10)\n",
    "ax.set_ylabel('LOS Share [%]', fontsize = 12)\n",
    "ax.set_xlabel('Year', fontsize = 12)\n",
    "\n",
    "i = 0\n",
    "for idx, row in los_class_vkt.iterrows():\n",
    "    pos_y = 0\n",
    "    for el in row:\n",
    "        ax.text(y = pos_y +(el/2),\n",
    "            x= i,\n",
    "            s = f'{el*100:.0f}%',\n",
    "            fontsize =8,\n",
    "            ha = 'center',\n",
    "            va = 'center', color = 'black')\n",
    "        if (el)<0.05: \n",
    "            pos_y += (el + 0.03)\n",
    "        else: \n",
    "            pos_y += el\n",
    "    i+=1\n",
    "\n",
    "plt.title('VKT Share of Different Service Classes', fontsize = 12)\n",
    "plt.legend(bbox_to_anchor =(1.2,0), loc = 'lower center', ncols=1, fontsize = 10)\n",
    "plt.ylim(0,1.1)\n",
    "plt.show()"
   ]
  }
 ],
 "metadata": {
  "kernelspec": {
   "display_name": ".venv",
   "language": "python",
   "name": "python3"
  },
  "language_info": {
   "codemirror_mode": {
    "name": "ipython",
    "version": 3
   },
   "file_extension": ".py",
   "mimetype": "text/x-python",
   "name": "python",
   "nbconvert_exporter": "python",
   "pygments_lexer": "ipython3",
   "version": "3.13.2"
  }
 },
 "nbformat": 4,
 "nbformat_minor": 2
}
