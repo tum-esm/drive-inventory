{
 "cells": [
  {
   "cell_type": "code",
   "execution_count": null,
   "metadata": {},
   "outputs": [],
   "source": [
    "speeds = cnt_lhm[(cnt_lhm['metric']=='speed') & (cnt_lhm['vehicle_class']=='PC')].groupby(['road_link_id', 'date'])[[str(i) for i in list(range(1,25))]].median(numeric_only=True)\n",
    "speeds = speeds.loc[(speeds!=0).any(axis=1)]\n",
    "speeds = speeds.dropna()\n",
    "volumes = cnt_lhm[(cnt_lhm['metric']=='volume') & (cnt_lhm['vehicle_class']=='SUM')].groupby(['road_link_id', 'date'])[[str(i) for i in list(range(1,25))]].sum(numeric_only=True)"
   ]
  },
  {
   "cell_type": "code",
   "execution_count": null,
   "metadata": {},
   "outputs": [],
   "source": [
    "road_links = list(speeds.index.get_level_values(0).unique())\n",
    "i =0"
   ]
  },
  {
   "cell_type": "code",
   "execution_count": null,
   "metadata": {},
   "outputs": [],
   "source": [
    "def get_hour_value(df, road_link_id, date, hour): \n",
    "    \n",
    "    try:\n",
    "        df_day = df.loc[road_link_id, date]\n",
    "        return df_day.iloc[hour]\n",
    "    except: \n",
    "        return np.nan\n",
    "\n",
    "data_combined = pd.DataFrame(index = pd.date_range(start= '2019-01-01 00:00:00',\n",
    "                                                end = '2019-12-31 23:00:00',\n",
    "                                                freq= '1h'))\n",
    "\n",
    "data_combined['date'] = data_combined.index.date\n",
    "data_combined['hour'] = data_combined.index.hour\n",
    "\n",
    "road_link_id = 67624481#road_links[i]\n",
    "road_link_id = road_links[i]\n",
    "i+=1\n",
    "data_combined['speed'] = data_combined.apply(lambda row: get_hour_value(speeds,\n",
    "                                                                        road_link_id,\n",
    "                                                                        row['date'].strftime('%Y-%m-%d'),\n",
    "                                                                        row['hour']), axis=1)\n",
    "data_combined['volume'] = data_combined.apply(lambda row: get_hour_value(volumes,\n",
    "                                                                        road_link_id,\n",
    "                                                                        row['date'].strftime('%Y-%m-%d'),\n",
    "                                                                        row['hour']), axis=1)\n",
    "\n",
    "data_combined = data_combined.dropna()\n",
    "\n",
    "data_combined['density'] = data_combined['volume'] / data_combined['speed']\n",
    "\n",
    "plt.scatter(x =data_combined['volume'], y = data_combined['speed'], s = 2)\n",
    "\n",
    "capacity = visum_links[visum_links['road_link_id'] == road_link_id]['hour_capacity'].iloc[0]\n",
    "road_type = visum_links[visum_links['road_link_id'] == road_link_id]['road_type'].iloc[0]\n",
    "plt.axvline(capacity, color = 'red')#\n",
    "\n",
    "plt.xlabel('volume')\n",
    "plt.ylabel('speed')\n",
    "plt.title(f'roadlink: {road_link_id}, {road_type}')"
   ]
  },
  {
   "cell_type": "code",
   "execution_count": null,
   "metadata": {},
   "outputs": [],
   "source": []
  },
  {
   "cell_type": "code",
   "execution_count": null,
   "metadata": {},
   "outputs": [],
   "source": []
  },
  {
   "cell_type": "code",
   "execution_count": null,
   "metadata": {},
   "outputs": [],
   "source": []
  },
  {
   "cell_type": "code",
   "execution_count": null,
   "metadata": {},
   "outputs": [],
   "source": []
  },
  {
   "cell_type": "code",
   "execution_count": null,
   "metadata": {},
   "outputs": [],
   "source": []
  },
  {
   "cell_type": "code",
   "execution_count": null,
   "metadata": {},
   "outputs": [],
   "source": []
  }
 ],
 "metadata": {
  "language_info": {
   "name": "python"
  }
 },
 "nbformat": 4,
 "nbformat_minor": 2
}
