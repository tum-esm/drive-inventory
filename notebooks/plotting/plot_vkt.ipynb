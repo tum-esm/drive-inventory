{
 "cells": [
  {
   "cell_type": "code",
   "execution_count": 1,
   "metadata": {},
   "outputs": [],
   "source": [
    "# this function was exported to allow multiprocessing.\n",
    "import sys\n",
    "\n",
    "import pandas as pd\n",
    "import numpy as np\n",
    "import geopandas as gpd\n",
    "import matplotlib\n",
    "import matplotlib.pyplot as plt\n",
    "\n",
    "\n",
    "plt.style.use('seaborn-v0_8-paper')\n",
    "\n",
    "from itertools import chain\n",
    "\n",
    "sys.path.append('../utils')\n",
    "import data_paths\n",
    "from traffic_counts import TrafficCounts\n",
    "from hbefa_hot_emissions import HbefaHotEmissions"
   ]
  },
  {
   "cell_type": "markdown",
   "metadata": {},
   "source": [
    "# Import Data\n",
    "- VISUM link data (cut to Munich Boarders)\n",
    "- Initilize counting data object\n",
    "- Initialize HBEFA emission calculator object"
   ]
  },
  {
   "cell_type": "code",
   "execution_count": 2,
   "metadata": {},
   "outputs": [
    {
     "name": "stdout",
     "output_type": "stream",
     "text": [
      "Loaded emission factors from /Users/daniel_tum/Documents/projects/traffic inventory v2/traffic-emission-inventory/data/restricted_input/hbefa/EFA_HOT_Vehcat_PC.XLS\n",
      "Loaded emission factors from /Users/daniel_tum/Documents/projects/traffic inventory v2/traffic-emission-inventory/data/restricted_input/hbefa/EFA_HOT_Vehcat_LCV.XLS\n",
      "Loaded emission factors from /Users/daniel_tum/Documents/projects/traffic inventory v2/traffic-emission-inventory/data/restricted_input/hbefa/EFA_HOT_Vehcat_HGV.XLS\n",
      "Loaded emission factors from /Users/daniel_tum/Documents/projects/traffic inventory v2/traffic-emission-inventory/data/restricted_input/hbefa/EFA_HOT_Vehcat_Coach.XLS\n",
      "Loaded emission factors from /Users/daniel_tum/Documents/projects/traffic inventory v2/traffic-emission-inventory/data/restricted_input/hbefa/EFA_HOT_Vehcat_MOT.XLS\n"
     ]
    }
   ],
   "source": [
    "# import data\n",
    "# import visum model\n",
    "visum_links = gpd.read_file(data_paths.VISUM_FOLDER_PATH + 'visum_links.gpkg')\n",
    "boarders = gpd.read_file(data_paths.MUNICH_BOARDERS_FILE).to_crs(25832)\n",
    "visum = gpd.clip(visum_links, boarders)\n",
    "visum = visum.explode(ignore_index=True) # convert multipolygons to polygons\n",
    "\n",
    "visum = visum.reset_index(drop = True).reset_index() # reset index for calculation\n",
    "visum['road_lenght'] = visum['geometry'].length # add road length to visum dict\n",
    "\n",
    "# initialize traffic cycles\n",
    "cycles = TrafficCounts()\n",
    "# initialize HBEFA emission factors\n",
    "hbefa = HbefaHotEmissions()"
   ]
  },
  {
   "cell_type": "markdown",
   "metadata": {},
   "source": [
    "# Notebook Function"
   ]
  },
  {
   "cell_type": "code",
   "execution_count": 3,
   "metadata": {},
   "outputs": [],
   "source": [
    "def process_veh_kilometers (date: str,\n",
    "                            visum_dict:dict,\n",
    "                            cycles_obj:TrafficCounts,\n",
    "                            hbefa_obj:HbefaHotEmissions,\n",
    "                            ) -> bool:\n",
    "    \"\"\"Function to calculate daily emissions for a given date. \n",
    "    This implements the HbefaHotEmissions object and can be run as parallell processes.\n",
    "\n",
    "    Args:\n",
    "        date (str): day to be calculated\n",
    "        visum_dict (dict): traffic model as dict for faster looping\n",
    "        cycles_obj (TrafficCounts): object to access traffic cycles\n",
    "        hbefa_obj (HbefaHotEmissions): object to access emission factors\n",
    "    Returns:\n",
    "        bool: true if process finished without error, false if not.\n",
    "    \"\"\"\n",
    "    # get scaling factors for the day\n",
    "    diurnal_cycles = cycles_obj.get_hourly_scaling_factors(date=date)\n",
    "    vehicle_shares = cycles_obj.get_vehicle_share(date=date).to_dict()\n",
    "    daily_scaling = cycles_obj.get_daily_scaling_factors(date=date).to_dict()\n",
    "    \n",
    "    result = list()\n",
    "    \n",
    "    final_result = {'Freeflow': np.array(5, float),\n",
    "                    'Heavy': np.array(5, float),\n",
    "                    'Satur.': np.array(5, float),\n",
    "                    'St+Go': np.array(5, float)}\n",
    "    \n",
    "    # loop over visum model\n",
    "    for row in visum_dict:\n",
    "        \n",
    "        # relevant information from the visum model\n",
    "        dtv_visum = row['dtv_SUM']\n",
    "        hgv_corr = row['hgv_corr']\n",
    "        lcv_corr = row['lcv_corr']\n",
    "        scaling_road_type = row['scaling_road_type']\n",
    "        \n",
    "        # get vehicle shares from counting data\n",
    "        hgv_share = vehicle_shares['HGV'][scaling_road_type]\n",
    "        lcv_share = vehicle_shares['LCV'][scaling_road_type]\n",
    "        pc_share = vehicle_shares['PC'][scaling_road_type]\n",
    "        mot_share = vehicle_shares['MOT'][scaling_road_type]\n",
    "        bus_share = vehicle_shares['BUS'][scaling_road_type]\n",
    "        \n",
    "        # calculate vehicle share correction factor\n",
    "        k = (1- (hgv_corr * hgv_share)- (lcv_corr * lcv_share)) / (1 - hgv_share - lcv_share)\n",
    "        \n",
    "        # calculate vehicle counts and apply vehicle share correction factor\n",
    "        dtv = dict()\n",
    "        dtv_day = dtv_visum * daily_scaling[scaling_road_type]\n",
    "        dtv.update({'HGV' : (dtv_day * hgv_share * hgv_corr)})\n",
    "        dtv.update({'LCV' : (dtv_day * lcv_share * lcv_corr)})\n",
    "        dtv.update({'PC' : (dtv_day * pc_share * k)})\n",
    "        dtv.update({'MOT' : (dtv_day * mot_share * k)})\n",
    "        dtv.update({'BUS' : (dtv_day * bus_share * k)})\n",
    "        \n",
    "        dtv_array = np.array([dtv[v] for v in diurnal_cycles.index])\n",
    "        htv = (np.transpose(diurnal_cycles.to_numpy()) * dtv_array)\n",
    "        \n",
    "        # calculate total hourly traffic count as passenger car equivalents\n",
    "        htv_car_units = np.array([HbefaHotEmissions.car_unit_factors[v]\\\n",
    "            for v in diurnal_cycles.index])\n",
    "        htv_car_units = (htv * htv_car_units).sum(axis=1)\n",
    "        \n",
    "        \n",
    "        # list of 24 service classes for each hour of the day\n",
    "        los_class = [hbefa_obj.calc_los_class(htv_car_unit = x,\n",
    "                                                hour_capacity = row['hour_capacity'],\n",
    "                                                road_type = row['road_type'],\n",
    "                                                hbefa_speed = row['hbefa_speed'])\n",
    "                        for x in htv_car_units]\n",
    "        \n",
    "        los =  [x.split('/')[-1] for x in los_class]\n",
    "\n",
    "        # now calculate vehicle kilometers\n",
    "        veh_kilometers  = htv * row['road_lenght'] *1e-3\n",
    "        #comb = zip(los, veh_kilometers)\n",
    "        \n",
    "        result.append(list(zip(los, veh_kilometers)))\n",
    "     \n",
    "    for e in list(chain(*result)):\n",
    "        final_result[e[0]] = final_result[e[0]] + e[1]\n",
    "\n",
    "    return final_result, diurnal_cycles.index\n",
    "        \n"
   ]
  },
  {
   "cell_type": "markdown",
   "metadata": {},
   "source": [
    "# Data processing"
   ]
  },
  {
   "cell_type": "code",
   "execution_count": 4,
   "metadata": {},
   "outputs": [],
   "source": [
    "vkt_result = dict()\n",
    "for year in ['2019', '2020', '2021', '2022']:\n",
    "    \n",
    "    # generate dates index\n",
    "    start_date = f'{year}-01-01'\n",
    "    end_date = f'{year}-12-31'\n",
    "    dates = [d.strftime(\"%Y-%m-%d\") for d in pd.date_range(start=start_date, end=end_date, freq='1d')]\n",
    "\n",
    "    final_result = {'Freeflow': np.array(5, float),\n",
    "                    'Heavy': np.array(5, float),\n",
    "                    'Satur.': np.array(5, float),\n",
    "                    'St+Go': np.array(5, float)}\n",
    "    for date in dates: \n",
    "        cl, vehicle_index = process_veh_kilometers(date= date,\n",
    "                            visum_dict=visum.to_dict('records'),\n",
    "                            cycles_obj = cycles,\n",
    "                            hbefa_obj = hbefa)\n",
    "        \n",
    "        for key, value in cl.items():\n",
    "            final_result[key] = final_result[key] + value\n",
    "    vkt_result.update({year:final_result})"
   ]
  },
  {
   "cell_type": "code",
   "execution_count": 9,
   "metadata": {},
   "outputs": [
    {
     "data": {
      "text/html": [
       "<div>\n",
       "<style scoped>\n",
       "    .dataframe tbody tr th:only-of-type {\n",
       "        vertical-align: middle;\n",
       "    }\n",
       "\n",
       "    .dataframe tbody tr th {\n",
       "        vertical-align: top;\n",
       "    }\n",
       "\n",
       "    .dataframe thead th {\n",
       "        text-align: right;\n",
       "    }\n",
       "</style>\n",
       "<table border=\"1\" class=\"dataframe\">\n",
       "  <thead>\n",
       "    <tr style=\"text-align: right;\">\n",
       "      <th></th>\n",
       "      <th>PC</th>\n",
       "      <th>LCV</th>\n",
       "      <th>HGV</th>\n",
       "      <th>BUS</th>\n",
       "      <th>MOT</th>\n",
       "    </tr>\n",
       "  </thead>\n",
       "  <tbody>\n",
       "    <tr>\n",
       "      <th>2019</th>\n",
       "      <td>4.943327e+09</td>\n",
       "      <td>8.358113e+08</td>\n",
       "      <td>2.749687e+08</td>\n",
       "      <td>3.597810e+07</td>\n",
       "      <td>5.756243e+07</td>\n",
       "    </tr>\n",
       "    <tr>\n",
       "      <th>2020</th>\n",
       "      <td>4.217210e+09</td>\n",
       "      <td>8.035521e+08</td>\n",
       "      <td>2.563890e+08</td>\n",
       "      <td>3.583094e+07</td>\n",
       "      <td>5.669105e+07</td>\n",
       "    </tr>\n",
       "    <tr>\n",
       "      <th>2021</th>\n",
       "      <td>4.259646e+09</td>\n",
       "      <td>8.466288e+08</td>\n",
       "      <td>2.586513e+08</td>\n",
       "      <td>3.616866e+07</td>\n",
       "      <td>5.011544e+07</td>\n",
       "    </tr>\n",
       "    <tr>\n",
       "      <th>2022</th>\n",
       "      <td>4.422801e+09</td>\n",
       "      <td>8.720375e+08</td>\n",
       "      <td>2.513671e+08</td>\n",
       "      <td>3.715454e+07</td>\n",
       "      <td>5.715648e+07</td>\n",
       "    </tr>\n",
       "  </tbody>\n",
       "</table>\n",
       "</div>"
      ],
      "text/plain": [
       "                PC           LCV           HGV           BUS           MOT\n",
       "2019  4.943327e+09  8.358113e+08  2.749687e+08  3.597810e+07  5.756243e+07\n",
       "2020  4.217210e+09  8.035521e+08  2.563890e+08  3.583094e+07  5.669105e+07\n",
       "2021  4.259646e+09  8.466288e+08  2.586513e+08  3.616866e+07  5.011544e+07\n",
       "2022  4.422801e+09  8.720375e+08  2.513671e+08  3.715454e+07  5.715648e+07"
      ]
     },
     "execution_count": 9,
     "metadata": {},
     "output_type": "execute_result"
    }
   ],
   "source": [
    "# calculate total vehicle kilometers by vehicle class\n",
    "total_vkt = pd.DataFrame()\n",
    "for key, item in vkt_result.items(): \n",
    "    df = pd.DataFrame(data = item, index = vehicle_index).sum(axis =1)\n",
    "    df.name = key\n",
    "    total_vkt = pd.concat([total_vkt, df], axis = 1)\n",
    "\n",
    "total_vkt = total_vkt.transpose()\n",
    "total_vkt = total_vkt[['PC', 'LCV', 'HGV', 'BUS', 'MOT']]\n",
    "total_vkt"
   ]
  },
  {
   "cell_type": "code",
   "execution_count": 10,
   "metadata": {},
   "outputs": [
    {
     "data": {
      "text/html": [
       "<div>\n",
       "<style scoped>\n",
       "    .dataframe tbody tr th:only-of-type {\n",
       "        vertical-align: middle;\n",
       "    }\n",
       "\n",
       "    .dataframe tbody tr th {\n",
       "        vertical-align: top;\n",
       "    }\n",
       "\n",
       "    .dataframe thead th {\n",
       "        text-align: right;\n",
       "    }\n",
       "</style>\n",
       "<table border=\"1\" class=\"dataframe\">\n",
       "  <thead>\n",
       "    <tr style=\"text-align: right;\">\n",
       "      <th></th>\n",
       "      <th>Freeflow</th>\n",
       "      <th>Heavy</th>\n",
       "      <th>Satur.</th>\n",
       "      <th>St+Go</th>\n",
       "    </tr>\n",
       "  </thead>\n",
       "  <tbody>\n",
       "    <tr>\n",
       "      <th>2019</th>\n",
       "      <td>0.653608</td>\n",
       "      <td>0.268686</td>\n",
       "      <td>0.046435</td>\n",
       "      <td>0.031271</td>\n",
       "    </tr>\n",
       "    <tr>\n",
       "      <th>2020</th>\n",
       "      <td>0.693895</td>\n",
       "      <td>0.255877</td>\n",
       "      <td>0.036119</td>\n",
       "      <td>0.014110</td>\n",
       "    </tr>\n",
       "    <tr>\n",
       "      <th>2021</th>\n",
       "      <td>0.684948</td>\n",
       "      <td>0.264220</td>\n",
       "      <td>0.036042</td>\n",
       "      <td>0.014790</td>\n",
       "    </tr>\n",
       "    <tr>\n",
       "      <th>2022</th>\n",
       "      <td>0.686128</td>\n",
       "      <td>0.267606</td>\n",
       "      <td>0.031594</td>\n",
       "      <td>0.014673</td>\n",
       "    </tr>\n",
       "  </tbody>\n",
       "</table>\n",
       "</div>"
      ],
      "text/plain": [
       "      Freeflow     Heavy    Satur.     St+Go\n",
       "2019  0.653608  0.268686  0.046435  0.031271\n",
       "2020  0.693895  0.255877  0.036119  0.014110\n",
       "2021  0.684948  0.264220  0.036042  0.014790\n",
       "2022  0.686128  0.267606  0.031594  0.014673"
      ]
     },
     "execution_count": 10,
     "metadata": {},
     "output_type": "execute_result"
    }
   ],
   "source": [
    "# calculate LOS share or total kilometers\n",
    "los_class_vkt = pd.DataFrame()\n",
    "for key, item in vkt_result.items(): \n",
    "    df = pd.DataFrame(data=item, index = vehicle_index).sum(axis = 0)\n",
    "    df.name = key\n",
    "    los_class_vkt = pd.concat([los_class_vkt, df], axis = 1)\n",
    "\n",
    "los_class_vkt = los_class_vkt.transpose()\n",
    "\n",
    "los_class_vkt = los_class_vkt.divide(los_class_vkt.sum(axis=1), axis =0)\n",
    "los_class_vkt"
   ]
  },
  {
   "cell_type": "markdown",
   "metadata": {},
   "source": [
    "# Plotting"
   ]
  },
  {
   "cell_type": "code",
   "execution_count": 18,
   "metadata": {},
   "outputs": [
    {
     "name": "stderr",
     "output_type": "stream",
     "text": [
      "/var/folders/5v/yv2xq6j56r5459_qjzrm79rw0000gn/T/ipykernel_68258/1019816967.py:21: UserWarning: set_ticklabels() should only be used with a fixed number of ticks, i.e. after set_ticks() or using a FixedLocator.\n",
      "  ax.set_yticklabels(labels = y_labels, fontsize= 10)\n"
     ]
    },
    {
     "data": {
      "image/png": "[encoded data removed]",
      "text/plain": [
       "<Figure size 600x400 with 1 Axes>"
      ]
     },
     "metadata": {},
     "output_type": "display_data"
    }
   ],
   "source": [
    "fig, ax = plt.subplots(figsize =(6,4), tight_layout =True)\n",
    "\n",
    "total_vkt.plot(ax = ax, kind='bar', stacked = True)\n",
    "\n",
    "plt.title('Vehicle Kilometers Travelled (VKT)', fontsize = 12)\n",
    "\n",
    "# add totals\n",
    "y_offset = 3*1e7\n",
    "for idx, year in enumerate(total_vkt.index):\n",
    "    annual_vkt = total_vkt.loc[year].sum()\n",
    "    ax.text(y = annual_vkt + y_offset,\n",
    "            x= idx,\n",
    "            s = f'{(annual_vkt*1e-6):.1f}',\n",
    "            fontsize =10,\n",
    "            weight='bold', \n",
    "            ha = 'center')\n",
    "\n",
    "y_labels = ax.get_yticks()\n",
    "y_labels = [f'{int(label)*1e-6:.0f}' for label in y_labels]\n",
    "ax.set_xticklabels(labels = ax.get_xticklabels(), rotation=0, fontsize = 10)\n",
    "ax.set_yticklabels(labels = y_labels, fontsize= 10)\n",
    "ax.set_ylabel('VKT [Mio. km]', fontsize = 12)\n",
    "ax.set_xlabel('Year', fontsize = 12)\n",
    "\n",
    "plt.legend(bbox_to_anchor =(1.2,0), loc = 'lower center', ncols=1, fontsize = 10)\n",
    "plt.show()"
   ]
  },
  {
   "cell_type": "code",
   "execution_count": 17,
   "metadata": {},
   "outputs": [
    {
     "name": "stderr",
     "output_type": "stream",
     "text": [
      "/var/folders/5v/yv2xq6j56r5459_qjzrm79rw0000gn/T/ipykernel_68258/1948940268.py:11: UserWarning: set_ticklabels() should only be used with a fixed number of ticks, i.e. after set_ticks() or using a FixedLocator.\n",
      "  ax.set_yticklabels(labels = y_labels, fontsize= 10)\n"
     ]
    },
    {
     "data": {
      "image/png": "[encoded data removed]",
      "text/plain": [
       "<Figure size 600x400 with 1 Axes>"
      ]
     },
     "metadata": {},
     "output_type": "display_data"
    }
   ],
   "source": [
    "fig, ax = plt.subplots(figsize =(6,4), tight_layout =True)\n",
    "\n",
    "los_class_vkt.plot(ax = ax, kind='bar', stacked = True)\n",
    "\n",
    "plt.title('VKT Share of Different Service Classes', fontsize = 12)\n",
    "\n",
    "\n",
    "y_labels = ax.get_yticks()\n",
    "y_labels = [f'{label*1e2:.0f} %' for label in y_labels]\n",
    "ax.set_xticklabels(labels = ax.get_xticklabels(), rotation=0, fontsize = 10)\n",
    "ax.set_yticklabels(labels = y_labels, fontsize= 10)\n",
    "ax.set_ylabel('LOS Share [%]', fontsize = 12)\n",
    "ax.set_xlabel('Year', fontsize = 12)\n",
    "\n",
    "iterator = 0\n",
    "for idx, row in los_class_vkt.iterrows():\n",
    "    pos_y = 0\n",
    "    for el in row:\n",
    "        ax.text(y = pos_y +(el/2),\n",
    "            x= iterator,\n",
    "            s = f'{el*100:.0f}%',\n",
    "            fontsize =8,\n",
    "            ha = 'center',\n",
    "            va = 'center', color = 'black')\n",
    "        if (el)<0.05: \n",
    "            pos_y += (el + 0.03)\n",
    "        else: \n",
    "            pos_y += el\n",
    "    iterator+=1\n",
    "\n",
    "plt.legend(bbox_to_anchor =(1.2,0), loc = 'lower center', ncols=1, fontsize = 10)\n",
    "plt.show()"
   ]
  }
 ],
 "metadata": {
  "kernelspec": {
   "display_name": ".venv",
   "language": "python",
   "name": "python3"
  },
  "language_info": {
   "codemirror_mode": {
    "name": "ipython",
    "version": 3
   },
   "file_extension": ".py",
   "mimetype": "text/x-python",
   "name": "python",
   "nbconvert_exporter": "python",
   "pygments_lexer": "ipython3",
   "version": "3.11.5"
  }
 },
 "nbformat": 4,
 "nbformat_minor": 2
}
