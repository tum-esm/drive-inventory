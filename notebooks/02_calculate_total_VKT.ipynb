{
 "cells": [
  {
   "cell_type": "markdown",
   "metadata": {},
   "source": [
    "*Technical University of Munich<br>\n",
    "Professorship of Environmental Sensing and Modeling<br><br>*\n",
    "**Author:**  Daniel Kühbacher<br>\n",
    "**Date:**  20.09.2024\n",
    "\n",
    "--- \n",
    "# Plot total vehicle kilometers travelled and their share across different traffic situations\n",
    "\n",
    "<!--Notebook description and usage information-->\n",
    "A primary result of the model is an estimate of the vehicle kilometers traveled (VKT) for different vehicle classes and the respective traffic conditions. This script uses the coutning data and traffic model to calculate the total annual VKT and share of traffic conditions in the timeframe of interest. "
   ]
  },
  {
   "cell_type": "code",
   "execution_count": 1,
   "metadata": {},
   "outputs": [],
   "source": [
    "# import libraries\n",
    "\n",
    "import sys\n",
    "import warnings\n",
    "import os\n",
    "os.environ['USE_PYGEOS'] = '0'\n",
    "\n",
    "import pandas as pd\n",
    "import numpy as np\n",
    "import geopandas as gpd\n",
    "import matplotlib.pyplot as plt\n",
    "from datetime import datetime\n",
    "\n",
    "sys.path.append('../utils')\n",
    "import data_paths\n",
    "from traffic_counts import TrafficCounts\n",
    "from hbefa_hot_emissions import HbefaHotEmissions\n",
    "from calculate_vkt import calculate_VKT\n",
    "\n",
    "warnings.filterwarnings(\"ignore\")\n",
    "\n",
    "# Reload local modules on changes\n",
    "%reload_ext autoreload\n",
    "%autoreload 2"
   ]
  },
  {
   "cell_type": "markdown",
   "metadata": {},
   "source": [
    "# Notebook settings"
   ]
  },
  {
   "cell_type": "code",
   "execution_count": 5,
   "metadata": {},
   "outputs": [],
   "source": [
    "# Define start and end time for emission calculation. Ideally this should cover a whole year.\n",
    "start_date = datetime(2019, 1, 1)\n",
    "end_date = datetime(2020, 12, 31)\n",
    "\n",
    "# define filename of the visum file\n",
    "visum_filename = \"visum_links.GPKG\"\n",
    "\n",
    "# if True, the script will only calculate the emission for the area within the roi polygon\n",
    "clip_to_area = True\n",
    "roi_polygon = data_paths.MUNICH_BOARDERS_FILE # defines ROI for clipping"
   ]
  },
  {
   "cell_type": "markdown",
   "metadata": {},
   "source": [
    "## Import Data"
   ]
  },
  {
   "cell_type": "code",
   "execution_count": null,
   "metadata": {},
   "outputs": [],
   "source": [
    "# import visum model, clip it to the ROI, and initialize cycles object\n",
    "\n",
    "visum = gpd.read_file(data_paths.VISUM_FOLDER_PATH + visum_filename)\n",
    "\n",
    "if clip_to_area:\n",
    "    roi = gpd.read_file(roi_polygon).to_crs(visum.crs)\n",
    "    visum = gpd.clip(visum, roi)\n",
    "    visum = visum.explode(ignore_index=True) # convert multipolygons to polygons\n",
    "\n",
    "#visum = visum_links\n",
    "visum = visum.reset_index(drop = True).reset_index() # reset index for calculation\n",
    "visum['road_lenght'] = visum['geometry'].length # add road length to visum dict\n",
    "\n",
    "# initialize traffic cycles\n",
    "cycles = TrafficCounts()\n",
    "# initialize HBEFA emission factors\n",
    "hbefa = HbefaHotEmissions()"
   ]
  },
  {
   "cell_type": "markdown",
   "metadata": {},
   "source": [
    "## Calculate VKT and traffic condition"
   ]
  },
  {
   "cell_type": "code",
   "execution_count": 7,
   "metadata": {},
   "outputs": [],
   "source": [
    "# Calculate VKT per year and traffic condition for each vehicle class\n",
    "\n",
    "vkt_result = dict()\n",
    "\n",
    "# create list of dates\n",
    "dates = [d.strftime(\"%Y-%m-%d\") for d in pd.date_range(start=start_date, end=end_date, freq='1d')]\n",
    "# extract list of years in dates list\n",
    "years = list(set([d.split('-')[0] for d in dates]))\n",
    "years.sort()\n",
    "\n",
    "# sort dates by year\n",
    "for year in years:\n",
    "    # create sublist of dates for each year\n",
    "    dates_in_year = [d for d in dates if d.startswith(year)]\n",
    "\n",
    "    final_result = {'Freeflow': np.array(5, float),\n",
    "                    'Heavy': np.array(5, float),\n",
    "                    'Satur.': np.array(5, float),\n",
    "                    'St+Go': np.array(5, float), \n",
    "                    'St+Go2': np.array(5, float)}\n",
    "    \n",
    "    # calculate for each date in the year\n",
    "    for date in dates_in_year: \n",
    "        cl, vehicle_index = calculate_VKT(date= date,\n",
    "                                          visum_dict=visum.to_dict('records'),\n",
    "                                          cycles_obj = cycles,\n",
    "                                          hbefa_obj = hbefa)\n",
    "        \n",
    "        for key, value in cl.items():\n",
    "            final_result[key] = final_result[key] + value\n",
    "    vkt_result.update({year:final_result})"
   ]
  },
  {
   "cell_type": "code",
   "execution_count": null,
   "metadata": {},
   "outputs": [],
   "source": [
    "# calculate total vehicle kilometers by vehicle class\n",
    "\n",
    "total_vkt = pd.DataFrame()\n",
    "for key, item in vkt_result.items(): \n",
    "    df = pd.DataFrame(data = item, index = vehicle_index).sum(axis =1)\n",
    "    df.name = key\n",
    "    total_vkt = pd.concat([total_vkt, df], axis = 1)\n",
    "\n",
    "total_vkt = total_vkt.transpose()\n",
    "total_vkt = total_vkt[['PC', 'LCV', 'HGV', 'BUS', 'MOT']]\n",
    "total_vkt"
   ]
  },
  {
   "cell_type": "code",
   "execution_count": null,
   "metadata": {},
   "outputs": [],
   "source": [
    "# Calculate share of total VKT for each traffic condition \n",
    "\n",
    "los_class_vkt = pd.DataFrame()\n",
    "for key, item in vkt_result.items(): \n",
    "    df = pd.DataFrame(data=item, index = vehicle_index).sum(axis = 0)\n",
    "    df.name = key\n",
    "    los_class_vkt = pd.concat([los_class_vkt, df], axis = 1)\n",
    "\n",
    "los_class_vkt = los_class_vkt.transpose() \n",
    "\n",
    "los_class_vkt = los_class_vkt.divide(los_class_vkt.sum(axis=1), axis =0)\n",
    "los_class_vkt"
   ]
  },
  {
   "cell_type": "markdown",
   "metadata": {},
   "source": [
    "# Plotting"
   ]
  },
  {
   "cell_type": "code",
   "execution_count": null,
   "metadata": {},
   "outputs": [],
   "source": [
    "fig, ax = plt.subplots(figsize =(6,4), tight_layout =True)\n",
    "\n",
    "total_vkt.plot(ax = ax, kind='bar', stacked = True)\n",
    "\n",
    "plt.title('Vehicle Kilometers Travelled (VKT)', fontsize = 12)\n",
    "\n",
    "# add totals\n",
    "y_offset = total_vkt.sum(axis=1).max()*0.02\n",
    "for idx, year in enumerate(total_vkt.index):\n",
    "    annual_vkt = total_vkt.loc[year].sum()\n",
    "    ax.text(y = annual_vkt + y_offset,\n",
    "            x= idx,\n",
    "            s = f'{(annual_vkt*1e-6):.1f}',\n",
    "            fontsize =10,\n",
    "            weight='bold', \n",
    "            ha = 'center')\n",
    "\n",
    "y_labels = ax.get_yticks()\n",
    "y_labels = [f'{int(label)*1e-6:.0f}' for label in y_labels]\n",
    "ax.set_xticklabels(labels = ax.get_xticklabels(), rotation=0, fontsize = 10)\n",
    "ax.set_yticklabels(labels = y_labels, fontsize= 10)\n",
    "ax.set_ylabel('VKT [Mio. km]', fontsize = 12)\n",
    "ax.set_xlabel('Year', fontsize = 12)\n",
    "\n",
    "plt.legend(bbox_to_anchor =(1.2,0), loc = 'lower center', ncols=1, fontsize = 10)\n",
    "plt.ylim(0, total_vkt.sum(axis=1).max()*1.15)\n",
    "plt.show()"
   ]
  },
  {
   "cell_type": "code",
   "execution_count": null,
   "metadata": {},
   "outputs": [],
   "source": [
    "fig, ax = plt.subplots(figsize =(6,4), tight_layout =True)\n",
    "los_class_vkt.plot(ax = ax, kind='bar', stacked = True)\n",
    "\n",
    "y_labels = ax.get_yticks()\n",
    "y_labels = [f'{label*1e2:.0f} %' for label in y_labels]\n",
    "ax.set_xticklabels(labels = ax.get_xticklabels(), rotation=0, fontsize = 10)\n",
    "ax.set_yticklabels(labels = y_labels, fontsize= 10)\n",
    "ax.set_ylabel('LOS Share [%]', fontsize = 12)\n",
    "ax.set_xlabel('Year', fontsize = 12)\n",
    "\n",
    "i = 0\n",
    "for idx, row in los_class_vkt.iterrows():\n",
    "    pos_y = 0\n",
    "    for el in row:\n",
    "        ax.text(y = pos_y +(el/2),\n",
    "            x= i,\n",
    "            s = f'{el*100:.0f}%',\n",
    "            fontsize =8,\n",
    "            ha = 'center',\n",
    "            va = 'center', color = 'black')\n",
    "        if (el)<0.05: \n",
    "            pos_y += (el + 0.03)\n",
    "        else: \n",
    "            pos_y += el\n",
    "    i+=1\n",
    "\n",
    "plt.title('VKT Share of Different Service Classes', fontsize = 12)\n",
    "plt.legend(bbox_to_anchor =(1.2,0), loc = 'lower center', ncols=1, fontsize = 10)\n",
    "plt.ylim(0,1.1)\n",
    "plt.show()"
   ]
  }
 ],
 "metadata": {
  "kernelspec": {
   "display_name": ".venv",
   "language": "python",
   "name": "python3"
  },
  "language_info": {
   "codemirror_mode": {
    "name": "ipython",
    "version": 3
   },
   "file_extension": ".py",
   "mimetype": "text/x-python",
   "name": "python",
   "nbconvert_exporter": "python",
   "pygments_lexer": "ipython3",
   "version": "3.11.5"
  }
 },
 "nbformat": 4,
 "nbformat_minor": 2
}
