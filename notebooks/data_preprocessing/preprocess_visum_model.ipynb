{
 "cells": [
  {
   "cell_type": "markdown",
   "metadata": {},
   "source": [
    "\n",
    "*Technical University of Munich<br>\n",
    "Professorship of Environmental Sensing and Modeling<br><br>*\n",
    "**Author:**  Daniel Kühbacher<br>\n",
    "**Date:**  26.01.2024\n",
    "\n",
    "--- \n",
    "\n",
    "# VISUM Model Preprocessing\n",
    "\n",
    "<!--Notebook description and usage information-->\n",
    "This notebook processes the raw VISUM traffic model export and converts the data into gpkg files."
   ]
  },
  {
   "cell_type": "code",
   "execution_count": 1,
   "metadata": {},
   "outputs": [],
   "source": [
    "import sys\n",
    "\n",
    "import geopandas as gpd\n",
    "\n",
    "# import custom modules\n",
    "sys.path.append('../../utils/')\n",
    "import data_paths\n",
    "from excel_calendar import Calendar\n",
    "from traffic_counts import TrafficCounts"
   ]
  },
  {
   "cell_type": "markdown",
   "metadata": {},
   "source": [
    "## Import VISUM traffic model data\n",
    "\n",
    "The VISUM traffic model provides geoinformation for every road in the region of interest. This includes the indicated speed, the road gradient, road type, hour capacity and the daily average traffic of different vehicle classes.<br>\n",
    "Additionally, origin-destination matricies, a fundamental input for macroscopic traffic models, are imported. These include the number of starts within the region and will be used to determine cold start emissions."
   ]
  },
  {
   "cell_type": "code",
   "execution_count": 2,
   "metadata": {},
   "outputs": [
    {
     "name": "stdout",
     "output_type": "stream",
     "text": [
      "Coordinate reference system of VISUM link data: EPSG:25832\n",
      "Coordinate reference system of VISUM zones data: EPSG:25832\n"
     ]
    }
   ],
   "source": [
    "# import visum data\n",
    "visum_link_path = data_paths.VISUM_FOLDER_PATH + \"analyse_2019_link.SHP\"\n",
    "visum_zone_path = data_paths.VISUM_FOLDER_PATH + \"analyse_2019_zone.SHP\"\n",
    "\n",
    "visum_links = gpd.read_file(visum_link_path)\n",
    "visum_zones = gpd.read_file(visum_zone_path)\n",
    "\n",
    "print(f\"Coordinate reference system of VISUM link data: {visum_links.crs}\")\n",
    "print(f\"Coordinate reference system of VISUM zones data: {visum_zones.crs}\")"
   ]
  },
  {
   "cell_type": "markdown",
   "metadata": {},
   "source": [
    "## Notebook functions"
   ]
  },
  {
   "cell_type": "code",
   "execution_count": 3,
   "metadata": {},
   "outputs": [],
   "source": [
    "def hbefa_road_type(visum_typeno, speed) -> str: \n",
    "    \"\"\"returns hbefa compatible road type for all road types in the visum traffic model of Munich.\n",
    "    The information below was collected from the official documentation of the VIUSM model and \n",
    "    matched to HBEFA types. Further processing might be necessary if not all road types are used.\n",
    "    \n",
    "    0-10: gesperrte und fiktive Strecken sowie Fuß- und Radwege\n",
    "    100-199: Autobahnen\n",
    "    200-299: Bundesstraßen\n",
    "    300-399: Staatsstraßen\n",
    "    400-499: Kreisstraßen\n",
    "    500-599: Gemeindestraßen\n",
    "    600-699: Hauptstraßen (innerorts)\n",
    "    700-799: Erschließungsstraßen\n",
    "    800-899: Mittlerer Ring\n",
    "    900-999: ÖV Strecken\n",
    "\n",
    "    Args:\n",
    "        visum_typeno (string object): defines the road type in the VISUM model\n",
    "\n",
    "    Returns:\n",
    "        str: HBEFA compatible road type\n",
    "    \"\"\"\n",
    "    \n",
    "    int_typeno = int(visum_typeno)\n",
    "    \n",
    "    if 0 <= int_typeno <=10: \n",
    "        return 'none'\n",
    "    if 100 <= int_typeno <=199:\n",
    "        return 'Motorway-Nat'\n",
    "    if 200 <= int_typeno <=499:\n",
    "        if speed >=70: \n",
    "            return 'TrunkRoad/Primary-National'\n",
    "        else:\n",
    "            return 'Distributor/Secondary'\n",
    "    if 500 <= int_typeno <=699: \n",
    "        return 'Distributor/Secondary'\n",
    "    if 700 <= int_typeno <=799: \n",
    "        return 'Access-residential'\n",
    "    if 800 <= int_typeno <=899: \n",
    "        return 'TrunkRoad/Primary-City'\n",
    "    if 900 <= int_typeno <=999: \n",
    "        return 'none'\n",
    "    else: \n",
    "        return 'none'"
   ]
  },
  {
   "cell_type": "code",
   "execution_count": 4,
   "metadata": {},
   "outputs": [],
   "source": [
    "def hbefa_road_gradients(visum_gradient) -> str:\n",
    "    \"\"\"Converts any road gradient value to the closest gradient \n",
    "    value available in HBEFA and returns it as a string.\n",
    "\n",
    "    Args:\n",
    "        road_gradient(float): Slope of the road\n",
    "\n",
    "    Returns:\n",
    "        str: road gradient string (e.g., '+6%')\n",
    "    \"\"\"\n",
    "    hbefa_gradients = [-6, -4, -2, 0, 2, 4, 6]\n",
    "    \n",
    "    hbefa_gradient = min(hbefa_gradients, key=lambda x: abs(x - visum_gradient))\n",
    "    hbefa_gradient_string = str(hbefa_gradient)+'%'\n",
    "    \n",
    "    return hbefa_gradient_string"
   ]
  },
  {
   "cell_type": "code",
   "execution_count": 5,
   "metadata": {},
   "outputs": [],
   "source": [
    "def hbefa_speed_value(hbefa_road_type:str,\n",
    "                     speed:int) -> int:\n",
    "    \n",
    "        \"\"\"Converts speed value to closest speed value available in HEBFA\n",
    "\n",
    "        Args:\n",
    "            road_type (str): road type \n",
    "            speed (int): speed value\n",
    "\n",
    "        Returns:\n",
    "            int: Speed value available in HBEFA\n",
    "        \"\"\"\n",
    "        try:\n",
    "            hbefa_speed = {'Motorway-Nat': [80, 90, 100, 110, 120, 130],\n",
    "                        'Motorway-City': [60, 70, 80, 90, 100, 110],\n",
    "                        'TrunkRoad/Primary-National': [70, 80, 90, 100, 110, 120],\n",
    "                        'TrunkRoad/Primary-City': [50, 60, 70, 80, 90],\n",
    "                        'Distributor/Secondary': [30, 40, 50, 60, 70, 80],\n",
    "                        'Local/Collector': [30, 40, 50, 60],\n",
    "                        'Access-residential': [30, 40, 50]}\n",
    "            \n",
    "            hbefa_speed = min(hbefa_speed[hbefa_road_type], key=lambda x: abs(x - speed))\n",
    "            \n",
    "        except KeyError as e: \n",
    "            print('error ' + str(e))\n",
    "            print(hbefa_road_type)\n",
    "            print(speed)\n",
    "        return hbefa_speed"
   ]
  },
  {
   "cell_type": "markdown",
   "metadata": {},
   "source": [
    "## Data processing\n",
    "- Drop columns with DTV < 1\n",
    "- Convert road type, speed and gradient to HBEFA compatible values\n",
    "- Drop columns with undefined road type\n",
    "- Rename columns"
   ]
  },
  {
   "cell_type": "code",
   "execution_count": 6,
   "metadata": {},
   "outputs": [],
   "source": [
    "# drop columns where the daily traffic ('SUMME_KFZ') is < 1 vehicle\n",
    "visum_links = visum_links.drop(visum_links.loc[(visum_links['SUMME_KFZ'] < 1)].index, axis = 0)\n",
    "\n",
    "# add road type to visum link data and drop entries with 'None' road type\n",
    "visum_links['road_type'] = visum_links.apply(lambda row: hbefa_road_type(row['TYPENO'],row['V0PRT']), axis = 1)\n",
    "visum_links = visum_links.drop(visum_links.loc[(visum_links['road_type'] == 'none')].index, axis = 0)\n",
    "\n",
    "# convert road gradient values\n",
    "visum_links['hbefa_gradient'] = visum_links.apply(lambda row: hbefa_road_gradients(row['SLOPE']), axis = 1)\n",
    "\n",
    "# convert hbefa speed values\n",
    "visum_links['hbefa_speed'] = visum_links.apply(lambda row: hbefa_speed_value(speed = row['V0PRT'],\n",
    "                                                                             hbefa_road_type = row['road_type']), axis =1)\n",
    "\n",
    "# aggregate heavy vehicle rows\n",
    "visum_links['dtv_HGV'] = visum_links[['BEL_LKW_M','BEL_LKW_G']].sum(axis = 1)\n",
    "\n",
    "# rename rows\n",
    "visum_links.rename(columns={\n",
    "    'SUMME_KFZ':'dtv_SUM',\n",
    "    'NO':'road_link_id',\n",
    "    'BEL_PKW':'dtv_PC',\n",
    "    'BEL_LKW_K':'dtv_LCV',\n",
    "    'CAPPRT':'hour_capacity',\n",
    "    'V0PRT':'speed'\n",
    "}, inplace = True)\n",
    "\n",
    "# reset index\n",
    "visum_links = visum_links.reset_index(drop = True)"
   ]
  },
  {
   "cell_type": "markdown",
   "metadata": {},
   "source": [
    "# Scaling road types\n",
    "Since there are no scaling factors for every road type but aggregated time profiles, a column 'scaling_road_type' is introduced to match the scaling factors with the visum model"
   ]
  },
  {
   "cell_type": "code",
   "execution_count": 7,
   "metadata": {},
   "outputs": [],
   "source": [
    "# since there are no scaling factors for every road type but aggregated time profiles, \n",
    "# a column 'scaling_road_type' is introduced to match the scaling factors with the visum model\n",
    "scaling_road_types = {'Motorway-Nat': 'Motorway-Nat',\n",
    "                      'Motorway-City': 'Motorway-Nat',\n",
    "                      'TrunkRoad/Primary-National': 'Distributor/Secondary',\n",
    "                      'TrunkRoad/Primary-City': 'TrunkRoad/Primary-City',\n",
    "                      'Distributor/Secondary': 'Distributor/Secondary',\n",
    "                      'Local/Collector': 'Distributor/Secondary',\n",
    "                      'Access-residential': 'Distributor/Secondary'}\n",
    "\n",
    "visum_links['scaling_road_type'] = visum_links['road_type'].map(scaling_road_types)"
   ]
  },
  {
   "cell_type": "markdown",
   "metadata": {},
   "source": [
    "# Vehicle share correction factors\n",
    "Scaling the VISUM model by traffic counting data requires vehicle-specific counting data as provided with classified 8+1 counts. With these counts it is possible to estimate an average vehicle share for each road type, however, it is not possible to account for spatial differences. While the total traffic volume is driven by personal cars, this effect is not severe for this vehicle type. In contrast, heavy trucks and light cargo vehicle show significant inter road-type differences in vehicle share which should be accounted with a correction factor. The correction factor is based on actual shares provided by the VISUM model and counted shares from traffic counting stations. "
   ]
  },
  {
   "cell_type": "code",
   "execution_count": 8,
   "metadata": {},
   "outputs": [],
   "source": [
    "# calculate vehicle shares of the vehicle classes\n",
    "visum_links['delta_HGV'] = visum_links['dtv_HGV'] / visum_links['dtv_SUM']\n",
    "visum_links['delta_LCV'] = visum_links['dtv_LCV'] / visum_links['dtv_SUM']\n",
    "visum_links['delta_PC'] = visum_links['dtv_PC'] / visum_links['dtv_SUM']"
   ]
  },
  {
   "cell_type": "code",
   "execution_count": 9,
   "metadata": {},
   "outputs": [],
   "source": [
    "cal = Calendar()\n",
    "cycles = TrafficCounts()\n",
    "\n",
    "dates = cal.get_calendar()\n",
    "dates['combined_day_type'] = dates['date'].apply(cal.get_day_type_combined)\n",
    "normweekdays_2019 = dates [(dates['date'].between('2019-01-01','2019-12-31')) &\n",
    "                           (dates['combined_day_type'] == 0)]['date']\n",
    "\n",
    "# calculate vehicle shares on average norm weekday in 2019\n",
    "# these values are used to calculate the vehicle share correction factors\n",
    "shares_2019 = cycles.vehicle_shares.loc[:,normweekdays_2019].reset_index()\n",
    "shares_2019 = shares_2019.groupby(['road_type','vehicle_class'])[0].mean()\n",
    "\n",
    "visum_links['hgv_corr'] = visum_links.apply(\\\n",
    "    lambda row : row['delta_HGV'] / shares_2019.loc[row['scaling_road_type'],'HGV'],\n",
    "    axis = 1)\n",
    "visum_links['lcv_corr'] = visum_links.apply(\\\n",
    "    lambda row : row['delta_LCV'] / shares_2019.loc[row['scaling_road_type'],'LCV'],\n",
    "    axis = 1)"
   ]
  },
  {
   "cell_type": "markdown",
   "metadata": {},
   "source": [
    "## Distribute cold starts"
   ]
  },
  {
   "cell_type": "code",
   "execution_count": 10,
   "metadata": {},
   "outputs": [],
   "source": [
    "# add empty columns to the visum links file for cold starts\n",
    "visum_zones.rename(columns={\n",
    "    'qv_pkw':'PC_starts',\n",
    "    'qv_lkw_k':'LCV_starts',\n",
    "}, inplace = True)\n",
    "\n",
    "visum_links[['PC_cold_starts', 'LCV_cold_starts']] = 0.0\n",
    "\n",
    "# evenly distribute the number of starts to all road links within a buffered \n",
    "# region around the origin of starts\n",
    "buffer_distance = 1500\n",
    "\n",
    "for idx, row in visum_zones.iterrows():\n",
    "    geometry = row.geometry.buffer(buffer_distance)\n",
    "    geometry = gpd.GeoDataFrame(geometry=[row.geometry.buffer(buffer_distance)], crs=25832)\n",
    "    combined = gpd.sjoin(geometry, visum_links, how=\"right\", predicate='intersects').dropna()\n",
    "    \n",
    "    sum_dtv = combined['dtv_SUM'].sum()\n",
    "    pc_cs = visum_links.loc[combined.index, 'dtv_SUM'] * row['PC_starts']/sum_dtv\n",
    "    visum_links.loc[combined.index, 'PC_cold_starts']  += pc_cs\n",
    "    \n",
    "    lcv_cs = visum_links.loc[combined.index, 'dtv_SUM'] * row['LCV_starts']/sum_dtv\n",
    "    visum_links.loc[combined.index, 'LCV_cold_starts'] += lcv_cs"
   ]
  },
  {
   "cell_type": "markdown",
   "metadata": {},
   "source": [
    "## Save processed data"
   ]
  },
  {
   "cell_type": "code",
   "execution_count": 11,
   "metadata": {},
   "outputs": [
    {
     "ename": "KeyError",
     "evalue": "\"['pc_corr'] not in index\"",
     "output_type": "error",
     "traceback": [
      "\u001b[0;31m---------------------------------------------------------------------------\u001b[0m",
      "\u001b[0;31mKeyError\u001b[0m                                  Traceback (most recent call last)",
      "Cell \u001b[0;32mIn[11], line 6\u001b[0m\n\u001b[1;32m      1\u001b[0m links_columns_to_keep \u001b[38;5;241m=\u001b[39m [\u001b[38;5;124m'\u001b[39m\u001b[38;5;124mroad_link_id\u001b[39m\u001b[38;5;124m'\u001b[39m, \u001b[38;5;124m'\u001b[39m\u001b[38;5;124mroad_type\u001b[39m\u001b[38;5;124m'\u001b[39m, \u001b[38;5;124m'\u001b[39m\u001b[38;5;124mscaling_road_type\u001b[39m\u001b[38;5;124m'\u001b[39m,\u001b[38;5;124m'\u001b[39m\u001b[38;5;124mhour_capacity\u001b[39m\u001b[38;5;124m'\u001b[39m,\n\u001b[1;32m      2\u001b[0m                          \u001b[38;5;124m'\u001b[39m\u001b[38;5;124mhbefa_speed\u001b[39m\u001b[38;5;124m'\u001b[39m, \u001b[38;5;124m'\u001b[39m\u001b[38;5;124mspeed\u001b[39m\u001b[38;5;124m'\u001b[39m, \u001b[38;5;124m'\u001b[39m\u001b[38;5;124mhbefa_gradient\u001b[39m\u001b[38;5;124m'\u001b[39m, \u001b[38;5;124m'\u001b[39m\u001b[38;5;124mdtv_SUM\u001b[39m\u001b[38;5;124m'\u001b[39m, \u001b[38;5;124m'\u001b[39m\u001b[38;5;124mdelta_PC\u001b[39m\u001b[38;5;124m'\u001b[39m, \n\u001b[1;32m      3\u001b[0m                          \u001b[38;5;124m'\u001b[39m\u001b[38;5;124mdelta_LCV\u001b[39m\u001b[38;5;124m'\u001b[39m, \u001b[38;5;124m'\u001b[39m\u001b[38;5;124mdelta_HGV\u001b[39m\u001b[38;5;124m'\u001b[39m, \u001b[38;5;124m'\u001b[39m\u001b[38;5;124mhgv_corr\u001b[39m\u001b[38;5;124m'\u001b[39m, \u001b[38;5;124m'\u001b[39m\u001b[38;5;124mlcv_corr\u001b[39m\u001b[38;5;124m'\u001b[39m, \u001b[38;5;124m'\u001b[39m\u001b[38;5;124mpc_corr\u001b[39m\u001b[38;5;124m'\u001b[39m, \u001b[38;5;124m'\u001b[39m\u001b[38;5;124mPC_cold_starts\u001b[39m\u001b[38;5;124m'\u001b[39m,\n\u001b[1;32m      4\u001b[0m                          \u001b[38;5;124m'\u001b[39m\u001b[38;5;124mLCV_cold_starts\u001b[39m\u001b[38;5;124m'\u001b[39m, \u001b[38;5;124m'\u001b[39m\u001b[38;5;124mgeometry\u001b[39m\u001b[38;5;124m'\u001b[39m]\n\u001b[0;32m----> 6\u001b[0m \u001b[43mvisum_links\u001b[49m\u001b[43m[\u001b[49m\u001b[43mlinks_columns_to_keep\u001b[49m\u001b[43m]\u001b[49m\u001b[38;5;241m.\u001b[39mto_file(data_paths\u001b[38;5;241m.\u001b[39mVISUM_FOLDER_PATH\u001b[38;5;241m+\u001b[39m\u001b[38;5;124m'\u001b[39m\u001b[38;5;124mvisum_links.gpkg\u001b[39m\u001b[38;5;124m'\u001b[39m,\n\u001b[1;32m      7\u001b[0m                                            driver\u001b[38;5;241m=\u001b[39m\u001b[38;5;124m'\u001b[39m\u001b[38;5;124mGPKG\u001b[39m\u001b[38;5;124m'\u001b[39m)\n",
      "File \u001b[0;32m~/Documents/projects/traffic inventory v2/traffic-emission-inventory/.venv/lib/python3.11/site-packages/geopandas/geodataframe.py:1474\u001b[0m, in \u001b[0;36mGeoDataFrame.__getitem__\u001b[0;34m(self, key)\u001b[0m\n\u001b[1;32m   1468\u001b[0m \u001b[38;5;28;01mdef\u001b[39;00m \u001b[38;5;21m__getitem__\u001b[39m(\u001b[38;5;28mself\u001b[39m, key):\n\u001b[1;32m   1469\u001b[0m \u001b[38;5;250m    \u001b[39m\u001b[38;5;124;03m\"\"\"\u001b[39;00m\n\u001b[1;32m   1470\u001b[0m \u001b[38;5;124;03m    If the result is a column containing only 'geometry', return a\u001b[39;00m\n\u001b[1;32m   1471\u001b[0m \u001b[38;5;124;03m    GeoSeries. If it's a DataFrame with any columns of GeometryDtype,\u001b[39;00m\n\u001b[1;32m   1472\u001b[0m \u001b[38;5;124;03m    return a GeoDataFrame.\u001b[39;00m\n\u001b[1;32m   1473\u001b[0m \u001b[38;5;124;03m    \"\"\"\u001b[39;00m\n\u001b[0;32m-> 1474\u001b[0m     result \u001b[38;5;241m=\u001b[39m \u001b[38;5;28;43msuper\u001b[39;49m\u001b[43m(\u001b[49m\u001b[43m)\u001b[49m\u001b[38;5;241;43m.\u001b[39;49m\u001b[38;5;21;43m__getitem__\u001b[39;49m\u001b[43m(\u001b[49m\u001b[43mkey\u001b[49m\u001b[43m)\u001b[49m\n\u001b[1;32m   1475\u001b[0m     \u001b[38;5;66;03m# Custom logic to avoid waiting for pandas GH51895\u001b[39;00m\n\u001b[1;32m   1476\u001b[0m     \u001b[38;5;66;03m# result is not geometry dtype for multi-indexes\u001b[39;00m\n\u001b[1;32m   1477\u001b[0m     \u001b[38;5;28;01mif\u001b[39;00m (\n\u001b[1;32m   1478\u001b[0m         pd\u001b[38;5;241m.\u001b[39mapi\u001b[38;5;241m.\u001b[39mtypes\u001b[38;5;241m.\u001b[39mis_scalar(key)\n\u001b[1;32m   1479\u001b[0m         \u001b[38;5;129;01mand\u001b[39;00m key \u001b[38;5;241m==\u001b[39m \u001b[38;5;124m\"\u001b[39m\u001b[38;5;124m\"\u001b[39m\n\u001b[0;32m   (...)\u001b[0m\n\u001b[1;32m   1482\u001b[0m         \u001b[38;5;129;01mand\u001b[39;00m \u001b[38;5;129;01mnot\u001b[39;00m is_geometry_type(result)\n\u001b[1;32m   1483\u001b[0m     ):\n",
      "File \u001b[0;32m~/Documents/projects/traffic inventory v2/traffic-emission-inventory/.venv/lib/python3.11/site-packages/pandas/core/frame.py:3902\u001b[0m, in \u001b[0;36mDataFrame.__getitem__\u001b[0;34m(self, key)\u001b[0m\n\u001b[1;32m   3900\u001b[0m     \u001b[38;5;28;01mif\u001b[39;00m is_iterator(key):\n\u001b[1;32m   3901\u001b[0m         key \u001b[38;5;241m=\u001b[39m \u001b[38;5;28mlist\u001b[39m(key)\n\u001b[0;32m-> 3902\u001b[0m     indexer \u001b[38;5;241m=\u001b[39m \u001b[38;5;28;43mself\u001b[39;49m\u001b[38;5;241;43m.\u001b[39;49m\u001b[43mcolumns\u001b[49m\u001b[38;5;241;43m.\u001b[39;49m\u001b[43m_get_indexer_strict\u001b[49m\u001b[43m(\u001b[49m\u001b[43mkey\u001b[49m\u001b[43m,\u001b[49m\u001b[43m \u001b[49m\u001b[38;5;124;43m\"\u001b[39;49m\u001b[38;5;124;43mcolumns\u001b[39;49m\u001b[38;5;124;43m\"\u001b[39;49m\u001b[43m)\u001b[49m[\u001b[38;5;241m1\u001b[39m]\n\u001b[1;32m   3904\u001b[0m \u001b[38;5;66;03m# take() does not accept boolean indexers\u001b[39;00m\n\u001b[1;32m   3905\u001b[0m \u001b[38;5;28;01mif\u001b[39;00m \u001b[38;5;28mgetattr\u001b[39m(indexer, \u001b[38;5;124m\"\u001b[39m\u001b[38;5;124mdtype\u001b[39m\u001b[38;5;124m\"\u001b[39m, \u001b[38;5;28;01mNone\u001b[39;00m) \u001b[38;5;241m==\u001b[39m \u001b[38;5;28mbool\u001b[39m:\n",
      "File \u001b[0;32m~/Documents/projects/traffic inventory v2/traffic-emission-inventory/.venv/lib/python3.11/site-packages/pandas/core/indexes/base.py:6114\u001b[0m, in \u001b[0;36mIndex._get_indexer_strict\u001b[0;34m(self, key, axis_name)\u001b[0m\n\u001b[1;32m   6111\u001b[0m \u001b[38;5;28;01melse\u001b[39;00m:\n\u001b[1;32m   6112\u001b[0m     keyarr, indexer, new_indexer \u001b[38;5;241m=\u001b[39m \u001b[38;5;28mself\u001b[39m\u001b[38;5;241m.\u001b[39m_reindex_non_unique(keyarr)\n\u001b[0;32m-> 6114\u001b[0m \u001b[38;5;28;43mself\u001b[39;49m\u001b[38;5;241;43m.\u001b[39;49m\u001b[43m_raise_if_missing\u001b[49m\u001b[43m(\u001b[49m\u001b[43mkeyarr\u001b[49m\u001b[43m,\u001b[49m\u001b[43m \u001b[49m\u001b[43mindexer\u001b[49m\u001b[43m,\u001b[49m\u001b[43m \u001b[49m\u001b[43maxis_name\u001b[49m\u001b[43m)\u001b[49m\n\u001b[1;32m   6116\u001b[0m keyarr \u001b[38;5;241m=\u001b[39m \u001b[38;5;28mself\u001b[39m\u001b[38;5;241m.\u001b[39mtake(indexer)\n\u001b[1;32m   6117\u001b[0m \u001b[38;5;28;01mif\u001b[39;00m \u001b[38;5;28misinstance\u001b[39m(key, Index):\n\u001b[1;32m   6118\u001b[0m     \u001b[38;5;66;03m# GH 42790 - Preserve name from an Index\u001b[39;00m\n",
      "File \u001b[0;32m~/Documents/projects/traffic inventory v2/traffic-emission-inventory/.venv/lib/python3.11/site-packages/pandas/core/indexes/base.py:6178\u001b[0m, in \u001b[0;36mIndex._raise_if_missing\u001b[0;34m(self, key, indexer, axis_name)\u001b[0m\n\u001b[1;32m   6175\u001b[0m     \u001b[38;5;28;01mraise\u001b[39;00m \u001b[38;5;167;01mKeyError\u001b[39;00m(\u001b[38;5;124mf\u001b[39m\u001b[38;5;124m\"\u001b[39m\u001b[38;5;124mNone of [\u001b[39m\u001b[38;5;132;01m{\u001b[39;00mkey\u001b[38;5;132;01m}\u001b[39;00m\u001b[38;5;124m] are in the [\u001b[39m\u001b[38;5;132;01m{\u001b[39;00maxis_name\u001b[38;5;132;01m}\u001b[39;00m\u001b[38;5;124m]\u001b[39m\u001b[38;5;124m\"\u001b[39m)\n\u001b[1;32m   6177\u001b[0m not_found \u001b[38;5;241m=\u001b[39m \u001b[38;5;28mlist\u001b[39m(ensure_index(key)[missing_mask\u001b[38;5;241m.\u001b[39mnonzero()[\u001b[38;5;241m0\u001b[39m]]\u001b[38;5;241m.\u001b[39munique())\n\u001b[0;32m-> 6178\u001b[0m \u001b[38;5;28;01mraise\u001b[39;00m \u001b[38;5;167;01mKeyError\u001b[39;00m(\u001b[38;5;124mf\u001b[39m\u001b[38;5;124m\"\u001b[39m\u001b[38;5;132;01m{\u001b[39;00mnot_found\u001b[38;5;132;01m}\u001b[39;00m\u001b[38;5;124m not in index\u001b[39m\u001b[38;5;124m\"\u001b[39m)\n",
      "\u001b[0;31mKeyError\u001b[0m: \"['pc_corr'] not in index\""
     ]
    }
   ],
   "source": [
    "links_columns_to_keep = ['road_link_id', 'road_type', 'scaling_road_type','hour_capacity',\n",
    "                         'hbefa_speed', 'speed', 'hbefa_gradient', 'dtv_SUM', 'delta_PC', \n",
    "                         'delta_LCV', 'delta_HGV', 'hgv_corr', 'lcv_corr', 'pc_corr', 'PC_cold_starts',\n",
    "                         'LCV_cold_starts', 'geometry']\n",
    "\n",
    "visum_links[links_columns_to_keep].to_file(data_paths.VISUM_FOLDER_PATH+'visum_links.gpkg',\n",
    "                                           driver='GPKG')"
   ]
  }
 ],
 "metadata": {
  "kernelspec": {
   "display_name": "Python 3 (ipykernel)",
   "language": "python",
   "name": "python3"
  },
  "language_info": {
   "codemirror_mode": {
    "name": "ipython",
    "version": 3
   },
   "file_extension": ".py",
   "mimetype": "text/x-python",
   "name": "python",
   "nbconvert_exporter": "python",
   "pygments_lexer": "ipython3",
   "version": "3.11.5"
  }
 },
 "nbformat": 4,
 "nbformat_minor": 4
}
