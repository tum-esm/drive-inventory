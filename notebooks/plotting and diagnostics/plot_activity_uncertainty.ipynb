{
 "cells": [
  {
   "cell_type": "markdown",
   "metadata": {},
   "source": [
    "*Technical University of Munich<br>\n",
    "Professorship of Environmental Sensing and Modeling<br><br>*\n",
    "**Author:**  Daniel Kühbacher<br>\n",
    "**Date:**  07.10.2024\n",
    "\n",
    "--- \n",
    "\n",
    "# Uncertainty of the traffic volume estimate\n",
    "\n",
    "<!--Notebook description and usage information-->\n",
    "\n"
   ]
  },
  {
   "cell_type": "code",
   "execution_count": 29,
   "metadata": {},
   "outputs": [],
   "source": [
    "import sys\n",
    "import os\n",
    "os.environ['USE_PYGEOS'] = '0'\n",
    "\n",
    "import pandas as pd\n",
    "import numpy as np\n",
    "import geopandas as gpd\n",
    "import matplotlib.pyplot as plt\n",
    "from math import sqrt\n",
    "from scipy import stats\n",
    "from sklearn.metrics import r2_score \n",
    "\n",
    "import seaborn as sns\n",
    "\n",
    "\n",
    "# import custom modules\n",
    "sys.path.append('../../utils')\n",
    "import data_paths\n",
    "import traffic_counts\n",
    "import excel_calendar"
   ]
  },
  {
   "cell_type": "markdown",
   "metadata": {},
   "source": [
    "# Notebook Settings "
   ]
  },
  {
   "cell_type": "code",
   "execution_count": 2,
   "metadata": {},
   "outputs": [],
   "source": [
    "# define filename of the visum file\n",
    "visum_filename = \"visum_links.GPKG\"\n",
    "cnt_data_filename = data_paths.COUNTING_PATH + 'counting_data_combined.parquet'"
   ]
  },
  {
   "cell_type": "markdown",
   "metadata": {},
   "source": [
    "## Import Data"
   ]
  },
  {
   "cell_type": "code",
   "execution_count": 3,
   "metadata": {},
   "outputs": [],
   "source": [
    "# import visum model\n",
    "_tm = gpd.read_file(data_paths.VISUM_FOLDER_PATH + visum_filename)\n",
    "_tm['dtv_PC'] = _tm['dtv_SUM'] * _tm['delta_PC']\n",
    "_tm['dtv_LCV'] = _tm['dtv_SUM'] * _tm['delta_LCV']\n",
    "_tm['dtv_HGV'] = _tm['dtv_SUM'] * _tm['delta_HGV']\n",
    "traffic_model = _tm.groupby('road_link_id').agg({'dtv_SUM': 'sum',\n",
    "                                                 'dtv_PC': 'sum',\n",
    "                                                 'dtv_LCV': 'sum',\n",
    "                                                 'dtv_HGV': 'sum',\n",
    "                                                 'scaling_road_type': lambda group: group.iloc[0]})\n",
    "\n",
    "# import counting data\n",
    "cnt_data = pd.read_parquet(cnt_data_filename)\n",
    "cnt_data = cnt_data[cnt_data['date'].between('2019-01-01', '2019-12-31')]\n",
    "\n",
    "# notebook variables\n",
    "valid_road_links = cnt_data[(cnt_data['valid'])]['road_link_id'].unique()\n",
    "vehicle_classes = ['PC', 'HGV', 'LCV', 'MOT', 'BUS', 'SUM']"
   ]
  },
  {
   "cell_type": "code",
   "execution_count": 4,
   "metadata": {},
   "outputs": [],
   "source": [
    "# initialize objects\n",
    "traffic_activity = traffic_counts.TrafficCounts()\n",
    "cal = excel_calendar.Calendar()"
   ]
  },
  {
   "cell_type": "markdown",
   "metadata": {},
   "source": [
    "## Notebook Functions"
   ]
  },
  {
   "cell_type": "code",
   "execution_count": 5,
   "metadata": {},
   "outputs": [],
   "source": [
    "def Serialize_cnt(df):\n",
    "    cnt_ser = pd.DataFrame()\n",
    "    for idx, row in df.iterrows():\n",
    "        _df = pd.DataFrame(index=pd.date_range(start=idx,\n",
    "                                               periods = 24,\n",
    "                                               freq='1h'),\n",
    "                        data = {'count': np.array(row[-24:])})\n",
    "        cnt_ser = pd.concat([cnt_ser, _df])\n",
    "    cnt_ser = cnt_ser.sort_index()\n",
    "    return cnt_ser"
   ]
  },
  {
   "cell_type": "code",
   "execution_count": 6,
   "metadata": {},
   "outputs": [],
   "source": [
    "def divide_no_error(a,b): \n",
    "    try:\n",
    "        return a/b\n",
    "    except ZeroDivisionError:\n",
    "        return np.nan\n",
    "    \n",
    "def calc_sqv(Observed, Model, f=1000):\n",
    "    if (Model == 0) or (Observed == 0):\n",
    "        return 0\n",
    "    if Model == Observed:\n",
    "        return 1\n",
    "    # f = 10000 is the recommended factor for daily volumes\n",
    "    denominator = 1 + sqrt((pow(Model - Observed, 2)/(f * Observed)))\n",
    "    return divide_no_error(1, denominator)"
   ]
  },
  {
   "cell_type": "markdown",
   "metadata": {},
   "source": [
    "## Processing and Plotting"
   ]
  },
  {
   "cell_type": "code",
   "execution_count": 7,
   "metadata": {},
   "outputs": [],
   "source": [
    "cnt_grp = cnt_data.set_index('date').groupby(['road_link_id', 'vehicle_class'])\n",
    "serialized_counts = dict()\n",
    "\n",
    "for idx, grp in cnt_grp:\n",
    "    _cnt_ser = Serialize_cnt(grp)\n",
    "    serialized_counts.update({idx:_cnt_ser})\n",
    "\n",
    "for id in valid_road_links:\n",
    "    road_type = traffic_model.loc[id]['scaling_road_type']\n",
    "    dtv = traffic_model.loc[id]['dtv_SUM']\n",
    "    traffic_volume = dtv * traffic_activity.timeprofile[road_type]\n",
    "    traffic_volume_sum = traffic_volume.sum(axis = 1)\n",
    "    \n",
    "    for vc in vehicle_classes:\n",
    "        try:\n",
    "            if vc == 'SUM':\n",
    "                serialized_counts[id, vc]['modeled_volume'] = traffic_volume_sum\n",
    "            else:\n",
    "                serialized_counts[id,vc]['modeled_volume'] = traffic_volume[vc]\n",
    "        except: \n",
    "            continue"
   ]
  },
  {
   "cell_type": "markdown",
   "metadata": {},
   "source": [
    "# Plot Hourly Values"
   ]
  },
  {
   "cell_type": "code",
   "execution_count": 8,
   "metadata": {},
   "outputs": [],
   "source": [
    "vc_select = 'SUM'\n",
    "\n",
    "all_data = pd.DataFrame()\n",
    "\n",
    "for id in valid_road_links:\n",
    "    concat_df = serialized_counts[id, vc_select]\n",
    "    concat_df['road_link_id'] = id\n",
    "    all_data = pd.concat([all_data, concat_df], axis = 0)\n",
    "    \n",
    "all_data.drop(all_data[all_data['count'] == 0].index, inplace = True)\n",
    "\n",
    "all_data['diff'] = (all_data['modeled_volume'] - all_data['count'])\n",
    "all_data['rel_diff'] = all_data['diff'] / all_data['count']\n",
    "all_data['sqv'] = all_data.apply(lambda x: calc_sqv(x['count'],\n",
    "                                                    x['modeled_volume']),\n",
    "                                 axis = 1)"
   ]
  },
  {
   "cell_type": "code",
   "execution_count": 9,
   "metadata": {},
   "outputs": [],
   "source": [
    "def lognormal(ax, s, loc, scale,  color=\"black\"):\n",
    "    x = np.linspace(-1, 1.5, 200)\n",
    "    p = stats.lognorm.pdf(x, s, loc = loc, scale = scale)\n",
    "    z = ax.plot(x, p, color, linewidth=2, linestyle='--')"
   ]
  },
  {
   "cell_type": "code",
   "execution_count": null,
   "metadata": {},
   "outputs": [],
   "source": [
    "fig, ax = plt.subplots(1,3, figsize = (10,4), tight_layout = True)\n",
    "\n",
    "mean_diff = all_data['rel_diff'].mean()\n",
    "std_diff = all_data['rel_diff'].std()\n",
    "\n",
    "sns.scatterplot(ax = ax[0], x = all_data['modeled_volume'], y = all_data['count'], s= 2)\n",
    "sns.histplot(ax = ax[1], x = all_data['rel_diff'], binrange=(-1.1, 1.1), bins = 20)\n",
    "sns.histplot(ax = ax[2], x = all_data['sqv'], binrange=(0.4,1), bins = 6)\n",
    "\n",
    "text = f'good fit (sqv>0.8): {(len(all_data[all_data[\"sqv\"]>=0.8]) / len(all_data))*100:.1f} % '\n",
    "ax[2].text(.01, .99, text, ha='left', va='top', transform=ax[2].transAxes)\n",
    "ax[2].axvspan(0.8, 1, color = 'g', alpha = 0.2, zorder =0)\n",
    "\n",
    "ax[0].axline([0,0], [1,1], color = 'red')"
   ]
  },
  {
   "cell_type": "markdown",
   "metadata": {},
   "source": [
    "# Plot Daily Values"
   ]
  },
  {
   "cell_type": "code",
   "execution_count": 12,
   "metadata": {},
   "outputs": [],
   "source": [
    "daily_count = all_data.groupby('road_link_id').resample('1d')[['count', 'modeled_volume']].sum().reset_index(level=0)\n",
    "daily_count.drop(daily_count[daily_count['count'] == 0].index, inplace = True)\n",
    "daily_count['diff'] = daily_count['modeled_volume'] - daily_count['count']\n",
    "daily_count['rel_diff'] = daily_count['diff'] / daily_count['count']\n",
    "daily_count['sqv'] = daily_count.apply(lambda x: calc_sqv(x['count'],\n",
    "                                                    x['modeled_volume'], f= 10000),\n",
    "                                 axis = 1)"
   ]
  },
  {
   "cell_type": "code",
   "execution_count": null,
   "metadata": {},
   "outputs": [],
   "source": [
    "fig, ax = plt.subplots(1,3, figsize = (10,4), tight_layout = True)\n",
    "\n",
    "mean_diff = all_data['rel_diff'].mean()\n",
    "std_diff = all_data['rel_diff'].std()\n",
    "\n",
    "sns.scatterplot(ax = ax[0], x = daily_count['modeled_volume'], y = daily_count['count'], s= 8)\n",
    "sns.histplot(ax = ax[1], x = daily_count['rel_diff'], binrange=(-0.7, 0.7), bins = 20)\n",
    "sns.histplot(ax = ax[2], x = daily_count['sqv'], binrange=(0.4,1), bins = 6)\n",
    "\n",
    "text = f'good fit (sqv>0.8): {(len(daily_count[daily_count[\"sqv\"]>=0.8]) / len(daily_count))*100:.1f} % '\n",
    "ax[2].text(.01, .99, text, ha='left', va='top', transform=ax[2].transAxes)\n",
    "ax[2].axvspan(0.8, 1, color = 'g', alpha = 0.2, zorder =0)\n",
    "\n",
    "ax[0].axline([0,0], [1,1], color = 'red')"
   ]
  },
  {
   "cell_type": "markdown",
   "metadata": {},
   "source": [
    "# Plot annual values"
   ]
  },
  {
   "cell_type": "code",
   "execution_count": 14,
   "metadata": {},
   "outputs": [],
   "source": [
    "monthly_count = all_data.groupby('road_link_id').resample('1y')[['count', 'modeled_volume']].sum().reset_index(level=0)\n",
    "monthly_count.drop(monthly_count[monthly_count['count'] == 0].index, inplace = True)\n",
    "monthly_count['diff'] = monthly_count['modeled_volume'] - monthly_count['count']\n",
    "monthly_count['rel_diff'] = monthly_count['diff'] / monthly_count['count']"
   ]
  },
  {
   "cell_type": "code",
   "execution_count": null,
   "metadata": {},
   "outputs": [],
   "source": [
    "fig, ax = plt.subplots(1,2, figsize = (6,3), tight_layout = True)\n",
    "ax[0].axline([0,0], [1,1], color = 'red',  linestyle = '--')\n",
    "sns.scatterplot(ax = ax[0], x = monthly_count['modeled_volume'], y = monthly_count['count'], s= 15)\n",
    "sns.histplot(ax = ax[1], x = monthly_count['rel_diff'], binrange=(-0.5, 0.5), bins = 20)\n",
    "\n",
    "lb = np.quantile(monthly_count[\"rel_diff\"].to_numpy(), 0.025)\n",
    "ub = np.quantile(monthly_count[\"rel_diff\"].to_numpy(), 0.975)\n",
    "avg = np.mean(monthly_count[\"rel_diff\"].to_numpy())\n",
    "\n",
    "ax[1].axvline(lb, color = 'r', linestyle = '--')\n",
    "ax[1].axvline(ub, color = 'r', linestyle = '--')\n",
    "ax[1].axvline(avg, color = 'r')\n",
    "\n",
    "text = f'95% CI: {lb*100:.1f}% - +{ub*100:.1f}% \\nMean: +{avg*100:.1f}%'\n",
    "ax[1].text(.02, 1.2, text, ha='left', va='top', transform=ax[1].transAxes)\n",
    "\n",
    "ax[0].set_title('(c) Annual Traffic Volume')\n",
    "ax[0].set_xlabel('Modeled Volume')\n",
    "ax[0].set_ylabel('Counted Volume')\n",
    "ax[1].set_ylabel('Frequency')\n",
    "ax[1].set_xlabel('Relative Difference')"
   ]
  },
  {
   "cell_type": "markdown",
   "metadata": {},
   "source": [
    "## Plot for paper"
   ]
  },
  {
   "cell_type": "code",
   "execution_count": null,
   "metadata": {},
   "outputs": [],
   "source": [
    "fig, ax = plt.subplots(3,3, figsize = (10,8), tight_layout = True)\n",
    "\n",
    "ax[2,2].axis('off')\n",
    "\n",
    "sns.scatterplot(ax = ax[0,0], x = all_data['modeled_volume'], y = all_data['count'], s= 2)\n",
    "sns.histplot(ax = ax[0,1], x = all_data['rel_diff'], binrange=(-1.1, 1.1), bins = 20)\n",
    "sns.histplot(ax = ax[0,2], x = all_data['sqv'], binrange=(0.4,1), bins = 6)\n",
    "\n",
    "lb = np.quantile(all_data[\"rel_diff\"].to_numpy(), 0.025)\n",
    "ub = np.quantile(all_data[\"rel_diff\"].to_numpy(), 0.975)\n",
    "ax[0,1].axvline(lb, color = 'r', linestyle = '--')\n",
    "ax[0,1].axvline(ub, color = 'r', linestyle = '--')\n",
    "text = f'95% CI:{lb*100:.1f}% - {ub*100:.1f}%'\n",
    "ax[0,1].text(.02, 1.1, text, ha='left', va='top', transform=ax[0,1].transAxes)\n",
    "\n",
    "text = f'sqv>0.8: {(len(all_data[all_data[\"sqv\"]>=0.8]) / len(all_data))*100:.1f} % '\n",
    "ax[0,2].text(.01, 1.1, text, ha='left', va='top', transform=ax[0,2].transAxes)\n",
    "ax[0,2].axvspan(0.8, 1, color = 'g', alpha = 0.2, zorder =0)\n",
    "\n",
    "ax[0,0].axline([0,0], [1,1], color = 'red', linestyle = '--')\n",
    "\n",
    "ax[0,0].set_title('(a) Hourly Traffic Volume')\n",
    "ax[0,0].set_xlabel('Modeled Volume')\n",
    "ax[0,0].set_ylabel('Counted Volume')\n",
    "ax[0,1].set_ylabel('Frequency')\n",
    "ax[0,2].set_ylabel('Frequency')\n",
    "ax[0,2].set_xlabel('SQV')\n",
    "ax[0,1].set_xlabel('Relative Difference')\n",
    "\n",
    "sns.scatterplot(ax = ax[1,0], x = daily_count['modeled_volume'], y = daily_count['count'], s= 8)\n",
    "sns.histplot(ax = ax[1,1], x = daily_count['rel_diff'], binrange=(-1.1, 1.1), bins = 20)\n",
    "sns.histplot(ax = ax[1,2], x = daily_count['sqv'], binrange=(0.4,1), bins = 6)\n",
    "\n",
    "lb = np.quantile(daily_count[\"rel_diff\"].to_numpy(), 0.025)\n",
    "ub = np.quantile(daily_count[\"rel_diff\"].to_numpy(), 0.975)\n",
    "ax[1,1].axvline(lb, color = 'r', linestyle = '--')\n",
    "ax[1,1].axvline(ub, color = 'r', linestyle = '--')\n",
    "text = f'95% CI:{lb*100:.1f}% - {ub*100:.1f}%'\n",
    "ax[1,1].text(.02, 1.1, text, ha='left', va='top', transform=ax[1,1].transAxes)\n",
    "\n",
    "text = f'sqv>0.8: {(len(daily_count[daily_count[\"sqv\"]>=0.8]) / len(daily_count))*100:.1f} % '\n",
    "ax[1,2].text(.02, 1.1, text, ha='left', va='top', transform=ax[1,2].transAxes)\n",
    "ax[1,2].axvspan(0.8, 1, color = 'g', alpha = 0.2, zorder =0)\n",
    "\n",
    "ax[1,0].axline([0,0], [1,1], color = 'red', linestyle = '--')\n",
    "\n",
    "ax[1,0].set_title('(b) Daily Traffic Volume')\n",
    "ax[1,0].set_xlabel('Modeled Volume')\n",
    "ax[1,0].set_ylabel('Counted Volume')\n",
    "ax[1,1].set_ylabel('Frequency')\n",
    "ax[1,2].set_ylabel('Frequency')\n",
    "ax[1,2].set_xlabel('SQV')\n",
    "ax[1,1].set_xlabel('Relative Difference')\n",
    "\n",
    "\n",
    "# add annual estimates to the plot\n",
    "\n",
    "ax[2,0].axline([0,0], [1,1], color = 'red',  linestyle = '--')\n",
    "sns.scatterplot(ax = ax[2,0], x = monthly_count['modeled_volume'], y = monthly_count['count'], s= 15)\n",
    "sns.histplot(ax = ax[2,1], x = monthly_count['rel_diff'], binrange=(-0.5, 0.5), bins = 20)\n",
    "\n",
    "lb = np.quantile(monthly_count[\"rel_diff\"].to_numpy(), 0.025)\n",
    "ub = np.quantile(monthly_count[\"rel_diff\"].to_numpy(), 0.975)\n",
    "avg = np.mean(monthly_count[\"rel_diff\"].to_numpy())\n",
    "\n",
    "ax[2,1].axvline(lb, color = 'r', linestyle = '--')\n",
    "ax[2,1].axvline(ub, color = 'r', linestyle = '--')\n",
    "ax[2,1].axvline(avg, color = 'r')\n",
    "\n",
    "text = f'95% CI: {lb*100:.1f}% - +{ub*100:.1f}% \\nMean: +{avg*100:.1f}%'\n",
    "ax[2,1].text(.02, 1.2, text, ha='left', va='top', transform=ax[2,1].transAxes)\n",
    "\n",
    "ax[2,0].set_title('(c) Annual Traffic Volume')\n",
    "ax[2,0].set_xlabel('Modeled Volume')\n",
    "ax[2,0].set_ylabel('Counted Volume')\n",
    "ax[2,1].set_ylabel('Frequency')\n",
    "ax[2,1].set_xlabel('Relative Difference')\n",
    "plt.show()\n"
   ]
  },
  {
   "cell_type": "code",
   "execution_count": null,
   "metadata": {},
   "outputs": [],
   "source": [
    "fig, ax = plt.subplots(2,3, figsize = (10,5), tight_layout = True)\n",
    "plt.ticklabel_format(style = 'plain')\n",
    "\n",
    "sns.scatterplot(ax = ax[0,0], x = all_data['modeled_volume'], y = all_data['count'], s= 2)\n",
    "ax[0,0].axline([0,0], [1,1], color = 'red', linestyle = '--')\n",
    "text = f'R2:{r2_score(all_data[\"count\"], all_data[\"modeled_volume\"]):.2f}'\n",
    "ax[0,0].text(.02, 0.96, text, ha='left', va='top', transform=ax[0,0].transAxes)\n",
    "\n",
    "sns.histplot(ax = ax[1,0], x = all_data['rel_diff'], binrange=(-1.1, 1.1), bins = 30)\n",
    "lb = np.quantile(all_data[\"rel_diff\"].to_numpy(), 0.025)\n",
    "ub = np.quantile(all_data[\"rel_diff\"].to_numpy(), 0.975)\n",
    "ax[1,0].axvline(lb, color = 'r', linestyle = '--')\n",
    "ax[1,0].axvline(ub, color = 'r', linestyle = '--')\n",
    "\n",
    "text = f'95% CI:{lb*100:.1f}% - {ub*100:.1f}%'\n",
    "ax[1,0].text(.02, 1.1, text, ha='left', va='top', transform=ax[1,0].transAxes)\n",
    "\n",
    "ax[0,0].set_title('(a) Hourly Traffic Volume')\n",
    "ax[0,0].set_xlabel('Modeled Volume')\n",
    "ax[0,0].set_ylabel('Counted Volume')\n",
    "ax[1,0].set_ylabel('Frequency')\n",
    "ax[1,0].set_xlabel('Relative Difference')\n",
    "ax[0,0].ticklabel_format(style = 'scientific')\n",
    "\n",
    "### daily data\n",
    "\n",
    "sns.scatterplot(ax = ax[0,1], x = daily_count['modeled_volume'], y = daily_count['count'], s= 8)\n",
    "ax[0,1].axline([0,0], [1,1], color = 'red', linestyle = '--')\n",
    "text = f'R2:{r2_score(daily_count[\"count\"], daily_count[\"modeled_volume\"]):.2f}'\n",
    "ax[0,1].text(.02, 0.96, text, ha='left', va='top', transform=ax[0,1].transAxes)\n",
    "\n",
    "sns.histplot(ax = ax[1,1], x = daily_count['rel_diff'], binrange=(-1.1, 1.1), bins = 30)\n",
    "\n",
    "lb = np.quantile(daily_count[\"rel_diff\"].to_numpy(), 0.025)\n",
    "ub = np.quantile(daily_count[\"rel_diff\"].to_numpy(), 0.975)\n",
    "ax[1,1].axvline(lb, color = 'r', linestyle = '--')\n",
    "ax[1,1].axvline(ub, color = 'r', linestyle = '--')\n",
    "text = f'95% CI:{lb*100:.1f}% - {ub*100:.1f}%'\n",
    "ax[1,1].text(.02, 1.1, text, ha='left', va='top', transform=ax[1,1].transAxes)\n",
    "\n",
    "ax[0,1].set_title('(b) Daily Traffic Volume')\n",
    "ax[0,1].set_xlabel('Modeled Volume')\n",
    "ax[0,1].set_ylabel('Counted Volume')\n",
    "ax[1,1].set_ylabel('Frequency')\n",
    "ax[1,1].set_xlabel('Relative Difference')\n",
    "ax[0,1].ticklabel_format(style = 'scientific')\n",
    "\n",
    "# add annual estimates to the plot\n",
    "\n",
    "sns.scatterplot(ax = ax[0,2], x = monthly_count['modeled_volume'], y = monthly_count['count'], s= 15)\n",
    "ax[0,2].axline([0,0], [1,1], color = 'red',  linestyle = '--')\n",
    "ax[0,2].axline([0,0], [1,1], color = 'red', linestyle = '--')\n",
    "text = f'R2:{r2_score(monthly_count[\"count\"], monthly_count[\"modeled_volume\"]):.2f}'\n",
    "ax[0,2].text(.02, 0.96, text, ha='left', va='top', transform=ax[0,2].transAxes)\n",
    "\n",
    "sns.histplot(ax = ax[1,2], x = monthly_count['rel_diff'], binrange=(-0.5, 0.5), bins = 30)\n",
    "\n",
    "lb = np.quantile(monthly_count[\"rel_diff\"].to_numpy(), 0.025)\n",
    "ub = np.quantile(monthly_count[\"rel_diff\"].to_numpy(), 0.975)\n",
    "avg = np.mean(monthly_count[\"rel_diff\"].to_numpy())\n",
    "\n",
    "ax[1,2].axvline(lb, color = 'r', linestyle = '--')\n",
    "ax[1,2].axvline(ub, color = 'r', linestyle = '--')\n",
    "ax[1,2].axvline(avg, color = 'r')\n",
    "\n",
    "text = f'95% CI: {lb*100:.1f}% - +{ub*100:.1f}%'\n",
    "ax[1,2].text(.02, 1.1, text, ha='left', va='top', transform=ax[1,2].transAxes)\n",
    "\n",
    "ax[0,2].set_title('(b) Annual Traffic Volume')\n",
    "ax[0,2].set_xlabel('Modeled Volume')\n",
    "ax[0,2].set_ylabel('Counted Volume')\n",
    "ax[1,2].set_ylabel('Frequency')\n",
    "ax[1,2].set_xlabel('Relative Difference')\n",
    "ax[0,2].ticklabel_format(style = 'scientific')\n",
    "plt.show()\n"
   ]
  }
 ],
 "metadata": {
  "kernelspec": {
   "display_name": ".venv",
   "language": "python",
   "name": "python3"
  },
  "language_info": {
   "codemirror_mode": {
    "name": "ipython",
    "version": 3
   },
   "file_extension": ".py",
   "mimetype": "text/x-python",
   "name": "python",
   "nbconvert_exporter": "python",
   "pygments_lexer": "ipython3",
   "version": "3.11.5"
  }
 },
 "nbformat": 4,
 "nbformat_minor": 2
}
