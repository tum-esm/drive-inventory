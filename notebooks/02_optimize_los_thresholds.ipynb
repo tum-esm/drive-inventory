{
 "cells": [
  {
   "cell_type": "markdown",
   "metadata": {},
   "source": [
    "*Technical University of Munich<br>\n",
    "Professorship of Environmental Sensing and Modeling<br><br>*\n",
    "**Author:**  Daniel Kühbacher<br>\n",
    "**Date:**  30.08.2024\n",
    "\n",
    "--- \n",
    "\n",
    "# Optimize volume-capacity thresholds\n",
    "\n",
    "<!--Notebook description and usage information-->\n",
    "As road link capacities in traffic models are often adjusted during calibration, vc-thresholds cannot be universally applied and must be carefully reviewed for each specific application. Furthermore, in urban areas, traffic flow is more often limited by the capacity of intersections than by the road links between them. Intersections, where traffic merges and is controlled, tend to create bottlenecks, making them the main factor in determining the traffic condition. Finally, errors can occur when exporting the results of traffic models. For instance, the capacity may refer to both directions combined, but the export shows two separate links, each of which was incorrectly assigned the total capacity. Therefore, it is inevitable to validate and optimize the vc-thresholds applied.\n",
    "\n"
   ]
  },
  {
   "cell_type": "code",
   "execution_count": 5,
   "metadata": {},
   "outputs": [],
   "source": [
    "# this function was exported to allow multiprocessing.\n",
    "import sys\n",
    "\n",
    "import pandas as pd\n",
    "import numpy as np\n",
    "import geopandas as gpd\n",
    "import matplotlib.pyplot as plt\n",
    "from datetime import datetime\n",
    "\n",
    "plt.style.use('seaborn-v0_8-paper')\n",
    "\n",
    "from itertools import chain\n",
    "\n",
    "sys.path.append('../utils')\n",
    "import data_paths\n",
    "from traffic_counts import TrafficCounts\n",
    "from hbefa_hot_emissions import HbefaHotEmissions"
   ]
  },
  {
   "cell_type": "markdown",
   "metadata": {},
   "source": [
    "# Notebook Settings"
   ]
  },
  {
   "cell_type": "code",
   "execution_count": 34,
   "metadata": {},
   "outputs": [],
   "source": [
    "# Define start and end time for emission calculation. Ideally this should cover a whole year.\n",
    "start_date = datetime(2019, 1, 1)\n",
    "end_date = datetime(2019, 12, 31)\n",
    "\n",
    "# define filename of the visum file\n",
    "visum_filename = \"visum_links.GPKG\"\n",
    "\n",
    "# if True, the script will only calculate the emission for the area within the roi polygon\n",
    "clip_to_area = True \n",
    "roi_polygon = data_paths.MUNICH_BOARDERS_FILE # defines ROI for clipping\n",
    "\n",
    "# define which road type to optimize for\n",
    "optimize_road_type = 'Motorway-Nat'\n",
    "\n",
    "# define hbefa service thresholds\n",
    "service_thresholds = {'Motorway-Nat': [0.5, 0.71, 0.98, 1.1],\n",
    "                    'Motorway-City': [0.5, 0.71, 0.98, 1.1], # not used\n",
    "                    'TrunkRoad/Primary-National': [0.33, 0.5, 0.7, 0.8],\n",
    "                    'TrunkRoad/Primary-City': [0.67, 0.82, 0.92, 1.02],\n",
    "                    'Distributor/Secondary': [0.37, 0.5, 0.63, 0.8],\n",
    "                    'Local/Collector': [0.55, 0.75, 0.9, 1], # not used\n",
    "                    'Access-residential': [0.14, 0.25, 0.39, 0.52]}"
   ]
  },
  {
   "cell_type": "markdown",
   "metadata": {
    "vscode": {
     "languageId": "sql"
    }
   },
   "source": [
    "## Import data"
   ]
  },
  {
   "cell_type": "code",
   "execution_count": 35,
   "metadata": {},
   "outputs": [
    {
     "name": "stdout",
     "output_type": "stream",
     "text": [
      "Loaded emission factors from /Users/daniel_tum/Documents/projects/traffic inventory v2/traffic-emission-inventory/data/restricted_input/hbefa/EFA_HOT_Vehcat_PC.XLS\n",
      "Loaded emission factors from /Users/daniel_tum/Documents/projects/traffic inventory v2/traffic-emission-inventory/data/restricted_input/hbefa/EFA_HOT_Vehcat_LCV.XLS\n",
      "Loaded emission factors from /Users/daniel_tum/Documents/projects/traffic inventory v2/traffic-emission-inventory/data/restricted_input/hbefa/EFA_HOT_Vehcat_HGV.XLS\n",
      "Loaded emission factors from /Users/daniel_tum/Documents/projects/traffic inventory v2/traffic-emission-inventory/data/restricted_input/hbefa/EFA_HOT_Vehcat_Coach.XLS\n",
      "Loaded emission factors from /Users/daniel_tum/Documents/projects/traffic inventory v2/traffic-emission-inventory/data/restricted_input/hbefa/EFA_HOT_Vehcat_MOT.XLS\n",
      "Loaded emission factors from /Users/daniel_tum/Documents/projects/traffic inventory v2/traffic-emission-inventory/data/restricted_input/hbefa/ef_aggregated_los/EFA_HOT_Vehcat_aggregated_LOS.XLS\n"
     ]
    }
   ],
   "source": [
    "# import visum model\n",
    "visum = gpd.read_file(data_paths.VISUM_FOLDER_PATH + visum_filename)\n",
    "\n",
    "if clip_to_area:\n",
    "    roi = gpd.read_file(roi_polygon).to_crs(visum.crs)\n",
    "    visum = gpd.clip(visum, roi)\n",
    "    visum = visum.explode(ignore_index=True) # convert multipolygons to polygons\n",
    "\n",
    "#visum = visum_links\n",
    "visum = visum.reset_index(drop = True).reset_index() # reset index for calculation\n",
    "visum['road_lenght'] = visum['geometry'].length # add road length to visum dict\n",
    "\n",
    "# initialize traffic cycles\n",
    "cycles = TrafficCounts(init_timeprofile=False)\n",
    "\n",
    "# initialize HBEFA emission factors\n",
    "hbefa = HbefaHotEmissions()\n",
    "\n",
    "# apply service thresholds as defined in the notebook setting\n",
    "hbefa.service_thresholds = service_thresholds"
   ]
  },
  {
   "cell_type": "markdown",
   "metadata": {},
   "source": [
    "## Notebook functions"
   ]
  },
  {
   "cell_type": "code",
   "execution_count": 36,
   "metadata": {},
   "outputs": [],
   "source": [
    "def process_veh_kilometers (date: str,\n",
    "                            visum_dict:dict,\n",
    "                            cycles_obj:TrafficCounts,\n",
    "                            hbefa_obj:HbefaHotEmissions,\n",
    "                            ) -> bool:\n",
    "    \"\"\"Function to calculate daily emissions for a given date. \n",
    "    This implements the HbefaHotEmissions object and can be run as parallell processes.\n",
    "\n",
    "    Args:\n",
    "        date (str): day to be calculated\n",
    "        visum_dict (dict): traffic model as dict for faster looping\n",
    "        cycles_obj (TrafficCounts): object to access traffic cycles\n",
    "        hbefa_obj (HbefaHotEmissions): object to access emission factors\n",
    "    Returns:\n",
    "        bool: true if process finished without error, false if not.\n",
    "    \"\"\"\n",
    "    # get scaling factors for the day\n",
    "    diurnal_cycles = cycles_obj.get_hourly_scaling_factors(date= date)\n",
    "    vehicle_shares = cycles_obj.get_vehicle_share(date= date).to_dict()\n",
    "    daily_scaling = cycles_obj.get_daily_scaling_factors(date= date).to_dict()\n",
    "    \n",
    "    # initialize result variables\n",
    "    result = list()\n",
    "    final_result = {'Freeflow': np.array(5, float),\n",
    "                    'Heavy': np.array(5, float),\n",
    "                    'Satur.': np.array(5, float),\n",
    "                    'St+Go': np.array(5, float),\n",
    "                    'St+Go2': np.array(5, float)}\n",
    "    \n",
    "    # loop over visum model\n",
    "    for row in visum_dict:\n",
    "        \n",
    "        # relevant information from the visum model\n",
    "        dtv_visum = row['dtv_SUM']\n",
    "        hgv_corr = row['hgv_corr']\n",
    "        lcv_corr = row['lcv_corr']\n",
    "        scaling_road_type = row['scaling_road_type']\n",
    "        \n",
    "        # get vehicle shares from counting data\n",
    "        hgv_share = vehicle_shares['HGV'][scaling_road_type]\n",
    "        lcv_share = vehicle_shares['LCV'][scaling_road_type]\n",
    "        pc_share = vehicle_shares['PC'][scaling_road_type]\n",
    "        mot_share = vehicle_shares['MOT'][scaling_road_type]\n",
    "        bus_share = vehicle_shares['BUS'][scaling_road_type]\n",
    "        \n",
    "        # calculate vehicle share correction factor\n",
    "        k = (1- (hgv_corr * hgv_share)- (lcv_corr * lcv_share)) / (1 - hgv_share - lcv_share)\n",
    "        \n",
    "        # calculate vehicle counts\n",
    "        dtv = dict()\n",
    "        dtv_day = dtv_visum * daily_scaling[scaling_road_type] # daily traffic volume\n",
    "        dtv.update({'HGV' : (dtv_day * hgv_share * hgv_corr)})\n",
    "        dtv.update({'LCV' : (dtv_day * lcv_share * lcv_corr)})\n",
    "        dtv.update({'PC' : (dtv_day * pc_share * k)})\n",
    "        dtv.update({'MOT' : (dtv_day * mot_share * k)})\n",
    "        dtv.update({'BUS' : (dtv_day * bus_share * k)})\n",
    "        \n",
    "        # disaggregate daily traffic to hourly traffic for each vehicle class\n",
    "        dtv_array = np.array([dtv[v] for v in diurnal_cycles.index])\n",
    "        htv = (np.transpose(diurnal_cycles.to_numpy()) * dtv_array)\n",
    "        \n",
    "        # convert hourly traffic volume to personal car equivalents\n",
    "        htv_car_units = np.array([HbefaHotEmissions.car_unit_factors[v]\\\n",
    "            for v in diurnal_cycles.index])\n",
    "        htv_car_units = (htv * htv_car_units).sum(axis=1)\n",
    "        \n",
    "        # list of 24 service classes for each hour of the day\n",
    "        los_class = [hbefa_obj.calc_los_class(htv_car_unit = x,\n",
    "                                                hour_capacity = row['hour_capacity'],\n",
    "                                                road_type = row['road_type'],\n",
    "                                                hbefa_speed = row['hbefa_speed'])\n",
    "                        for x in htv_car_units]\n",
    "        los =  [x.split('/')[-1] for x in los_class]\n",
    "\n",
    "        # now calculate vehicle kilometers\n",
    "        veh_kilometers  = htv * row['road_lenght'] *1e-3 # in km\n",
    "\n",
    "        # zip los class and vehicle kilometers and append to result list\n",
    "        result.append(list(zip(los, veh_kilometers)))\n",
    "    \n",
    "    # sum up the results\n",
    "    for e in list(chain(*result)):\n",
    "        final_result[e[0]] = final_result[e[0]] + e[1]\n",
    "    \n",
    "    return final_result, diurnal_cycles.index"
   ]
  },
  {
   "cell_type": "markdown",
   "metadata": {},
   "source": [
    "## Calculate VKT for each vehicle class and traffic condition"
   ]
  },
  {
   "cell_type": "code",
   "execution_count": 37,
   "metadata": {},
   "outputs": [],
   "source": [
    "# reduce the visum model to the road type of interest\n",
    "visum_mw = visum[visum['road_type'] == optimize_road_type]#.sample(3000)\n",
    "\n",
    "# generate dates index\n",
    "dates = [d.strftime(\"%Y-%m-%d\") for d in pd.date_range(start=start_date,\n",
    "                                                       end=end_date, freq='1d')]\n",
    "\n",
    "final_result = {'Freeflow': np.array(5, float),\n",
    "                'Heavy': np.array(5, float),\n",
    "                'Satur.': np.array(5, float),\n",
    "                'St+Go': np.array(5, float),\n",
    "                'St+Go2': np.array(5, float)}\n",
    "for date in dates:\n",
    "    cl, vehicle_index = process_veh_kilometers(date = date,\n",
    "                        visum_dict = visum_mw.to_dict('records'),\n",
    "                        cycles_obj = cycles,\n",
    "                        hbefa_obj = hbefa)\n",
    "\n",
    "    for key, value in cl.items():\n",
    "        final_result[key] = final_result[key] + value\n",
    "\n",
    "# convert results to dataframe\n",
    "result_df = pd.DataFrame(final_result, index = vehicle_index)"
   ]
  },
  {
   "cell_type": "code",
   "execution_count": 40,
   "metadata": {},
   "outputs": [
    {
     "name": "stderr",
     "output_type": "stream",
     "text": [
      "/var/folders/5v/yv2xq6j56r5459_qjzrm79rw0000gn/T/ipykernel_24430/13659055.py:15: UserWarning: set_ticklabels() should only be used with a fixed number of ticks, i.e. after set_ticks() or using a FixedLocator.\n",
      "  ax.set_yticklabels(labels = y_labels, fontsize= 10)\n"
     ]
    },
    {
     "ename": "AttributeError",
     "evalue": "'Series' object has no attribute 'iterrows'",
     "output_type": "error",
     "traceback": [
      "\u001b[0;31m---------------------------------------------------------------------------\u001b[0m",
      "\u001b[0;31mAttributeError\u001b[0m                            Traceback (most recent call last)",
      "\u001b[0;32m/var/folders/5v/yv2xq6j56r5459_qjzrm79rw0000gn/T/ipykernel_24430/13659055.py\u001b[0m in \u001b[0;36m?\u001b[0;34m()\u001b[0m\n\u001b[1;32m     16\u001b[0m \u001b[0max\u001b[0m\u001b[0;34m.\u001b[0m\u001b[0mset_ylabel\u001b[0m\u001b[0;34m(\u001b[0m\u001b[0;34m'LOS Share [%]'\u001b[0m\u001b[0;34m,\u001b[0m \u001b[0mfontsize\u001b[0m \u001b[0;34m=\u001b[0m \u001b[0;36m12\u001b[0m\u001b[0;34m)\u001b[0m\u001b[0;34m\u001b[0m\u001b[0;34m\u001b[0m\u001b[0m\n\u001b[1;32m     17\u001b[0m \u001b[0max\u001b[0m\u001b[0;34m.\u001b[0m\u001b[0mset_xlabel\u001b[0m\u001b[0;34m(\u001b[0m\u001b[0;34m'Year'\u001b[0m\u001b[0;34m,\u001b[0m \u001b[0mfontsize\u001b[0m \u001b[0;34m=\u001b[0m \u001b[0;36m12\u001b[0m\u001b[0;34m)\u001b[0m\u001b[0;34m\u001b[0m\u001b[0;34m\u001b[0m\u001b[0m\n\u001b[1;32m     18\u001b[0m \u001b[0;34m\u001b[0m\u001b[0m\n\u001b[1;32m     19\u001b[0m \u001b[0miterator\u001b[0m \u001b[0;34m=\u001b[0m \u001b[0;36m0\u001b[0m\u001b[0;34m\u001b[0m\u001b[0;34m\u001b[0m\u001b[0m\n\u001b[0;32m---> 20\u001b[0;31m \u001b[0;32mfor\u001b[0m \u001b[0midx\u001b[0m\u001b[0;34m,\u001b[0m \u001b[0mrow\u001b[0m \u001b[0;32min\u001b[0m \u001b[0mvkt_share\u001b[0m\u001b[0;34m.\u001b[0m\u001b[0miterrows\u001b[0m\u001b[0;34m(\u001b[0m\u001b[0;34m)\u001b[0m\u001b[0;34m:\u001b[0m\u001b[0;34m\u001b[0m\u001b[0;34m\u001b[0m\u001b[0m\n\u001b[0m\u001b[1;32m     21\u001b[0m     \u001b[0mpos_y\u001b[0m \u001b[0;34m=\u001b[0m \u001b[0;36m0\u001b[0m\u001b[0;34m\u001b[0m\u001b[0;34m\u001b[0m\u001b[0m\n\u001b[1;32m     22\u001b[0m     \u001b[0;32mfor\u001b[0m \u001b[0mel\u001b[0m \u001b[0;32min\u001b[0m \u001b[0mrow\u001b[0m\u001b[0;34m:\u001b[0m\u001b[0;34m\u001b[0m\u001b[0;34m\u001b[0m\u001b[0m\n\u001b[1;32m     23\u001b[0m         ax.text(y = pos_y +(el/2),\n",
      "\u001b[0;32m~/Documents/projects/traffic inventory v2/traffic-emission-inventory/.venv/lib/python3.11/site-packages/pandas/core/generic.py\u001b[0m in \u001b[0;36m?\u001b[0;34m(self, name)\u001b[0m\n\u001b[1;32m   6200\u001b[0m             \u001b[0;32mand\u001b[0m \u001b[0mname\u001b[0m \u001b[0;32mnot\u001b[0m \u001b[0;32min\u001b[0m \u001b[0mself\u001b[0m\u001b[0;34m.\u001b[0m\u001b[0m_accessors\u001b[0m\u001b[0;34m\u001b[0m\u001b[0;34m\u001b[0m\u001b[0m\n\u001b[1;32m   6201\u001b[0m             \u001b[0;32mand\u001b[0m \u001b[0mself\u001b[0m\u001b[0;34m.\u001b[0m\u001b[0m_info_axis\u001b[0m\u001b[0;34m.\u001b[0m\u001b[0m_can_hold_identifiers_and_holds_name\u001b[0m\u001b[0;34m(\u001b[0m\u001b[0mname\u001b[0m\u001b[0;34m)\u001b[0m\u001b[0;34m\u001b[0m\u001b[0;34m\u001b[0m\u001b[0m\n\u001b[1;32m   6202\u001b[0m         ):\n\u001b[1;32m   6203\u001b[0m             \u001b[0;32mreturn\u001b[0m \u001b[0mself\u001b[0m\u001b[0;34m[\u001b[0m\u001b[0mname\u001b[0m\u001b[0;34m]\u001b[0m\u001b[0;34m\u001b[0m\u001b[0;34m\u001b[0m\u001b[0m\n\u001b[0;32m-> 6204\u001b[0;31m         \u001b[0;32mreturn\u001b[0m \u001b[0mobject\u001b[0m\u001b[0;34m.\u001b[0m\u001b[0m__getattribute__\u001b[0m\u001b[0;34m(\u001b[0m\u001b[0mself\u001b[0m\u001b[0;34m,\u001b[0m \u001b[0mname\u001b[0m\u001b[0;34m)\u001b[0m\u001b[0;34m\u001b[0m\u001b[0;34m\u001b[0m\u001b[0m\n\u001b[0m",
      "\u001b[0;31mAttributeError\u001b[0m: 'Series' object has no attribute 'iterrows'"
     ]
    },
    {
     "data": {
      "image/png": "[encoded data removed]",
      "text/plain": [
       "<Figure size 600x400 with 1 Axes>"
      ]
     },
     "metadata": {},
     "output_type": "display_data"
    }
   ],
   "source": [
    "# calculate the share of vkt for each level of service\n",
    "total_vkt = result_df.loc['PC'].sum().sum()\n",
    "vkt_share = (result_df.sum() / total_vkt)*100\n",
    "\n",
    "fig, ax = plt.subplots(figsize =(6,4), tight_layout =True)\n",
    "\n",
    "vkt_share.plot(ax = ax, kind='bar', stacked = True)\n",
    "\n",
    "plt.title('VKT Share of Different Service Classes', fontsize = 12)\n",
    "\n",
    "\n",
    "y_labels = ax.get_yticks()\n",
    "y_labels = [f'{label*1e2:.0f} %' for label in y_labels]\n",
    "ax.set_xticklabels(labels = ax.get_xticklabels(), rotation=0, fontsize = 10)\n",
    "ax.set_yticklabels(labels = y_labels, fontsize= 10)\n",
    "ax.set_ylabel('LOS Share [%]', fontsize = 12)\n",
    "ax.set_xlabel('Year', fontsize = 12)\n",
    "\n",
    "iterator = 0\n",
    "for idx, row in vkt_share.iterrows():\n",
    "    pos_y = 0\n",
    "    for el in row:\n",
    "        ax.text(y = pos_y +(el/2),\n",
    "            x= iterator,\n",
    "            s = f'{el*100:.0f}%',\n",
    "            fontsize = 8,\n",
    "            ha = 'center',\n",
    "            va = 'center', color = 'black')\n",
    "        if (el)<0.05:\n",
    "            pos_y += (el + 0.03)\n",
    "        else:\n",
    "            pos_y += el\n",
    "    iterator+=1\n",
    "\n",
    "plt.legend(bbox_to_anchor =(1.2,0), loc = 'lower center', ncols=1, fontsize = 10)\n",
    "plt.show()"
   ]
  }
 ],
 "metadata": {
  "kernelspec": {
   "display_name": ".venv",
   "language": "python",
   "name": "python3"
  },
  "language_info": {
   "codemirror_mode": {
    "name": "ipython",
    "version": 3
   },
   "file_extension": ".py",
   "mimetype": "text/x-python",
   "name": "python",
   "nbconvert_exporter": "python",
   "pygments_lexer": "ipython3",
   "version": "3.11.5"
  }
 },
 "nbformat": 4,
 "nbformat_minor": 2
}
