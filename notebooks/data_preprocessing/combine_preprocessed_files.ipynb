{
 "cells": [
  {
   "cell_type": "markdown",
   "metadata": {},
   "source": [
    "\n",
    "*Technical University of Munich<br>\n",
    "Professorship of Environmental Sensing and Modeling<br><br>*\n",
    "**Author:**  Daniel Kühbacher & Ali Ahmad Khan<br>\n",
    "**Date:**  21.11.2023\n",
    "\n",
    "--- \n",
    "\n",
    "# Combine preprocessed datasets\n",
    "\n",
    "This file is to construct a final counting data product that combines different counting data sources, cleanes and aggregates the data and finally adds further information from different sources. The final product can be used in the emission generator pipeline to calculate actual emissions. \n",
    "\n",
    "**Required steps**\n",
    "- tbd\n"
   ]
  },
  {
   "cell_type": "code",
   "execution_count": 20,
   "metadata": {},
   "outputs": [],
   "source": [
    "import sys\n",
    "import pandas as pd\n",
    "import numpy as np\n",
    "import geopandas as gpd\n",
    "import matplotlib.pyplot as plt\n",
    "\n",
    "from math import sqrt\n",
    "\n",
    "# import custom modules\n",
    "sys.path.append('../../utils')\n",
    "from excel_calendar import Calendar\n",
    "import data_paths"
   ]
  },
  {
   "cell_type": "markdown",
   "metadata": {},
   "source": [
    "### Import and prepare datasets"
   ]
  },
  {
   "cell_type": "code",
   "execution_count": 21,
   "metadata": {},
   "outputs": [
    {
     "name": "stdout",
     "output_type": "stream",
     "text": [
      "Number of rows: 3258862\n"
     ]
    }
   ],
   "source": [
    "# define file paths\n",
    "mst_file_path = data_paths.MST_COUNTING_PATH + 'preprocessed_lhm_counting_data.parquet'\n",
    "bast_file_path = data_paths.BAST_COUNTING_PATH + 'preprocessed_bast_counting_data.parquet'\n",
    "visum_file_path = data_paths.VISUM_FOLDER_PATH + 'visum_links.gpkg'\n",
    "\n",
    "# import and concatenate bast and mst counting data\n",
    "counting_data = pd.concat([pd.read_parquet(mst_file_path), \n",
    "                           pd.read_parquet(bast_file_path)], axis = 0)\n",
    "\n",
    "# import visum links data\n",
    "visum_links = gpd.read_file(visum_file_path)\n",
    "\n",
    "# initialize calendar object\n",
    "cal_obj = Calendar()\n",
    "\n",
    "print(f'Number of rows: {len(counting_data)}')"
   ]
  },
  {
   "cell_type": "markdown",
   "metadata": {},
   "source": [
    "### Prepare traffic volume dataset"
   ]
  },
  {
   "cell_type": "code",
   "execution_count": 22,
   "metadata": {},
   "outputs": [
    {
     "name": "stdout",
     "output_type": "stream",
     "text": [
      "Number of rows: 634558\n",
      "\n",
      "Number of detectors on each road type:\n",
      "Local/Collector               49\n",
      "Motorway-Nat                  34\n",
      "TrunkRoad/Primary-City        16\n",
      "TrunkRoad/Primary-National    11\n",
      "Access-residential             1\n",
      "Name: count, dtype: int64\n"
     ]
    }
   ],
   "source": [
    "# aggregate counts for each road_link_id and reduce to volume dataset\n",
    "volume  = counting_data.groupby(['metric','road_link_id',\n",
    "                                 'vehicle_class','date']).sum(numeric_only = True).loc['volume']\n",
    "volume = volume.drop(['detector_id'], axis = 1)\n",
    "volume = volume.reset_index()\n",
    "\n",
    "# add road type information\n",
    "road_types = visum_links.set_index('road_link_id')['road_type'].to_dict()\n",
    "volume.insert(4,'road_type' , volume['road_link_id'].map(road_types))\n",
    "# drop rows with road_type = none\n",
    "volume = volume[volume['road_type'] != 'none']\n",
    "\n",
    "# add day type information\n",
    "dates = volume['date'].unique()\n",
    "day_types = {date:cal_obj.get_day_type_combined(date) for date in dates}\n",
    "volume.insert(5, 'day_type', volume['date'].map(day_types))\n",
    "\n",
    "# drop rows with NaN values\n",
    "volume = volume.dropna()\n",
    "\n",
    "# reduce to 2019 - 2022 data\n",
    "volume = volume[volume['date'].between('2019-01-01','2022-12-31')]\n",
    "\n",
    "print(f'Number of rows: {len(volume)}\\n')\n",
    "print('Number of detectors on each road type:')\n",
    "print(pd.Series([road_types[i] for i in volume['road_link_id'].unique()]).value_counts())"
   ]
  },
  {
   "cell_type": "markdown",
   "metadata": {},
   "source": [
    "### Filter for valid rows"
   ]
  },
  {
   "cell_type": "code",
   "execution_count": 23,
   "metadata": {},
   "outputs": [
    {
     "name": "stdout",
     "output_type": "stream",
     "text": [
      "Number of rows: 543286\n",
      "Local/Collector               43\n",
      "Motorway-Nat                  33\n",
      "TrunkRoad/Primary-City        16\n",
      "TrunkRoad/Primary-National    10\n",
      "Access-residential             1\n",
      "Name: count, dtype: int64\n"
     ]
    }
   ],
   "source": [
    "# sum of all hour values of the day needs to be consistent with the sum of the day -> error_bound e=2%\n",
    "e = 0.05\n",
    "\n",
    "# Filter rows based on the condition\n",
    "volume_processed = volume[\n",
    "    volume.iloc[:, 6:].sum(axis=1).between(\n",
    "        volume['daily_value'] * (1 - e),\n",
    "        volume['daily_value'] * (1 + e)\n",
    "    )\n",
    "].copy()\n",
    "\n",
    "# drop rows with daily_volume <1\n",
    "volume_processed = volume_processed[volume_processed['daily_value'] > 1]\n",
    "\n",
    "print(f'Number of rows: {len(volume_processed)}')\n",
    "print(pd.Series([road_types[i] for i in volume_processed['road_link_id'].unique()]).value_counts())"
   ]
  },
  {
   "cell_type": "markdown",
   "metadata": {},
   "source": [
    "### Check for consistency with VISUM model"
   ]
  },
  {
   "cell_type": "code",
   "execution_count": 24,
   "metadata": {},
   "outputs": [],
   "source": [
    "def iqr_mean(input, iqr_range = (5,95)):\n",
    "    lower_bound = np.percentile(input, iqr_range[0])\n",
    "    upper_bound = np.percentile(input, iqr_range[1])\n",
    "    return np.mean(input[(input >= lower_bound) & (input <= upper_bound)])\n",
    "\n",
    "sum_cnt_2019 = volume_processed[(volume_processed['date'].between('2019-01-01','2019-12-31')) &\n",
    "                                (volume_processed['vehicle_class'] == 'SUM') &\n",
    "                                (volume_processed['day_type'] == 1)]\n",
    "\n",
    "mean_cnt_2019 = sum_cnt_2019.groupby('road_link_id')['daily_value'].apply(iqr_mean)"
   ]
  },
  {
   "cell_type": "code",
   "execution_count": 25,
   "metadata": {},
   "outputs": [],
   "source": [
    "def calc_sqv(Observed, Model, f=10000): \n",
    "    return 1/(1 + sqrt(pow( Model - Observed, 2) / (f * Observed)))\n",
    "\n",
    "visum_grp = visum_links.groupby('road_link_id')['dtv_KFZ'].sum().reset_index()\n",
    "visum_grp['meanCnt'] = visum_grp['road_link_id'].map(mean_cnt_2019.to_dict())\n",
    "visum_grp['sqv'] = visum_grp.apply(lambda row: calc_sqv(row['meanCnt'],\n",
    "                                                        row['dtv_KFZ']), axis = 1)\n",
    "\n",
    "visum_validation = visum_grp.dropna().copy()"
   ]
  },
  {
   "cell_type": "code",
   "execution_count": 26,
   "metadata": {},
   "outputs": [
    {
     "data": {
      "text/plain": [
       "<matplotlib.lines.AxLine at 0x13fd63310>"
      ]
     },
     "execution_count": 26,
     "metadata": {},
     "output_type": "execute_result"
    },
    {
     "data": {
      "image/png": "[encoded data removed]",
      "text/plain": [
       "<Figure size 640x480 with 1 Axes>"
      ]
     },
     "metadata": {},
     "output_type": "display_data"
    }
   ],
   "source": [
    "threshold = 0.6\n",
    "visum_validation['valid'] = visum_validation['sqv']>threshold\n",
    "\n",
    "plt.scatter(x = visum_validation[visum_validation['valid']]['dtv_KFZ'],\n",
    "            y=visum_validation[visum_validation['valid']]['meanCnt'],\n",
    "            marker = 'o', label = 'valid counts', color = 'green', s = 7)\n",
    "\n",
    "plt.scatter(x = visum_validation[~visum_validation['valid']]['dtv_KFZ'],\n",
    "            y=visum_validation[~visum_validation['valid']]['meanCnt'], \n",
    "            marker='+', label = 'ivalid counts', color = 'red')\n",
    "\n",
    "plt.xlabel('MeanTraffic Count')\n",
    "plt.ylabel('VISUM')\n",
    "\n",
    "plt.axline((0,0), (1,1))"
   ]
  },
  {
   "cell_type": "code",
   "execution_count": 27,
   "metadata": {},
   "outputs": [
    {
     "name": "stdout",
     "output_type": "stream",
     "text": [
      "Number of rows: 370945\n",
      "Motorway-Nat                  21\n",
      "Local/Collector               19\n",
      "TrunkRoad/Primary-City         8\n",
      "TrunkRoad/Primary-National     6\n",
      "Name: count, dtype: int64\n"
     ]
    }
   ],
   "source": [
    "# delete data from ivalid road links\n",
    "valid_road_links = visum_validation[visum_validation['valid']]['road_link_id']\n",
    "volume_processed_valid = volume_processed[volume_processed['road_link_id'].isin(valid_road_links)]\n",
    "\n",
    "print(f'Number of rows: {len(volume_processed_valid)}')\n",
    "print(pd.Series([road_types[i] for i in volume_processed_valid['road_link_id'].unique()]).value_counts())"
   ]
  },
  {
   "cell_type": "markdown",
   "metadata": {},
   "source": [
    "### Flag incomplete timeseries"
   ]
  },
  {
   "cell_type": "code",
   "execution_count": 28,
   "metadata": {},
   "outputs": [
    {
     "name": "stdout",
     "output_type": "stream",
     "text": [
      "Number of rows of complete timeseries: 286069\n",
      "Local/Collector               15\n",
      "Motorway-Nat                  10\n",
      "TrunkRoad/Primary-City         6\n",
      "TrunkRoad/Primary-National     6\n",
      "Name: count, dtype: int64\n"
     ]
    }
   ],
   "source": [
    "time_start = '2019-01-01'\n",
    "time_end = '2022-12-31'\n",
    "threshold = 0.8 #80% of days need to be included \n",
    "\n",
    "# find counting stations that cover\n",
    "df = volume_processed_valid[(volume_processed_valid['vehicle_class'] == 'SUM') &\n",
    "                (volume_processed_valid['date'].between(time_start, time_end))]\n",
    "\n",
    "df = df.groupby('road_link_id')['daily_value'].count()\n",
    "complete = df[df > threshold * df.max()]\n",
    "volume_processed_valid.insert(5, 'complete', volume_processed_valid['road_link_id'].isin(complete.index))\n",
    "\n",
    "\n",
    "print(f'Number of rows of complete timeseries: {len(volume_processed_valid[volume_processed_valid[\"complete\"]])}')\n",
    "print(pd.Series([road_types[i] for i in volume_processed_valid[volume_processed_valid[\"complete\"]][\"road_link_id\"].unique()]).value_counts())"
   ]
  },
  {
   "cell_type": "markdown",
   "metadata": {},
   "source": [
    "## Store as Parquet File"
   ]
  },
  {
   "cell_type": "code",
   "execution_count": 29,
   "metadata": {},
   "outputs": [],
   "source": [
    "# path to mst counting data\n",
    "data_path = data_paths.COUNTING_PATH\n",
    "\n",
    "# Store the dataframe as a parquet file\n",
    "volume_processed_valid.to_parquet(data_path+'counting_data_combined.parquet', index=False)"
   ]
  }
 ],
 "metadata": {
  "kernelspec": {
   "display_name": ".venv",
   "language": "python",
   "name": "python3"
  },
  "language_info": {
   "codemirror_mode": {
    "name": "ipython",
    "version": 3
   },
   "file_extension": ".py",
   "mimetype": "text/x-python",
   "name": "python",
   "nbconvert_exporter": "python",
   "pygments_lexer": "ipython3",
   "version": "3.11.5"
  }
 },
 "nbformat": 4,
 "nbformat_minor": 2
}
