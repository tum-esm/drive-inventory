{
 "cells": [
  {
   "cell_type": "code",
   "execution_count": 1,
   "metadata": {},
   "outputs": [],
   "source": [
    "import sys\n",
    "\n",
    "import pandas as pd\n",
    "import numpy as np\n",
    "import geopandas as gpd\n",
    "import matplotlib.pyplot as plt\n",
    "import seaborn as sns\n",
    "\n",
    "from datetime import time\n",
    "\n",
    "sys.path.append('../utils')\n",
    "import data_paths\n",
    "from hbefa_hot_emissions import HbefaHotEmissions\n",
    "from hot_emission_process import process_hourly_emissions\n",
    "from traffic_counts import TrafficCounts"
   ]
  },
  {
   "cell_type": "code",
   "execution_count": 2,
   "metadata": {},
   "outputs": [
    {
     "name": "stdout",
     "output_type": "stream",
     "text": [
      "Loaded emission factors from /Users/daniel_tum/Documents/projects/traffic inventory v2/traffic-emission-inventory/data/restricted_input/hbefa/EFA_HOT_Vehcat_PC.XLS\n",
      "Loaded emission factors from /Users/daniel_tum/Documents/projects/traffic inventory v2/traffic-emission-inventory/data/restricted_input/hbefa/EFA_HOT_Vehcat_LCV.XLS\n",
      "Loaded emission factors from /Users/daniel_tum/Documents/projects/traffic inventory v2/traffic-emission-inventory/data/restricted_input/hbefa/EFA_HOT_Vehcat_HGV.XLS\n",
      "Loaded emission factors from /Users/daniel_tum/Documents/projects/traffic inventory v2/traffic-emission-inventory/data/restricted_input/hbefa/EFA_HOT_Vehcat_Coach.XLS\n",
      "Loaded emission factors from /Users/daniel_tum/Documents/projects/traffic inventory v2/traffic-emission-inventory/data/restricted_input/hbefa/EFA_HOT_Vehcat_MOT.XLS\n"
     ]
    }
   ],
   "source": [
    "# initialize hbefa \n",
    "hbefa_obj = HbefaHotEmissions()\n",
    "# initialize traffic cycles\n",
    "cycles = TrafficCounts()\n",
    "# import visum data\n",
    "visum_links = gpd.read_file(data_paths.VISUM_FOLDER_PATH + 'visum_links.gpkg')"
   ]
  },
  {
   "cell_type": "markdown",
   "metadata": {},
   "source": [
    "# Use Inventory Model to calculate the Emission"
   ]
  },
  {
   "cell_type": "code",
   "execution_count": 3,
   "metadata": {},
   "outputs": [],
   "source": [
    "road_links_with_detectors = df['road_link_id'].unique()\n",
    "visum_reduced = visum_links[visum_links['road_link_id']\\\n",
    "    .isin(road_links_with_detectors)].copy()\n",
    "visum_reduced = visum_reduced.reset_index(drop=True).reset_index()"
   ]
  },
  {
   "cell_type": "code",
   "execution_count": 4,
   "metadata": {},
   "outputs": [],
   "source": [
    "final_emissions = list()\n",
    "\n",
    "for day in pd.date_range(start='2019-01-01', end= '2019-12-31', freq = 'd'): # for all days in 2019\n",
    "    \n",
    "    em_dict = process_hourly_emissions(day.strftime('%Y-%m-%d'),\n",
    "                                        visum_reduced.to_dict('records'),\n",
    "                                        cycles,\n",
    "                                        hbefa_obj)\n",
    "    \n",
    "    df_temp = pd.DataFrame()\n",
    "    for road_link_index, item in em_dict.items():\n",
    "        \n",
    "        data = pd.DataFrame(pd.Series(item).reset_index())\n",
    "        data.rename(columns = {'level_0':'vehicle_class',\n",
    "                               'level_1':'component',\n",
    "                               'level_2':'hour', \n",
    "                               0:'emission'},\n",
    "                    inplace = True)\n",
    "        data['date'] = day\n",
    "        data['road_link_index'] = road_link_index\n",
    "        df_temp = pd.concat([df_temp, data], axis = 0)\n",
    "    final_emissions.append(df_temp)\n",
    "model_dat = pd.concat(final_emissions)\n",
    "model_dat['road_link_id'] = model_dat['road_link_index'].map(visum_reduced['road_link_id'].to_dict())\n",
    "model_dat['timestamp'] = model_dat.apply(lambda row: pd.Timestamp.combine(row['date'],\n",
    "                                                                          time(row['hour'])), axis = 1)"
   ]
  },
  {
   "cell_type": "code",
   "execution_count": 5,
   "metadata": {},
   "outputs": [
    {
     "data": {
      "text/html": [
       "<div>\n",
       "<style scoped>\n",
       "    .dataframe tbody tr th:only-of-type {\n",
       "        vertical-align: middle;\n",
       "    }\n",
       "\n",
       "    .dataframe tbody tr th {\n",
       "        vertical-align: top;\n",
       "    }\n",
       "\n",
       "    .dataframe thead tr th {\n",
       "        text-align: left;\n",
       "    }\n",
       "\n",
       "    .dataframe thead tr:last-of-type th {\n",
       "        text-align: right;\n",
       "    }\n",
       "</style>\n",
       "<table border=\"1\" class=\"dataframe\">\n",
       "  <thead>\n",
       "    <tr>\n",
       "      <th></th>\n",
       "      <th>component</th>\n",
       "      <th>BC (exhaust)</th>\n",
       "      <th>CH4</th>\n",
       "      <th>CO</th>\n",
       "      <th>CO2(rep)</th>\n",
       "      <th>CO2(total)</th>\n",
       "      <th>CO2e</th>\n",
       "      <th>NO2</th>\n",
       "      <th>NOx</th>\n",
       "      <th>PM</th>\n",
       "      <th>BC (exhaust)</th>\n",
       "      <th>...</th>\n",
       "      <th>PM</th>\n",
       "      <th>BC (exhaust)</th>\n",
       "      <th>CH4</th>\n",
       "      <th>CO</th>\n",
       "      <th>CO2(rep)</th>\n",
       "      <th>CO2(total)</th>\n",
       "      <th>CO2e</th>\n",
       "      <th>NO2</th>\n",
       "      <th>NOx</th>\n",
       "      <th>PM</th>\n",
       "    </tr>\n",
       "    <tr>\n",
       "      <th></th>\n",
       "      <th>vehicle_class</th>\n",
       "      <th>BUS</th>\n",
       "      <th>BUS</th>\n",
       "      <th>BUS</th>\n",
       "      <th>BUS</th>\n",
       "      <th>BUS</th>\n",
       "      <th>BUS</th>\n",
       "      <th>BUS</th>\n",
       "      <th>BUS</th>\n",
       "      <th>BUS</th>\n",
       "      <th>HGV</th>\n",
       "      <th>...</th>\n",
       "      <th>MOT</th>\n",
       "      <th>PC</th>\n",
       "      <th>PC</th>\n",
       "      <th>PC</th>\n",
       "      <th>PC</th>\n",
       "      <th>PC</th>\n",
       "      <th>PC</th>\n",
       "      <th>PC</th>\n",
       "      <th>PC</th>\n",
       "      <th>PC</th>\n",
       "    </tr>\n",
       "    <tr>\n",
       "      <th>road_link_id</th>\n",
       "      <th>timestamp</th>\n",
       "      <th></th>\n",
       "      <th></th>\n",
       "      <th></th>\n",
       "      <th></th>\n",
       "      <th></th>\n",
       "      <th></th>\n",
       "      <th></th>\n",
       "      <th></th>\n",
       "      <th></th>\n",
       "      <th></th>\n",
       "      <th></th>\n",
       "      <th></th>\n",
       "      <th></th>\n",
       "      <th></th>\n",
       "      <th></th>\n",
       "      <th></th>\n",
       "      <th></th>\n",
       "      <th></th>\n",
       "      <th></th>\n",
       "      <th></th>\n",
       "      <th></th>\n",
       "    </tr>\n",
       "  </thead>\n",
       "  <tbody>\n",
       "    <tr>\n",
       "      <th rowspan=\"5\" valign=\"top\">38</th>\n",
       "      <th>2019-01-01 00:00:00</th>\n",
       "      <td>0.040884</td>\n",
       "      <td>0.002701</td>\n",
       "      <td>2.488030</td>\n",
       "      <td>694.106436</td>\n",
       "      <td>732.194771</td>\n",
       "      <td>717.678522</td>\n",
       "      <td>0.536536</td>\n",
       "      <td>5.452796</td>\n",
       "      <td>0.066002</td>\n",
       "      <td>0.223761</td>\n",
       "      <td>...</td>\n",
       "      <td>0.133923</td>\n",
       "      <td>1.187643</td>\n",
       "      <td>3.750067</td>\n",
       "      <td>407.383822</td>\n",
       "      <td>91207.794515</td>\n",
       "      <td>95655.806269</td>\n",
       "      <td>92381.364468</td>\n",
       "      <td>41.727961</td>\n",
       "      <td>220.601901</td>\n",
       "      <td>2.223409</td>\n",
       "    </tr>\n",
       "    <tr>\n",
       "      <th>2019-01-01 01:00:00</th>\n",
       "      <td>0.081767</td>\n",
       "      <td>0.005402</td>\n",
       "      <td>4.976061</td>\n",
       "      <td>1388.212873</td>\n",
       "      <td>1464.389541</td>\n",
       "      <td>1435.357045</td>\n",
       "      <td>1.073071</td>\n",
       "      <td>10.905591</td>\n",
       "      <td>0.132003</td>\n",
       "      <td>0.279701</td>\n",
       "      <td>...</td>\n",
       "      <td>0.133923</td>\n",
       "      <td>0.935846</td>\n",
       "      <td>2.955000</td>\n",
       "      <td>321.012694</td>\n",
       "      <td>71870.452922</td>\n",
       "      <td>75375.423314</td>\n",
       "      <td>72795.209457</td>\n",
       "      <td>32.881043</td>\n",
       "      <td>173.831180</td>\n",
       "      <td>1.752015</td>\n",
       "    </tr>\n",
       "    <tr>\n",
       "      <th>2019-01-01 02:00:00</th>\n",
       "      <td>0.040884</td>\n",
       "      <td>0.002701</td>\n",
       "      <td>2.488030</td>\n",
       "      <td>694.106436</td>\n",
       "      <td>732.194771</td>\n",
       "      <td>717.678522</td>\n",
       "      <td>0.536536</td>\n",
       "      <td>5.452796</td>\n",
       "      <td>0.066002</td>\n",
       "      <td>0.223761</td>\n",
       "      <td>...</td>\n",
       "      <td>0.133923</td>\n",
       "      <td>0.625296</td>\n",
       "      <td>1.974417</td>\n",
       "      <td>214.488302</td>\n",
       "      <td>48021.064957</td>\n",
       "      <td>50362.951004</td>\n",
       "      <td>48638.951610</td>\n",
       "      <td>21.969845</td>\n",
       "      <td>116.147291</td>\n",
       "      <td>1.170629</td>\n",
       "    </tr>\n",
       "    <tr>\n",
       "      <th>2019-01-01 03:00:00</th>\n",
       "      <td>0.000000</td>\n",
       "      <td>0.000000</td>\n",
       "      <td>0.000000</td>\n",
       "      <td>0.000000</td>\n",
       "      <td>0.000000</td>\n",
       "      <td>0.000000</td>\n",
       "      <td>0.000000</td>\n",
       "      <td>0.000000</td>\n",
       "      <td>0.000000</td>\n",
       "      <td>0.223761</td>\n",
       "      <td>...</td>\n",
       "      <td>0.000000</td>\n",
       "      <td>0.516184</td>\n",
       "      <td>1.629888</td>\n",
       "      <td>177.060813</td>\n",
       "      <td>39641.550266</td>\n",
       "      <td>41574.785057</td>\n",
       "      <td>40151.617772</td>\n",
       "      <td>18.136181</td>\n",
       "      <td>95.879978</td>\n",
       "      <td>0.966358</td>\n",
       "    </tr>\n",
       "    <tr>\n",
       "      <th>2019-01-01 04:00:00</th>\n",
       "      <td>0.040884</td>\n",
       "      <td>0.002701</td>\n",
       "      <td>2.488030</td>\n",
       "      <td>694.106436</td>\n",
       "      <td>732.194771</td>\n",
       "      <td>717.678522</td>\n",
       "      <td>0.536536</td>\n",
       "      <td>5.452796</td>\n",
       "      <td>0.066002</td>\n",
       "      <td>0.223761</td>\n",
       "      <td>...</td>\n",
       "      <td>0.000000</td>\n",
       "      <td>0.465825</td>\n",
       "      <td>1.470874</td>\n",
       "      <td>159.786587</td>\n",
       "      <td>35774.081948</td>\n",
       "      <td>37518.708466</td>\n",
       "      <td>36234.386770</td>\n",
       "      <td>16.366797</td>\n",
       "      <td>86.525834</td>\n",
       "      <td>0.872079</td>\n",
       "    </tr>\n",
       "  </tbody>\n",
       "</table>\n",
       "<p>5 rows × 45 columns</p>\n",
       "</div>"
      ],
      "text/plain": [
       "component                        BC (exhaust)       CH4        CO  \\\n",
       "vehicle_class                             BUS       BUS       BUS   \n",
       "road_link_id timestamp                                              \n",
       "38           2019-01-01 00:00:00     0.040884  0.002701  2.488030   \n",
       "             2019-01-01 01:00:00     0.081767  0.005402  4.976061   \n",
       "             2019-01-01 02:00:00     0.040884  0.002701  2.488030   \n",
       "             2019-01-01 03:00:00     0.000000  0.000000  0.000000   \n",
       "             2019-01-01 04:00:00     0.040884  0.002701  2.488030   \n",
       "\n",
       "component                            CO2(rep)   CO2(total)         CO2e  \\\n",
       "vehicle_class                             BUS          BUS          BUS   \n",
       "road_link_id timestamp                                                    \n",
       "38           2019-01-01 00:00:00   694.106436   732.194771   717.678522   \n",
       "             2019-01-01 01:00:00  1388.212873  1464.389541  1435.357045   \n",
       "             2019-01-01 02:00:00   694.106436   732.194771   717.678522   \n",
       "             2019-01-01 03:00:00     0.000000     0.000000     0.000000   \n",
       "             2019-01-01 04:00:00   694.106436   732.194771   717.678522   \n",
       "\n",
       "component                              NO2        NOx        PM BC (exhaust)  \\\n",
       "vehicle_class                          BUS        BUS       BUS          HGV   \n",
       "road_link_id timestamp                                                         \n",
       "38           2019-01-01 00:00:00  0.536536   5.452796  0.066002     0.223761   \n",
       "             2019-01-01 01:00:00  1.073071  10.905591  0.132003     0.279701   \n",
       "             2019-01-01 02:00:00  0.536536   5.452796  0.066002     0.223761   \n",
       "             2019-01-01 03:00:00  0.000000   0.000000  0.000000     0.223761   \n",
       "             2019-01-01 04:00:00  0.536536   5.452796  0.066002     0.223761   \n",
       "\n",
       "component                         ...        PM BC (exhaust)       CH4  \\\n",
       "vehicle_class                     ...       MOT           PC        PC   \n",
       "road_link_id timestamp            ...                                    \n",
       "38           2019-01-01 00:00:00  ...  0.133923     1.187643  3.750067   \n",
       "             2019-01-01 01:00:00  ...  0.133923     0.935846  2.955000   \n",
       "             2019-01-01 02:00:00  ...  0.133923     0.625296  1.974417   \n",
       "             2019-01-01 03:00:00  ...  0.000000     0.516184  1.629888   \n",
       "             2019-01-01 04:00:00  ...  0.000000     0.465825  1.470874   \n",
       "\n",
       "component                                 CO      CO2(rep)    CO2(total)  \\\n",
       "vehicle_class                             PC            PC            PC   \n",
       "road_link_id timestamp                                                     \n",
       "38           2019-01-01 00:00:00  407.383822  91207.794515  95655.806269   \n",
       "             2019-01-01 01:00:00  321.012694  71870.452922  75375.423314   \n",
       "             2019-01-01 02:00:00  214.488302  48021.064957  50362.951004   \n",
       "             2019-01-01 03:00:00  177.060813  39641.550266  41574.785057   \n",
       "             2019-01-01 04:00:00  159.786587  35774.081948  37518.708466   \n",
       "\n",
       "component                                 CO2e        NO2         NOx  \\\n",
       "vehicle_class                               PC         PC          PC   \n",
       "road_link_id timestamp                                                  \n",
       "38           2019-01-01 00:00:00  92381.364468  41.727961  220.601901   \n",
       "             2019-01-01 01:00:00  72795.209457  32.881043  173.831180   \n",
       "             2019-01-01 02:00:00  48638.951610  21.969845  116.147291   \n",
       "             2019-01-01 03:00:00  40151.617772  18.136181   95.879978   \n",
       "             2019-01-01 04:00:00  36234.386770  16.366797   86.525834   \n",
       "\n",
       "component                               PM  \n",
       "vehicle_class                           PC  \n",
       "road_link_id timestamp                      \n",
       "38           2019-01-01 00:00:00  2.223409  \n",
       "             2019-01-01 01:00:00  1.752015  \n",
       "             2019-01-01 02:00:00  1.170629  \n",
       "             2019-01-01 03:00:00  0.966358  \n",
       "             2019-01-01 04:00:00  0.872079  \n",
       "\n",
       "[5 rows x 45 columns]"
      ]
     },
     "execution_count": 5,
     "metadata": {},
     "output_type": "execute_result"
    }
   ],
   "source": [
    "# serialize table\n",
    "model_dat_long = model_dat.groupby(['vehicle_class',\n",
    "                             'timestamp',\n",
    "                             'road_link_id',\n",
    "                             'component'])['emission'].sum().reset_index()\n",
    "\n",
    "model_dat_long = model_dat_long.pivot(index = ['road_link_id', 'timestamp'],\n",
    "                                      columns=['component', 'vehicle_class'],\n",
    "                                      values = 'emission')\n",
    "\n",
    "model_dat_long.head()"
   ]
  },
  {
   "cell_type": "markdown",
   "metadata": {},
   "source": [
    "# Import detector-based emissions for comparison"
   ]
  },
  {
   "cell_type": "code",
   "execution_count": 6,
   "metadata": {},
   "outputs": [],
   "source": [
    "# import detector emission data\n",
    "_fname = data_paths.INVENTORY_FOLDER_PATH + 'detector_emissions_v_ts.feather'\n",
    "df = pd.read_feather(_fname)"
   ]
  },
  {
   "cell_type": "markdown",
   "metadata": {},
   "source": [
    "# Prepare combined dataset"
   ]
  },
  {
   "cell_type": "code",
   "execution_count": 37,
   "metadata": {},
   "outputs": [
    {
     "data": {
      "text/html": [
       "<div>\n",
       "<style scoped>\n",
       "    .dataframe tbody tr th:only-of-type {\n",
       "        vertical-align: middle;\n",
       "    }\n",
       "\n",
       "    .dataframe tbody tr th {\n",
       "        vertical-align: top;\n",
       "    }\n",
       "\n",
       "    .dataframe thead th {\n",
       "        text-align: right;\n",
       "    }\n",
       "</style>\n",
       "<table border=\"1\" class=\"dataframe\">\n",
       "  <thead>\n",
       "    <tr style=\"text-align: right;\">\n",
       "      <th></th>\n",
       "      <th></th>\n",
       "      <th>true_em</th>\n",
       "      <th>modeled_em</th>\n",
       "    </tr>\n",
       "    <tr>\n",
       "      <th>road_link_id</th>\n",
       "      <th>timestamp</th>\n",
       "      <th></th>\n",
       "      <th></th>\n",
       "    </tr>\n",
       "  </thead>\n",
       "  <tbody>\n",
       "    <tr>\n",
       "      <th rowspan=\"5\" valign=\"top\">38.0</th>\n",
       "      <th>2019-01-02 23:00:00</th>\n",
       "      <td>155549.855148</td>\n",
       "      <td>139895.796508</td>\n",
       "    </tr>\n",
       "    <tr>\n",
       "      <th>2019-01-03 00:00:00</th>\n",
       "      <td>94208.239563</td>\n",
       "      <td>62620.797533</td>\n",
       "    </tr>\n",
       "    <tr>\n",
       "      <th>2019-01-03 01:00:00</th>\n",
       "      <td>76517.434746</td>\n",
       "      <td>44507.268569</td>\n",
       "    </tr>\n",
       "    <tr>\n",
       "      <th>2019-01-03 02:00:00</th>\n",
       "      <td>68377.867950</td>\n",
       "      <td>38030.332721</td>\n",
       "    </tr>\n",
       "    <tr>\n",
       "      <th>2019-01-03 03:00:00</th>\n",
       "      <td>61610.871429</td>\n",
       "      <td>40835.143343</td>\n",
       "    </tr>\n",
       "  </tbody>\n",
       "</table>\n",
       "</div>"
      ],
      "text/plain": [
       "                                        true_em     modeled_em\n",
       "road_link_id timestamp                                        \n",
       "38.0         2019-01-02 23:00:00  155549.855148  139895.796508\n",
       "             2019-01-03 00:00:00   94208.239563   62620.797533\n",
       "             2019-01-03 01:00:00   76517.434746   44507.268569\n",
       "             2019-01-03 02:00:00   68377.867950   38030.332721\n",
       "             2019-01-03 03:00:00   61610.871429   40835.143343"
      ]
     },
     "execution_count": 37,
     "metadata": {},
     "output_type": "execute_result"
    }
   ],
   "source": [
    "component = 'CO2(rep)'\n",
    "ground_truth_em = df.groupby(['road_link_id',\n",
    "                              'timestamp'])[[f'{component}_{x}' for x in hbefa_obj.vehicle_classes]].sum()\n",
    "\n",
    "model_hourly_co2_sum = model_dat_long[component].sum(axis =1)\n",
    "ground_truth_hourly_co2_sum = ground_truth_em.sum(axis=1)\n",
    "\n",
    "comp_df = pd.concat([ground_truth_hourly_co2_sum, \n",
    "                     model_hourly_co2_sum], axis =1).dropna()\n",
    "comp_df_base = comp_df[(comp_df[0]>1) &\n",
    "                       (comp_df[1]>1)]\n",
    "\n",
    "comp_df_base = comp_df_base.rename(columns = {0: 'true_em', 1: 'modeled_em'})\n",
    "comp_df_base.head()"
   ]
  },
  {
   "cell_type": "markdown",
   "metadata": {},
   "source": [
    "# Calculate hourly differences"
   ]
  },
  {
   "cell_type": "code",
   "execution_count": 56,
   "metadata": {},
   "outputs": [
    {
     "name": "stdout",
     "output_type": "stream",
     "text": [
      "-261657.31609168215\n",
      "280732.63770380453\n",
      "18.50277783742075\n"
     ]
    },
    {
     "data": {
      "text/plain": [
       "<Axes: xlabel='diff', ylabel='Count'>"
      ]
     },
     "execution_count": 56,
     "metadata": {},
     "output_type": "execute_result"
    },
    {
     "data": {
      "image/png": "[encoded data removed]",
      "text/plain": [
       "<Figure size 640x480 with 1 Axes>"
      ]
     },
     "metadata": {},
     "output_type": "display_data"
    }
   ],
   "source": [
    "hourly_comp = comp_df_base.copy()\n",
    "hourly_comp['diff'] = hourly_comp['true_em'] - hourly_comp['modeled_em']\n",
    "hourly_comp['diff_rel'] = (hourly_comp['diff']/ hourly_comp['true_em'])*100\n",
    "\n",
    "vals = hourly_comp['diff'][np.isfinite(hourly_comp['diff'].to_numpy())]\n",
    "lb = np.nanpercentile(vals, 2.5)\n",
    "ub = np.percentile(vals, 97.5)\n",
    "\n",
    "print(lb)\n",
    "print(ub)\n",
    "print(vals.std()/vals.mean())\n",
    "\n",
    "sns.histplot(hourly_comp, x='diff',  binrange= (lb,ub), bins= 40)"
   ]
  },
  {
   "cell_type": "code",
   "execution_count": null,
   "metadata": {},
   "outputs": [],
   "source": []
  },
  {
   "cell_type": "markdown",
   "metadata": {},
   "source": [
    "# Calculate Daily Differences"
   ]
  },
  {
   "cell_type": "code",
   "execution_count": 58,
   "metadata": {},
   "outputs": [
    {
     "name": "stdout",
     "output_type": "stream",
     "text": [
      "-4895629.034091822\n",
      "5306803.68338556\n",
      "14.054508190886347\n"
     ]
    },
    {
     "data": {
      "text/plain": [
       "<Axes: xlabel='diff', ylabel='Count'>"
      ]
     },
     "execution_count": 58,
     "metadata": {},
     "output_type": "execute_result"
    },
    {
     "data": {
      "image/png": "[encoded data removed]",
      "text/plain": [
       "<Figure size 640x480 with 1 Axes>"
      ]
     },
     "metadata": {},
     "output_type": "display_data"
    }
   ],
   "source": [
    "daily_comp = comp_df_base.reset_index().set_index('timestamp').copy()\n",
    "daily_comp = daily_comp.groupby('road_link_id').resample('D').sum()\n",
    "\n",
    "daily_comp['diff'] = daily_comp['true_em'] - daily_comp['modeled_em']\n",
    "daily_comp['diff_rel'] = (daily_comp['diff']/daily_comp['true_em'])*100\n",
    "\n",
    "vals = daily_comp['diff'][np.isfinite(daily_comp['diff'].to_numpy())]\n",
    "lb = np.nanpercentile(vals, 2.5)\n",
    "ub = np.percentile(vals, 97.5)\n",
    "\n",
    "print(lb)\n",
    "print(ub)\n",
    "print(vals.std()/vals.mean())\n",
    "\n",
    "sns.histplot(daily_comp, x='diff',  binrange= (lb, ub), bins= 20)"
   ]
  },
  {
   "cell_type": "markdown",
   "metadata": {},
   "source": [
    "# Calculate Annual Differences"
   ]
  },
  {
   "cell_type": "code",
   "execution_count": 59,
   "metadata": {},
   "outputs": [
    {
     "name": "stdout",
     "output_type": "stream",
     "text": [
      "-955569245.0285155\n",
      "1624484362.4146295\n",
      "14.028442240949849\n"
     ]
    },
    {
     "data": {
      "text/plain": [
       "<Axes: xlabel='diff', ylabel='Count'>"
      ]
     },
     "execution_count": 59,
     "metadata": {},
     "output_type": "execute_result"
    },
    {
     "data": {
      "image/png": "[encoded data removed]",
      "text/plain": [
       "<Figure size 640x480 with 1 Axes>"
      ]
     },
     "metadata": {},
     "output_type": "display_data"
    }
   ],
   "source": [
    "# calculate for a whole year\n",
    "\n",
    "annual_comp = comp_df_base.reset_index().set_index('timestamp').copy()\n",
    "annual_comp = annual_comp.groupby('road_link_id').resample('Y').sum()\n",
    "\n",
    "annual_comp['diff'] = annual_comp['true_em'] - annual_comp['modeled_em']\n",
    "annual_comp['diff_rel'] = (annual_comp['diff']/annual_comp['true_em'])*100\n",
    "\n",
    "vals = annual_comp['diff'][np.isfinite(annual_comp['diff'].to_numpy())]\n",
    "lb = np.nanpercentile(vals, 2.5)\n",
    "ub = np.percentile(vals, 97.5)\n",
    "\n",
    "print(lb)\n",
    "print(ub)\n",
    "print(vals.std()/vals.mean())\n",
    "\n",
    "sns.histplot(annual_comp, x='diff', binrange = (lb, ub), bins= 20)"
   ]
  },
  {
   "cell_type": "code",
   "execution_count": 50,
   "metadata": {},
   "outputs": [
    {
     "data": {
      "text/plain": [
       "road_link_id  timestamp \n",
       "3.800000e+01  2019-12-31    7.347273e+08\n",
       "7.200000e+01  2019-12-31    3.727005e+08\n",
       "4.190000e+02  2019-12-31    3.483926e+08\n",
       "1.068000e+03  2019-12-31    1.908147e+08\n",
       "9.655000e+03  2019-12-31    1.795089e+07\n",
       "1.235000e+04  2019-12-31    1.209016e+08\n",
       "1.268100e+04  2019-12-31    6.164172e+07\n",
       "1.288900e+04  2019-12-31    2.250702e+07\n",
       "1.289500e+04  2019-12-31   -3.251872e+08\n",
       "1.298600e+04  2019-12-31   -5.313819e+07\n",
       "1.317600e+04  2019-12-31    4.185308e+08\n",
       "1.358700e+04  2019-12-31   -4.279592e+08\n",
       "1.368200e+04  2019-12-31    3.893202e+07\n",
       "1.557100e+04  2019-12-31   -1.880205e+09\n",
       "1.602500e+04  2019-12-31   -1.423565e+08\n",
       "1.614400e+04  2019-12-31   -1.883353e+08\n",
       "1.618400e+04  2019-12-31   -1.308552e+07\n",
       "4.739100e+04  2019-12-31    1.020064e+08\n",
       "4.811600e+04  2019-12-31   -3.133380e+08\n",
       "8.060900e+04  2019-12-31   -3.144451e+07\n",
       "8.064500e+04  2019-12-31    2.930194e+07\n",
       "5.280434e+07  2019-12-31    1.322914e+08\n",
       "              2019-12-31    6.483052e+07\n",
       "5.280879e+07  2019-12-31    8.076529e+07\n",
       "5.281328e+07  2019-12-31    5.383749e+07\n",
       "5.281677e+07  2019-12-31    2.015974e+08\n",
       "5.282135e+07  2019-12-31    1.751593e+09\n",
       "5.282257e+07  2019-12-31   -3.582918e+08\n",
       "5.282485e+07  2019-12-31    3.119153e+06\n",
       "5.319345e+07  2019-12-31    1.874763e+08\n",
       "6.762448e+07  2019-12-31   -2.530181e+07\n",
       "5.419992e+08  2019-12-31    1.487019e+08\n",
       "5.627720e+08  2019-12-31    1.677038e+08\n",
       "5.627825e+08  2019-12-31   -2.399751e+08\n",
       "5.628215e+08  2019-12-31   -1.477325e+07\n",
       "5.762789e+08  2019-12-31    8.960865e+07\n",
       "5.899152e+08  2019-12-31    1.761041e+07\n",
       "5.904750e+08  2019-12-31    1.796823e+08\n",
       "5.937406e+08  2019-12-31   -1.131516e+08\n",
       "5.945048e+08  2019-12-31   -4.266188e+08\n",
       "5.945894e+08  2019-12-31    6.339450e+07\n",
       "5.949955e+08  2019-12-31   -1.019797e+09\n",
       "5.957618e+08  2019-12-31   -2.092667e+08\n",
       "5.958232e+08  2019-12-31    2.804136e+09\n",
       "8.935926e+08  2019-12-31   -5.059772e+08\n",
       "2.147483e+09  2019-12-31   -5.478766e+07\n",
       "Name: diff, dtype: float64"
      ]
     },
     "execution_count": 50,
     "metadata": {},
     "output_type": "execute_result"
    }
   ],
   "source": [
    "vals"
   ]
  }
 ],
 "metadata": {
  "kernelspec": {
   "display_name": ".venv",
   "language": "python",
   "name": "python3"
  },
  "language_info": {
   "codemirror_mode": {
    "name": "ipython",
    "version": 3
   },
   "file_extension": ".py",
   "mimetype": "text/x-python",
   "name": "python",
   "nbconvert_exporter": "python",
   "pygments_lexer": "ipython3",
   "version": "3.11.5"
  }
 },
 "nbformat": 4,
 "nbformat_minor": 2
}
