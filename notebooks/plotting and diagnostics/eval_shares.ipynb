{
 "cells": [
  {
   "cell_type": "code",
   "execution_count": 3,
   "id": "3c60467d",
   "metadata": {},
   "outputs": [],
   "source": [
    "# import libraries\n",
    "\n",
    "import sys\n",
    "import warnings\n",
    "import os\n",
    "os.environ['USE_PYGEOS'] = '0'\n",
    "\n",
    "import geopandas as gpd\n",
    "import pandas as pd\n",
    "import matplotlib\n",
    "import matplotlib.pyplot as plt\n",
    "\n",
    "sys.path.append('../../utils')\n",
    "import data_paths\n",
    "from gridding import GriddingEngine\n",
    "\n",
    "warnings.filterwarnings(\"ignore\")\n",
    "\n",
    "# Reload local modules on changes\n",
    "%reload_ext autoreload\n",
    "%autoreload 2"
   ]
  },
  {
   "cell_type": "code",
   "execution_count": 45,
   "id": "1311c52e",
   "metadata": {},
   "outputs": [],
   "source": [
    "\n",
    "filename = 'linesource_Munich_2019_los_specific.gpkg'\n",
    "gdf = gpd.read_file(data_paths.INVENTORY_PATH+filename)"
   ]
  },
  {
   "cell_type": "code",
   "execution_count": 49,
   "id": "f914f15a",
   "metadata": {},
   "outputs": [
    {
     "data": {
      "text/plain": [
       "np.float64(1287.3390258276445)"
      ]
     },
     "execution_count": 49,
     "metadata": {},
     "output_type": "execute_result"
    }
   ],
   "source": [
    "gdf['road_length'] = gdf.geometry.length * 1e-3  # convert to km\n",
    "gdf['co2_total'] = (gdf['PC_CO2(total)'] + gdf['LCV_CO2(total)'] + \\\n",
    "    gdf['HGV_CO2(total)'] + gdf['BUS_CO2(total)'] + gdf['MOT_CO2(total)'])\n",
    "gdf['co2_total'] = gdf['co2_total'] *  gdf['road_length'] * 1e-9  # convert to kg/km\n",
    "gdf['co2_total'].sum()"
   ]
  },
  {
   "cell_type": "code",
   "execution_count": 51,
   "id": "5c036e57",
   "metadata": {},
   "outputs": [
    {
     "data": {
      "text/plain": [
       "road_type\n",
       "Access-residential            10.662847\n",
       "Distributor/Secondary         39.802650\n",
       "Motorway-Nat                  36.451728\n",
       "TrunkRoad/Primary-City        13.071518\n",
       "TrunkRoad/Primary-National     0.011257\n",
       "Name: co2_total, dtype: float64"
      ]
     },
     "execution_count": 51,
     "metadata": {},
     "output_type": "execute_result"
    }
   ],
   "source": [
    "(gdf.groupby('road_type')['co2_total'].sum() / gdf.groupby('road_type')['co2_total'].sum().sum()) * 100"
   ]
  },
  {
   "cell_type": "code",
   "execution_count": null,
   "id": "85b569e8",
   "metadata": {},
   "outputs": [],
   "source": []
  }
 ],
 "metadata": {
  "kernelspec": {
   "display_name": "drive-inventory",
   "language": "python",
   "name": "python3"
  },
  "language_info": {
   "codemirror_mode": {
    "name": "ipython",
    "version": 3
   },
   "file_extension": ".py",
   "mimetype": "text/x-python",
   "name": "python",
   "nbconvert_exporter": "python",
   "pygments_lexer": "ipython3",
   "version": "3.13.2"
  }
 },
 "nbformat": 4,
 "nbformat_minor": 5
}
