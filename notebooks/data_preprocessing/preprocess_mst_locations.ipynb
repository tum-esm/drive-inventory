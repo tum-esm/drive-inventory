{
 "cells": [
  {
   "cell_type": "markdown",
   "metadata": {},
   "source": [
    "\n",
    "*Technical University of Munich<br>\n",
    "Professorship of Environmental Sensing and Modeling<br><br>*\n",
    "**Author:**  Daniel Kühbacher<br>\n",
    "**Date:**  26.10.2023\n",
    "\n",
    "--- \n",
    "\n",
    "# MST Location processing\n",
    "\n",
    "This script loads the 'mst-locations.csv', cleans the dataset and converts the geoinformation to a geopackage file. The MST locations were provided by the City of Munich, however, they were not used in a GIS application before.<br>\n",
    "\n",
    "**Required steps**\n",
    "- Import file and convert columns to meaningful datatypes\n",
    "- Delete meaningsless locations/ coordinates\n",
    "\n",
    "**Following steps should be done manually in QGIS**\n",
    "- delete useless stations (e.g. many stations arount the fair area or next to allianz arena)\n",
    "- cross check the detector positions with the location details and assign each detector to the street link"
   ]
  },
  {
   "cell_type": "code",
   "execution_count": 1,
   "metadata": {},
   "outputs": [],
   "source": [
    "import sys\n",
    "import math\n",
    "import pandas as pd\n",
    "import geopandas as gpd\n",
    "\n",
    "# import custom modules\n",
    "sys.path.append('../../utils/')\n",
    "import data_paths"
   ]
  },
  {
   "cell_type": "code",
   "execution_count": 2,
   "metadata": {},
   "outputs": [],
   "source": [
    "# path to mst counting data\n",
    "data_path = data_paths.MST_COUNTING_PATH"
   ]
  },
  {
   "cell_type": "markdown",
   "metadata": {},
   "source": [
    "## Import and clean raw data from *.csv file"
   ]
  },
  {
   "cell_type": "code",
   "execution_count": 3,
   "metadata": {},
   "outputs": [
    {
     "data": {
      "text/html": [
       "<div>\n",
       "<style scoped>\n",
       "    .dataframe tbody tr th:only-of-type {\n",
       "        vertical-align: middle;\n",
       "    }\n",
       "\n",
       "    .dataframe tbody tr th {\n",
       "        vertical-align: top;\n",
       "    }\n",
       "\n",
       "    .dataframe thead th {\n",
       "        text-align: right;\n",
       "    }\n",
       "</style>\n",
       "<table border=\"1\" class=\"dataframe\">\n",
       "  <thead>\n",
       "    <tr style=\"text-align: right;\">\n",
       "      <th></th>\n",
       "      <th>MST_ID</th>\n",
       "      <th>DETEKTOR_ID</th>\n",
       "      <th>FAHRTRICHTUNG</th>\n",
       "      <th>LATITUDE</th>\n",
       "      <th>LONGITUDE</th>\n",
       "      <th>MQ_ID</th>\n",
       "    </tr>\n",
       "  </thead>\n",
       "  <tbody>\n",
       "    <tr>\n",
       "      <th>3</th>\n",
       "      <td>4000</td>\n",
       "      <td>4000011</td>\n",
       "      <td>NordOst</td>\n",
       "      <td>48.160583</td>\n",
       "      <td>11.621928</td>\n",
       "      <td>400001</td>\n",
       "    </tr>\n",
       "    <tr>\n",
       "      <th>4</th>\n",
       "      <td>4000</td>\n",
       "      <td>4000014</td>\n",
       "      <td>SüdWest</td>\n",
       "      <td>48.160625</td>\n",
       "      <td>11.621832</td>\n",
       "      <td>400002</td>\n",
       "    </tr>\n",
       "    <tr>\n",
       "      <th>5</th>\n",
       "      <td>4000</td>\n",
       "      <td>4000012</td>\n",
       "      <td>NordOst</td>\n",
       "      <td>48.160600</td>\n",
       "      <td>11.621894</td>\n",
       "      <td>400001</td>\n",
       "    </tr>\n",
       "    <tr>\n",
       "      <th>6</th>\n",
       "      <td>4000</td>\n",
       "      <td>4000013</td>\n",
       "      <td>SüdWest</td>\n",
       "      <td>48.160645</td>\n",
       "      <td>11.621799</td>\n",
       "      <td>400002</td>\n",
       "    </tr>\n",
       "    <tr>\n",
       "      <th>9</th>\n",
       "      <td>4001</td>\n",
       "      <td>4001012</td>\n",
       "      <td>Ost</td>\n",
       "      <td>48.187661</td>\n",
       "      <td>11.594881</td>\n",
       "      <td>400101</td>\n",
       "    </tr>\n",
       "  </tbody>\n",
       "</table>\n",
       "</div>"
      ],
      "text/plain": [
       "   MST_ID  DETEKTOR_ID FAHRTRICHTUNG   LATITUDE  LONGITUDE   MQ_ID\n",
       "3    4000      4000011       NordOst  48.160583  11.621928  400001\n",
       "4    4000      4000014       SüdWest  48.160625  11.621832  400002\n",
       "5    4000      4000012       NordOst  48.160600  11.621894  400001\n",
       "6    4000      4000013       SüdWest  48.160645  11.621799  400002\n",
       "9    4001      4001012           Ost  48.187661  11.594881  400101"
      ]
     },
     "execution_count": 3,
     "metadata": {},
     "output_type": "execute_result"
    }
   ],
   "source": [
    "mst_loc = pd.read_csv(data_path + \"mst-locations.csv\", delimiter = \";\", decimal=\",\")\n",
    "mst_loc.drop(['XKOOR', 'YKOOR', 'Unnamed: 8'], axis = 1, inplace= True)\n",
    "mst_loc[\"LONGITUDE\"] = pd.to_numeric(mst_loc[\"LONGITUDE\"], errors='coerce') \n",
    "mst_loc[\"LATITUDE\"] = pd.to_numeric(mst_loc[\"LATITUDE\"], errors='coerce') \n",
    "\n",
    "# drop entries with coordinates outside Munich (mostly errors in the dataset)\n",
    "mst_loc.drop(mst_loc[(mst_loc['LONGITUDE']<10) | (mst_loc['LONGITUDE']>13)].index, inplace = True)\n",
    "mst_loc.head()"
   ]
  },
  {
   "cell_type": "markdown",
   "metadata": {},
   "source": [
    "## Convert column \"FAHRTRICHTIUNG\" to direction abbreviation"
   ]
  },
  {
   "cell_type": "code",
   "execution_count": 4,
   "metadata": {},
   "outputs": [],
   "source": [
    "#dataset does not contain 'FAHRSPUR Information'\n",
    "direction = {'Nord': 'N', \"NordWest\": \"NW\", \n",
    "             \"West\": \"W\", \"SüdWest\": \"SW\", \n",
    "             \"Süd\": \"S\", \"SüdOst\": \"SO\", \n",
    "             \"Ost\":\"O\", \"NordOst\":\"NO\", \"NEIN\":\"None\"}\n",
    "mst_loc['FAHRTRICHTUNG'] = mst_loc.apply(lambda row: direction[row['FAHRTRICHTUNG']], axis = 1)"
   ]
  },
  {
   "cell_type": "markdown",
   "metadata": {},
   "source": [
    "## Convert to geopackage and save the cleaned mst location data"
   ]
  },
  {
   "cell_type": "code",
   "execution_count": 5,
   "metadata": {},
   "outputs": [],
   "source": [
    "mst = gpd.GeoDataFrame(\n",
    "    mst_loc, geometry=gpd.points_from_xy(mst_loc.LONGITUDE, mst_loc.LATITUDE))\n",
    "mst.drop(['LONGITUDE','LATITUDE'], axis = 1, inplace = True)\n",
    "mst = mst.set_crs(epsg='4326')\n",
    "\n",
    "# save data\n",
    "mst.to_file(data_path + \"mst_locations_cleaned.gpkg\", driver=\"GPKG\")"
   ]
  }
 ],
 "metadata": {
  "kernelspec": {
   "display_name": ".venv",
   "language": "python",
   "name": "python3"
  },
  "language_info": {
   "codemirror_mode": {
    "name": "ipython",
    "version": 3
   },
   "file_extension": ".py",
   "mimetype": "text/x-python",
   "name": "python",
   "nbconvert_exporter": "python",
   "pygments_lexer": "ipython3",
   "version": "3.11.5"
  }
 },
 "nbformat": 4,
 "nbformat_minor": 2
}
