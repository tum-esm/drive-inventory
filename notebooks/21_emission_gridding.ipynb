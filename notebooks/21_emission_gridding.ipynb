{
 "cells": [
  {
   "cell_type": "markdown",
   "metadata": {},
   "source": [
    "*Technical University of Munich<br>\n",
    "Professorship of Environmental Sensing and Modeling<br><br>*\n",
    "**Author:**  Daniel Kühbacher<br>\n",
    "**Date:**  01.07.2024\n",
    "\n",
    "--- \n",
    "\n",
    "# Emission gridding\n",
    "\n",
    "<!--Notebook description and usage information-->\n",
    "This notebook is used to convert line source emissions into a gridded inventory. The unit of the line source emissions is g/m, therefore, multiplication with the line length and a unit conversion is required. The script handles different vehicle classes and components which are to be set in the notebook settings."
   ]
  },
  {
   "cell_type": "code",
   "execution_count": 1,
   "metadata": {},
   "outputs": [],
   "source": [
    "# import libraries\n",
    "\n",
    "import sys\n",
    "import warnings\n",
    "import os\n",
    "os.environ['USE_PYGEOS'] = '0'\n",
    "\n",
    "import geopandas as gpd\n",
    "import pandas as pd\n",
    "import matplotlib\n",
    "import matplotlib.pyplot as plt\n",
    "\n",
    "sys.path.append('../utils')\n",
    "import data_paths\n",
    "from gridding import GriddingEngine\n",
    "\n",
    "warnings.filterwarnings(\"ignore\")\n",
    "\n",
    "# Reload local modules on changes\n",
    "%reload_ext autoreload\n",
    "%autoreload 2"
   ]
  },
  {
   "cell_type": "markdown",
   "metadata": {},
   "source": [
    "# Notebook settings"
   ]
  },
  {
   "cell_type": "code",
   "execution_count": 2,
   "metadata": {},
   "outputs": [],
   "source": [
    "# select year of interest and define filenames for linesource emissions\n",
    "year_of_interest = '2019'\n",
    "em_cold_filename = f'linesource_all_munich_{year_of_interest}_cold.gpkg'\n",
    "em_hot_filename = f'linesource_Munich_{year_of_interest}_new_vc.gpkg'\n",
    "\n",
    "# define grid for gridding\n",
    "#grid_file = data_paths.TNO_1km_GRID\n",
    "grid_file = data_paths.TNO_100M_GRID\n",
    "\n",
    "# select components and vehicle classes to be considered\n",
    "vehicle_classes_hot = ['PC', 'LCV', 'HGV', 'MOT', 'BUS']\n",
    "vehicle_classes_cold = ['PC', 'LCV']\n",
    "\n",
    "components = ['CO2(rep)', 'CO2(total)', 'CO', 'NOx']\n",
    "\n",
    "# include cold start emissions to the final product?\n",
    "include_cold_start = True\n",
    "\n",
    "# safe result in gepackage\n",
    "store_results = False\n",
    "result_filename = f'GNFR_F_{year_of_interest}_1km.gpkg'"
   ]
  },
  {
   "cell_type": "markdown",
   "metadata": {},
   "source": [
    "## Import data"
   ]
  },
  {
   "cell_type": "code",
   "execution_count": 3,
   "metadata": {},
   "outputs": [],
   "source": [
    "# import hot and cold emission file\n",
    "\n",
    "# import hot emission results\n",
    "inventory_path = data_paths.INVENTORY_PATH\n",
    "em_hot = gpd.read_file(inventory_path + em_hot_filename)\n",
    "\n",
    "# import cold emission results\n",
    "if include_cold_start: \n",
    "    em_cold = gpd.read_file(inventory_path + em_cold_filename)\n",
    "\n",
    "# import grid\n",
    "tno_grid = gpd.read_file(grid_file)"
   ]
  },
  {
   "cell_type": "markdown",
   "metadata": {},
   "source": [
    "## Grid inventory and combine results"
   ]
  },
  {
   "cell_type": "code",
   "execution_count": 4,
   "metadata": {},
   "outputs": [],
   "source": [
    "# perform gridding\n",
    "# initialize gridding object\n",
    "gridding_obj = GriddingEngine(input_grid=tno_grid, crs = em_hot.crs) # hot and cold inventory have the same crs\n",
    "\n",
    "em_hot_columns = [f'{v}_{c}' for v in vehicle_classes_hot for c in components]\n",
    "out_grid_hot = gridding_obj.overlay_grid(em_hot, value_columns= em_hot_columns, source_type='line_kilometer')\n",
    "\n",
    "if include_cold_start:\n",
    "    em_cold_columns = [f'{v}_{c}' for v in vehicle_classes_cold for c in components]\n",
    "    out_grid_cold = gridding_obj.overlay_grid(em_cold, value_columns= em_cold_columns, source_type='line_kilometer')\n",
    "\n",
    "gridded_result = pd.DataFrame()\n",
    "for c in components: \n",
    "    hot_cols_to_sum = [f'{v}_{c}' for v in vehicle_classes_hot]\n",
    "    gridded_result[c] = out_grid_hot[hot_cols_to_sum].sum(axis = 1)\n",
    "    if include_cold_start:\n",
    "        cold_cols_to_sum = [f'{v}_{c}' for v in vehicle_classes_cold]\n",
    "        gridded_result[c] = out_grid_cold[cold_cols_to_sum].sum(axis = 1) + gridded_result[c]\n",
    "    \n",
    "    # convert emissions to kg\n",
    "    gridded_result[c] = gridded_result[c]/1000\n",
    "\n",
    "gridded_result['geometry'] = out_grid_hot['geometry']\n",
    "if include_cold_start:\n",
    "    gridded_result['geometry'] = out_grid_cold['geometry']\n",
    "gridded_result = gpd.GeoDataFrame(data= gridded_result, geometry='geometry', crs = em_hot.crs)"
   ]
  },
  {
   "cell_type": "markdown",
   "metadata": {},
   "source": [
    "## Plot results"
   ]
  },
  {
   "cell_type": "code",
   "execution_count": null,
   "metadata": {},
   "outputs": [],
   "source": [
    "# print totals and plot results\n",
    "\n",
    "component_to_plot = 'CO2(rep)'\n",
    "\n",
    "# plot results\n",
    "fig, ax  = plt.subplots(figsize = (10,10), frameon=False)\n",
    "gridded_result.plot(ax= ax,\n",
    "                column= component_to_plot,\n",
    "                cmap= matplotlib.cm.get_cmap('twilight_shifted'),\n",
    "                norm= matplotlib.colors.LogNorm())\n",
    "\n",
    "print(f'Total Emissions of {year_of_interest}')\n",
    "print(gridded_result.sum(numeric_only=True)*1e-6)"
   ]
  },
  {
   "cell_type": "markdown",
   "metadata": {},
   "source": [
    "## Save results"
   ]
  },
  {
   "cell_type": "code",
   "execution_count": 6,
   "metadata": {},
   "outputs": [],
   "source": [
    "# only if store_results is True\n",
    "if store_results:\n",
    "    path = data_paths.INVENTORY_FOLDER_PATH\n",
    "    gridded_result.to_file(path+result_filename, driver = 'GPKG')"
   ]
  }
 ],
 "metadata": {
  "kernelspec": {
   "display_name": ".venv",
   "language": "python",
   "name": "python3"
  },
  "language_info": {
   "codemirror_mode": {
    "name": "ipython",
    "version": 3
   },
   "file_extension": ".py",
   "mimetype": "text/x-python",
   "name": "python",
   "nbconvert_exporter": "python",
   "pygments_lexer": "ipython3",
   "version": "3.11.5"
  }
 },
 "nbformat": 4,
 "nbformat_minor": 2
}
