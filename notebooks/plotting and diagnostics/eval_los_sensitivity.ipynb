{
 "cells": [
  {
   "cell_type": "markdown",
   "id": "507db421",
   "metadata": {},
   "source": [
    "# Evaluate Sensitivity of VCR threshold to LOS distribution"
   ]
  },
  {
   "cell_type": "code",
   "execution_count": 1,
   "id": "39043f81",
   "metadata": {},
   "outputs": [],
   "source": [
    "# import libraries\n",
    "import sys\n",
    "import warnings\n",
    "import os\n",
    "os.environ['USE_PYGEOS'] = '0'\n",
    "\n",
    "import pandas as pd\n",
    "import numpy as np\n",
    "import geopandas as gpd\n",
    "import matplotlib.pyplot as plt\n",
    "from datetime import datetime\n",
    "\n",
    "\n",
    "sys.path.append('../../utils')\n",
    "import data_paths\n",
    "from traffic_counts import TrafficCounts\n",
    "from hbefa_hot_emissions import HbefaHotEmissions\n",
    "from calculate_vkt import calculate_VKT\n",
    "\n",
    "warnings.filterwarnings(\"ignore\")\n",
    "\n",
    "# Reload local modules on changes\n",
    "%reload_ext autoreload\n",
    "%autoreload 2"
   ]
  },
  {
   "cell_type": "markdown",
   "id": "2d9056dd",
   "metadata": {},
   "source": [
    "## Notebook settings"
   ]
  },
  {
   "cell_type": "code",
   "execution_count": 2,
   "id": "00e3b1e5",
   "metadata": {},
   "outputs": [],
   "source": [
    "# Define start and end time for emission calculation. Ideally this should cover a whole year.\n",
    "start_date = datetime(2019, 1, 1)\n",
    "end_date = datetime(2019, 12, 31)\n",
    "\n",
    "# define filename of the visum file\n",
    "visum_filename = \"visum_links.GPKG\"\n",
    "\n",
    "# if True, the script will only calculate the emission for the area within the roi polygon\n",
    "clip_to_area = True\n",
    "roi_polygon = data_paths.MUNICH_BOARDERS_FILE # defines ROI for clipping"
   ]
  },
  {
   "cell_type": "markdown",
   "id": "5784a477",
   "metadata": {},
   "source": [
    "## Import Data"
   ]
  },
  {
   "cell_type": "code",
   "execution_count": 3,
   "id": "8152d0cc",
   "metadata": {},
   "outputs": [
    {
     "name": "stdout",
     "output_type": "stream",
     "text": [
      "Loaded emission factors from /Users/daniel_tum/Documents/code/drive-inventory/data/restricted_input/hbefa/EFA_HOT_ts_hbefa.txt\n",
      "Loaded emission factors from /Users/daniel_tum/Documents/code/drive-inventory/data/restricted_input/hbefa/EFA_HOT_aggregated_hbefa.txt\n"
     ]
    }
   ],
   "source": [
    "# import visum model, clip it to the ROI, and initialize cycles object\n",
    "visum = gpd.read_file(data_paths.VISUM_FOLDER_PATH + visum_filename)\n",
    "\n",
    "if clip_to_area:\n",
    "    roi = gpd.read_file(roi_polygon).to_crs(visum.crs)\n",
    "    visum = gpd.clip(visum, roi)\n",
    "    visum = visum.explode(ignore_index=True) # convert multipolygons to polygons\n",
    "\n",
    "#visum = visum_links\n",
    "visum = visum.reset_index(drop = True).reset_index() # reset index for calculation\n",
    "visum['road_lenght'] = visum['geometry'].length # add road length to visum dict\n",
    "\n",
    "# initialize traffic cycles\n",
    "cycles = TrafficCounts()\n",
    "# initialize HBEFA emission factors\n",
    "hbefa = HbefaHotEmissions()"
   ]
  },
  {
   "cell_type": "code",
   "execution_count": 13,
   "id": "11dcc118",
   "metadata": {},
   "outputs": [],
   "source": [
    "perturbation_factor = 1.1\n",
    "\n",
    "# define hbefa service thresholds\n",
    "default_vcr = hbefa.default_vcr_thresholds\n",
    "changed_vcr = {k: [round(v * perturbation_factor, 5) for v in vals] for k, vals in default_vcr.items()}\n",
    "\n",
    "# apply service thresholds as defined in the notebook setting\n",
    "hbefa.vcr_thresholds = changed_vcr"
   ]
  },
  {
   "cell_type": "markdown",
   "id": "e2144e80",
   "metadata": {},
   "source": [
    "## Calculate VKT and traffic situation"
   ]
  },
  {
   "cell_type": "code",
   "execution_count": 14,
   "id": "771ecbe6",
   "metadata": {},
   "outputs": [],
   "source": [
    "# Calculate VKT per year and traffic condition for each vehicle class\n",
    "\n",
    "vkt_result = dict()\n",
    "\n",
    "# create list of dates\n",
    "dates = [d.strftime(\"%Y-%m-%d\") for d in pd.date_range(start=start_date, end=end_date, freq='1d')]\n",
    "# extract list of years in dates list\n",
    "years = list(set([d.split('-')[0] for d in dates]))\n",
    "years.sort()\n",
    "\n",
    "# sort dates by year\n",
    "for year in years:\n",
    "    # create sublist of dates for each year\n",
    "    dates_in_year = [d for d in dates if d.startswith(year)]\n",
    "\n",
    "    final_result = {'Freeflow': np.array(5, float),\n",
    "                    'Heavy': np.array(5, float),\n",
    "                    'Satur.': np.array(5, float),\n",
    "                    'St+Go': np.array(5, float), \n",
    "                    'St+Go2': np.array(5, float)}\n",
    "    \n",
    "    # calculate for each date in the year\n",
    "    for date in dates_in_year: \n",
    "        cl, vehicle_index = calculate_VKT(date = date,\n",
    "                                          visum_dict = visum.to_dict('records'),\n",
    "                                          cycles_obj = cycles,\n",
    "                                          hbefa_obj = hbefa)\n",
    "        \n",
    "        for key, value in cl.items():\n",
    "            final_result[key] = final_result[key] + value\n",
    "    vkt_result.update({year:final_result})"
   ]
  },
  {
   "cell_type": "code",
   "execution_count": 15,
   "id": "8a71e020",
   "metadata": {},
   "outputs": [
    {
     "data": {
      "text/html": [
       "<div>\n",
       "<style scoped>\n",
       "    .dataframe tbody tr th:only-of-type {\n",
       "        vertical-align: middle;\n",
       "    }\n",
       "\n",
       "    .dataframe tbody tr th {\n",
       "        vertical-align: top;\n",
       "    }\n",
       "\n",
       "    .dataframe thead th {\n",
       "        text-align: right;\n",
       "    }\n",
       "</style>\n",
       "<table border=\"1\" class=\"dataframe\">\n",
       "  <thead>\n",
       "    <tr style=\"text-align: right;\">\n",
       "      <th></th>\n",
       "      <th>Freeflow</th>\n",
       "      <th>Heavy</th>\n",
       "      <th>Satur.</th>\n",
       "      <th>St+Go</th>\n",
       "      <th>St+Go2</th>\n",
       "    </tr>\n",
       "  </thead>\n",
       "  <tbody>\n",
       "    <tr>\n",
       "      <th>2019</th>\n",
       "      <td>0.600648</td>\n",
       "      <td>0.220443</td>\n",
       "      <td>0.142288</td>\n",
       "      <td>0.026778</td>\n",
       "      <td>0.009842</td>\n",
       "    </tr>\n",
       "  </tbody>\n",
       "</table>\n",
       "</div>"
      ],
      "text/plain": [
       "      Freeflow     Heavy    Satur.     St+Go    St+Go2\n",
       "2019  0.600648  0.220443  0.142288  0.026778  0.009842"
      ]
     },
     "execution_count": 15,
     "metadata": {},
     "output_type": "execute_result"
    }
   ],
   "source": [
    "# calculate LOS share for the respective year\n",
    "los_class_vkt = pd.DataFrame()\n",
    "for key, item in vkt_result.items(): \n",
    "    df = pd.DataFrame(data=item, index = vehicle_index).sum(axis = 0)\n",
    "    df.name = key\n",
    "    los_class_vkt = pd.concat([los_class_vkt, df], axis = 1)\n",
    "\n",
    "los_class_vkt = los_class_vkt.transpose() \n",
    "los_class_vkt = los_class_vkt.divide(los_class_vkt.sum(axis=1), axis =0)\n",
    "los_class_vkt"
   ]
  },
  {
   "cell_type": "code",
   "execution_count": 16,
   "id": "9000a4d3",
   "metadata": {},
   "outputs": [],
   "source": [
    "#vkt_2019_nominal = los_class_vkt\n",
    "#vkt_2019_minus10 = los_class_vkt\n",
    "vkt_2019_plus10 = los_class_vkt"
   ]
  },
  {
   "cell_type": "code",
   "execution_count": 17,
   "id": "937c77ae",
   "metadata": {},
   "outputs": [],
   "source": [
    "vkt_final = pd.concat([vkt_2019_nominal, vkt_2019_minus10, vkt_2019_plus10])"
   ]
  },
  {
   "cell_type": "code",
   "execution_count": 18,
   "id": "35159b97",
   "metadata": {},
   "outputs": [
    {
     "data": {
      "text/html": [
       "<div>\n",
       "<style scoped>\n",
       "    .dataframe tbody tr th:only-of-type {\n",
       "        vertical-align: middle;\n",
       "    }\n",
       "\n",
       "    .dataframe tbody tr th {\n",
       "        vertical-align: top;\n",
       "    }\n",
       "\n",
       "    .dataframe thead th {\n",
       "        text-align: right;\n",
       "    }\n",
       "</style>\n",
       "<table border=\"1\" class=\"dataframe\">\n",
       "  <thead>\n",
       "    <tr style=\"text-align: right;\">\n",
       "      <th></th>\n",
       "      <th>Freeflow</th>\n",
       "      <th>Heavy</th>\n",
       "      <th>Satur.</th>\n",
       "      <th>St+Go</th>\n",
       "      <th>St+Go2</th>\n",
       "    </tr>\n",
       "  </thead>\n",
       "  <tbody>\n",
       "    <tr>\n",
       "      <th>2019</th>\n",
       "      <td>0.533783</td>\n",
       "      <td>0.225212</td>\n",
       "      <td>0.162909</td>\n",
       "      <td>0.055798</td>\n",
       "      <td>0.022297</td>\n",
       "    </tr>\n",
       "    <tr>\n",
       "      <th>2019</th>\n",
       "      <td>0.465626</td>\n",
       "      <td>0.216708</td>\n",
       "      <td>0.175684</td>\n",
       "      <td>0.082419</td>\n",
       "      <td>0.059563</td>\n",
       "    </tr>\n",
       "    <tr>\n",
       "      <th>2019</th>\n",
       "      <td>0.600648</td>\n",
       "      <td>0.220443</td>\n",
       "      <td>0.142288</td>\n",
       "      <td>0.026778</td>\n",
       "      <td>0.009842</td>\n",
       "    </tr>\n",
       "  </tbody>\n",
       "</table>\n",
       "</div>"
      ],
      "text/plain": [
       "      Freeflow     Heavy    Satur.     St+Go    St+Go2\n",
       "2019  0.533783  0.225212  0.162909  0.055798  0.022297\n",
       "2019  0.465626  0.216708  0.175684  0.082419  0.059563\n",
       "2019  0.600648  0.220443  0.142288  0.026778  0.009842"
      ]
     },
     "execution_count": 18,
     "metadata": {},
     "output_type": "execute_result"
    }
   ],
   "source": [
    "vkt_final"
   ]
  },
  {
   "cell_type": "code",
   "execution_count": null,
   "id": "4eeadf1a",
   "metadata": {},
   "outputs": [],
   "source": []
  }
 ],
 "metadata": {
  "kernelspec": {
   "display_name": "drive-inventory",
   "language": "python",
   "name": "python3"
  },
  "language_info": {
   "codemirror_mode": {
    "name": "ipython",
    "version": 3
   },
   "file_extension": ".py",
   "mimetype": "text/x-python",
   "name": "python",
   "nbconvert_exporter": "python",
   "pygments_lexer": "ipython3",
   "version": "3.13.2"
  }
 },
 "nbformat": 4,
 "nbformat_minor": 5
}
