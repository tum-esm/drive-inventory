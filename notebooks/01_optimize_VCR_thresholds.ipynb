{
 "cells": [
  {
   "cell_type": "markdown",
   "metadata": {},
   "source": [
    "*Technical University of Munich<br>\n",
    "Professorship of Environmental Sensing and Modeling<br><br>*\n",
    "**Author:**  Daniel Kühbacher<br>\n",
    "**Date:**  30.08.2024\n",
    "\n",
    "--- \n",
    "\n",
    "# Optimize volume-capacity thresholds\n",
    "\n",
    "<!--Notebook description and usage information-->\n",
    "As road link capacities in traffic models are often adjusted during calibration, vc-thresholds cannot be universally applied and must be carefully reviewed for each specific application. Furthermore, in urban areas, traffic flow is more often limited by the capacity of intersections than by the road links between them. Intersections, where traffic merges and is controlled, tend to create bottlenecks, making them the main factor in determining the traffic condition. Finally, errors can occur when exporting the results of traffic models. For instance, the capacity may refer to both directions combined, but the export shows two separate links, each of which was incorrectly assigned the total capacity. Therefore, it is inevitable to validate and optimize the vc-thresholds applied.</br>\n",
    "\n",
    "The following script is used to manually optimize the vcr thresholds to reach a traget distribution of vehicle kilometers travelled (VKT) across different traffic conditions. A reference distribution for urban roads in Germany is available in Schmaus et. al (2023). The steps required to conduct the optimization are: \n",
    "1. Define variable `optimize_road_type` to subselect one road type for optimization.\n",
    "2. Explicitely define the `vcr_thresholds` and initialize a hbefa object with these thresholds.\n",
    "3. Calculate VKT and traffic condition on the given road type using the defined vcr thresholds.\n",
    "4. Iteratively optimize vcr thresholds until the targeted distribution is achieved (see plot below): Change and run notebook settings, run calculation and run plotting\n",
    "5. Continue step 1 to 4 for other road types.\n",
    "6. Add optimized vcr thresholds as default to the hbefa class. \n",
    "\n",
    "### References\n",
    "Schmaus, M., Bawidamann, J., Friedrich, M., Haberl, M., Trenkwalder, L., Fellendorf, M., Uhlig, J., Lohse, R., and Pestel, E.: Flüssiger\n",
    "Verkehr für Klimaschutz und Luftreinhaltung, Final report 14/2023, Umweltbundesamt (UBA), 2023.70"
   ]
  },
  {
   "cell_type": "code",
   "execution_count": 1,
   "metadata": {},
   "outputs": [],
   "source": [
    "# import libraries\n",
    "\n",
    "import sys\n",
    "import warnings\n",
    "import os\n",
    "os.environ['USE_PYGEOS'] = '0'\n",
    "\n",
    "import pandas as pd\n",
    "import numpy as np\n",
    "import geopandas as gpd\n",
    "import matplotlib.pyplot as plt\n",
    "from datetime import datetime\n",
    "\n",
    "\n",
    "sys.path.append('../utils')\n",
    "import data_paths\n",
    "from traffic_counts import TrafficCounts\n",
    "from hbefa_hot_emissions import HbefaHotEmissions\n",
    "from calculate_vkt import calculate_VKT\n",
    "\n",
    "warnings.filterwarnings(\"ignore\")\n",
    "\n",
    "# Reload local modules on changes\n",
    "%reload_ext autoreload\n",
    "%autoreload 2"
   ]
  },
  {
   "cell_type": "markdown",
   "metadata": {},
   "source": [
    "# Notebook Settings"
   ]
  },
  {
   "cell_type": "code",
   "execution_count": 2,
   "metadata": {},
   "outputs": [],
   "source": [
    "# Define start and end time for emission calculation. Ideally this should cover a whole year.\n",
    "start_date = datetime(2019, 1, 1)\n",
    "end_date = datetime(2019, 12, 31)\n",
    "\n",
    "# define filename of the visum file\n",
    "visum_filename = \"visum_links.GPKG\"\n",
    "\n",
    "# if True, the script will only process the area within the ROI defined by roi_polygon\n",
    "clip_to_area = False # use largest possible area to optimize the vcr thresholds\n",
    "roi_polygon = data_paths.MUNICH_BOARDERS_FILE # defines ROI for clipping"
   ]
  },
  {
   "cell_type": "markdown",
   "metadata": {
    "vscode": {
     "languageId": "sql"
    }
   },
   "source": [
    "## Import data"
   ]
  },
  {
   "cell_type": "code",
   "execution_count": 3,
   "metadata": {},
   "outputs": [],
   "source": [
    "# import visum model, clip it to the ROI, and initialize cycles object\n",
    "\n",
    "# import visum model\n",
    "visum = gpd.read_file(data_paths.VISUM_FOLDER_PATH + visum_filename)\n",
    "\n",
    "if clip_to_area:\n",
    "    roi = gpd.read_file(roi_polygon).to_crs(visum.crs)\n",
    "    visum = gpd.clip(visum, roi)\n",
    "    visum = visum.explode(ignore_index=True) # convert multipolygons to polygons\n",
    "\n",
    "#visum = visum_links\n",
    "visum = visum.reset_index(drop = True).reset_index() # reset index for calculation\n",
    "visum['road_lenght'] = visum['geometry'].length # add road length to visum dict\n",
    "\n",
    "# initialize traffic cycles\n",
    "cycles = TrafficCounts(init_timeprofile=False)"
   ]
  },
  {
   "cell_type": "markdown",
   "metadata": {},
   "source": [
    "# Adapt optimization thresholds"
   ]
  },
  {
   "cell_type": "code",
   "execution_count": null,
   "metadata": {},
   "outputs": [],
   "source": [
    "# define which road type to optimize for\n",
    "optimize_road_type = 'Motorway-Nat'\n",
    "\n",
    "# define hbefa service thresholds\n",
    "vcr_thresholds = {'Motorway-Nat': [0.5, 0.71, 0.98, 1.1],\n",
    "                  'Motorway-City': [0.55, 0.71, 0.98, 1.1], # not used\n",
    "                  'TrunkRoad/Primary-National': [0.33, 0.5, 0.7, 0.8],\n",
    "                  'TrunkRoad/Primary-City': [0.67, 0.82, 0.92, 1.02],\n",
    "                  'Distributor/Secondary': [0.37, 0.5, 0.63, 0.8],\n",
    "                  'Local/Collector': [0.55, 0.75, 0.9, 1], # not used\n",
    "                  'Access-residential': [0.14, 0.25, 0.39, 0.52]}\n",
    "\n",
    "# initialize HBEFA emission factors using the service thresholds\n",
    "hbefa = HbefaHotEmissions()\n",
    "\n",
    "# apply service thresholds as defined in the notebook setting\n",
    "hbefa.vcr_thresholds = vcr_thresholds"
   ]
  },
  {
   "cell_type": "markdown",
   "metadata": {},
   "source": [
    "# Calculate VKT for each vehicle class and traffic condition"
   ]
  },
  {
   "cell_type": "code",
   "execution_count": 5,
   "metadata": {},
   "outputs": [],
   "source": [
    "#reduce to target road type and caclulate VKT for each day in the timeframe of interest \n",
    "\n",
    "# reduce the visum model to the road type of interest\n",
    "visum_mw = visum[visum['road_type'] == optimize_road_type]#.sample(3000)\n",
    "\n",
    "# generate dates index\n",
    "dates = [d.strftime(\"%Y-%m-%d\") for d in pd.date_range(start=start_date,\n",
    "                                                       end=end_date, freq='1d')]\n",
    "final_result = {'Freeflow': np.array(5, float),\n",
    "                'Heavy': np.array(5, float),\n",
    "                'Satur.': np.array(5, float),\n",
    "                'St+Go': np.array(5, float),\n",
    "                'St+Go2': np.array(5, float)}\n",
    "for date in dates:\n",
    "    cl, vehicle_index = calculate_VKT(date = date,\n",
    "                                      visum_dict = visum_mw.to_dict('records'),\n",
    "                                      cycles_obj = cycles,\n",
    "                                      hbefa_obj = hbefa)\n",
    "\n",
    "    for key, value in cl.items():\n",
    "        final_result[key] = final_result[key] + value\n",
    "\n",
    "# convert results to dataframe\n",
    "result_df = pd.DataFrame(final_result, index = vehicle_index)"
   ]
  },
  {
   "cell_type": "markdown",
   "metadata": {},
   "source": [
    "# Plot VKT share across in all traffic conditions\n",
    "\n",
    "Only the traffic condition and for PC is used in the plot below"
   ]
  },
  {
   "cell_type": "code",
   "execution_count": null,
   "metadata": {},
   "outputs": [],
   "source": [
    "# calculate the share for each traffic condition and plot the results\n",
    "\n",
    "# calculate the share of vkt for each level of service\n",
    "total_vkt = result_df.loc['PC'].sum().sum()\n",
    "vkt_share = (result_df.loc['PC'] / total_vkt)*100\n",
    "\n",
    "fig, ax = plt.subplots(figsize =(6,4), tight_layout =True)\n",
    "\n",
    "vkt_share.plot(ax = ax, kind='bar')\n",
    "\n",
    "plt.title('VKT share in different traffic situations', fontsize = 12)\n",
    "\n",
    "y_labels = ax.get_yticks()\n",
    "y_labels = [f'{label:.0f} %' for label in y_labels]\n",
    "ax.set_xticklabels(labels = ax.get_xticklabels(), rotation=0, fontsize = 10)\n",
    "ax.set_yticklabels(labels = y_labels, fontsize= 10)\n",
    "ax.set_ylabel('LOS Share [%]', fontsize = 12)\n",
    "\n",
    "for i in range(len(vkt_share)):\n",
    "        plt.text(i, vkt_share[i]+1, f'{vkt_share[i]:.1f} % ', ha = 'center')\n",
    "\n",
    "plt.ylim(0, vkt_share.max()+5)\n",
    "plt.show()"
   ]
  }
 ],
 "metadata": {
  "kernelspec": {
   "display_name": ".venv",
   "language": "python",
   "name": "python3"
  },
  "language_info": {
   "codemirror_mode": {
    "name": "ipython",
    "version": 3
   },
   "file_extension": ".py",
   "mimetype": "text/x-python",
   "name": "python",
   "nbconvert_exporter": "python",
   "pygments_lexer": "ipython3",
   "version": "3.11.5"
  }
 },
 "nbformat": 4,
 "nbformat_minor": 2
}
